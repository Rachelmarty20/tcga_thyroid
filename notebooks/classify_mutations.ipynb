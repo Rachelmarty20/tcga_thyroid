{
 "cells": [
  {
   "cell_type": "markdown",
   "metadata": {},
   "source": [
    "#Classify Mutations"
   ]
  },
  {
   "cell_type": "markdown",
   "metadata": {},
   "source": [
    "This script takes the feature vectors as input and uses a random forest classifer to separate the mutations as cancer-causing or passenger. "
   ]
  },
  {
   "cell_type": "code",
   "execution_count": 188,
   "metadata": {
    "collapsed": false
   },
   "outputs": [
    {
     "name": "stdout",
     "output_type": "stream",
     "text": [
      "Populating the interactive namespace from numpy and matplotlib\n"
     ]
    }
   ],
   "source": [
    "%pylab inline\n",
    "import pandas as pd\n",
    "import numpy as np\n",
    "import os\n",
    "import sklearn as sk\n",
    "from sklearn.cluster import AffinityPropagation\n",
    "from sklearn import datasets\n",
    "from sklearn import metrics\n",
    "from multiprocessing import Pool\n",
    "from sklearn.ensemble import RandomForestClassifier\n",
    "from sklearn.externals import joblib\n",
    "from sklearn.decomposition import PCA\n",
    "import matplotlib.cm as cm"
   ]
  },
  {
   "cell_type": "code",
   "execution_count": 133,
   "metadata": {
    "collapsed": false
   },
   "outputs": [],
   "source": [
    "cancer_feature_vector = pd.read_csv('../data_frames/cancer_feature_vector_tcga.csv', index_col=0)\n",
    "neutral_feature_vector = pd.read_csv('../data_frames/neutral_feature_vector_tcga.csv', index_col=0)\n",
    "cancer_feature_vector_training = pd.read_csv('../data_frames/cancer_feature_vector_tcga_training.csv', index_col=0)\n",
    "neutral_feature_vector_training = pd.read_csv('../data_frames/neutral_feature_vector_tcga_training.csv', index_col=0)\n",
    "cancer_feature_vector_validation = pd.read_csv('../data_frames/cancer_feature_vector_tcga_validation.csv', index_col=0)\n",
    "neutral_feature_vector_validation = pd.read_csv('../data_frames/neutral_feature_vector_tcga_validation.csv', index_col=0)"
   ]
  },
  {
   "cell_type": "markdown",
   "metadata": {},
   "source": [
    "using whole set"
   ]
  },
  {
   "cell_type": "code",
   "execution_count": 134,
   "metadata": {
    "collapsed": false
   },
   "outputs": [],
   "source": [
    "cancer_feature_vector = cancer_feature_vector.fillna(0)\n",
    "cancer_matrix = cancer_feature_vector.values[:,1:].astype(float32)\n",
    "neutral_feature_vector = neutral_feature_vector.fillna(0)\n",
    "neutral_matrix = neutral_feature_vector.values[:,1:].astype(float32)\n",
    "both_matrix = np.concatenate((cancer_matrix, neutral_matrix), axis=0)\n",
    "assignments = [1 for gene in range(len(cancer_matrix))] + [0 for gene in range(len(neutral_matrix))]\n",
    "#print both_matrix\n",
    "#print assignments"
   ]
  },
  {
   "cell_type": "markdown",
   "metadata": {},
   "source": [
    "training set"
   ]
  },
  {
   "cell_type": "code",
   "execution_count": 135,
   "metadata": {
    "collapsed": true
   },
   "outputs": [],
   "source": [
    "cancer_feature_vector_training = cancer_feature_vector_training.fillna(0)\n",
    "cancer_matrix = cancer_feature_vector_training.values[:,1:].astype(float32)\n",
    "neutral_feature_vector_training = neutral_feature_vector_training.fillna(0)\n",
    "neutral_matrix = neutral_feature_vector_training.values[:,1:].astype(float32)\n",
    "training_matrix = np.concatenate((cancer_matrix, neutral_matrix), axis=0)\n",
    "training_assignments = [1 for gene in range(len(cancer_matrix))] + [0 for gene in range(len(neutral_matrix))]"
   ]
  },
  {
   "cell_type": "markdown",
   "metadata": {},
   "source": [
    "validation set"
   ]
  },
  {
   "cell_type": "code",
   "execution_count": 137,
   "metadata": {
    "collapsed": true
   },
   "outputs": [],
   "source": [
    "cancer_feature_vector_validation = cancer_feature_vector_validation.fillna(0)\n",
    "cancer_matrix = cancer_feature_vector_validation.values[:,1:].astype(float32)\n",
    "neutral_feature_vector_validation = neutral_feature_vector_validation.fillna(0)\n",
    "neutral_matrix = neutral_feature_vector_validation.values[:,1:].astype(float32)\n",
    "validation_matrix = np.concatenate((cancer_matrix, neutral_matrix), axis=0)\n",
    "validation_key = [1 for gene in range(len(cancer_matrix))] + [0 for gene in range(len(neutral_matrix))]"
   ]
  },
  {
   "cell_type": "code",
   "execution_count": 139,
   "metadata": {
    "collapsed": true
   },
   "outputs": [],
   "source": [
    "# create mutations array to predict upon\n",
    "tcga_feature_vector = pd.read_csv('../data_frames/tcga_feature_vector.csv', index_col=0)\n",
    "tcga_feature_vector = tcga_feature_vector.fillna(0)\n",
    "tcga_matrix = tcga_feature_vector.values[:,1:].astype(float32)"
   ]
  },
  {
   "cell_type": "code",
   "execution_count": 140,
   "metadata": {
    "collapsed": false,
    "scrolled": true
   },
   "outputs": [
    {
     "data": {
      "text/html": [
       "<div style=\"max-height:1000px;max-width:1500px;overflow:auto;\">\n",
       "<table border=\"1\" class=\"dataframe\">\n",
       "  <thead>\n",
       "    <tr style=\"text-align: right;\">\n",
       "      <th></th>\n",
       "      <th>SNP</th>\n",
       "      <th>counts</th>\n",
       "      <th>Perc_Bi_Allelic</th>\n",
       "      <th>Density</th>\n",
       "    </tr>\n",
       "  </thead>\n",
       "  <tbody>\n",
       "    <tr>\n",
       "      <th>0  </th>\n",
       "      <td> 673_140453136</td>\n",
       "      <td> 480</td>\n",
       "      <td> 0.508333</td>\n",
       "      <td> 1298.9</td>\n",
       "    </tr>\n",
       "    <tr>\n",
       "      <th>248</th>\n",
       "      <td> 673_140453135</td>\n",
       "      <td>   3</td>\n",
       "      <td> 0.333333</td>\n",
       "      <td> 1298.9</td>\n",
       "    </tr>\n",
       "    <tr>\n",
       "      <th>249</th>\n",
       "      <td> 673_140477840</td>\n",
       "      <td>   2</td>\n",
       "      <td> 0.500000</td>\n",
       "      <td> 1298.9</td>\n",
       "    </tr>\n",
       "    <tr>\n",
       "      <th>250</th>\n",
       "      <td> 673_140453193</td>\n",
       "      <td>   2</td>\n",
       "      <td> 0.500000</td>\n",
       "      <td> 1298.9</td>\n",
       "    </tr>\n",
       "    <tr>\n",
       "      <th>251</th>\n",
       "      <td> 673_140477827</td>\n",
       "      <td>   2</td>\n",
       "      <td> 0.500000</td>\n",
       "      <td> 1298.9</td>\n",
       "    </tr>\n",
       "  </tbody>\n",
       "</table>\n",
       "</div>"
      ],
      "text/plain": [
       "               SNP  counts  Perc_Bi_Allelic  Density\n",
       "0    673_140453136     480         0.508333   1298.9\n",
       "248  673_140453135       3         0.333333   1298.9\n",
       "249  673_140477840       2         0.500000   1298.9\n",
       "250  673_140453193       2         0.500000   1298.9\n",
       "251  673_140477827       2         0.500000   1298.9"
      ]
     },
     "execution_count": 140,
     "metadata": {},
     "output_type": "execute_result"
    }
   ],
   "source": [
    "tcga_feature_vector.head()"
   ]
  },
  {
   "cell_type": "code",
   "execution_count": 41,
   "metadata": {
    "collapsed": true
   },
   "outputs": [],
   "source": [
    "mr = pd.read_csv('../data_frames/mr.csv', index_col=0)\n",
    "hugo_entrez = mr[['Hugo_Symbol', 'Entrez_Gene_Id']]\n",
    "hugo_entrez = hugo_entrez.drop_duplicates()"
   ]
  },
  {
   "cell_type": "markdown",
   "metadata": {},
   "source": [
    "### Random Tree Classifier"
   ]
  },
  {
   "cell_type": "markdown",
   "metadata": {},
   "source": [
    "####Load an old classifier"
   ]
  },
  {
   "cell_type": "code",
   "execution_count": 223,
   "metadata": {
    "collapsed": false
   },
   "outputs": [],
   "source": [
    "clf = joblib.load('../classifiers/random_forest.pkl') "
   ]
  },
  {
   "cell_type": "markdown",
   "metadata": {},
   "source": [
    "####Or create a new one..."
   ]
  },
  {
   "cell_type": "code",
   "execution_count": 52,
   "metadata": {
    "collapsed": false
   },
   "outputs": [],
   "source": [
    "clf = RandomForestClassifier(n_estimators=100, min_samples_leaf=5)\n",
    "clf = clf.fit(training_matrix, training_assignments)"
   ]
  },
  {
   "cell_type": "code",
   "execution_count": 224,
   "metadata": {
    "collapsed": false
   },
   "outputs": [],
   "source": [
    "output = clf.predict(tcga_matrix)"
   ]
  },
  {
   "cell_type": "code",
   "execution_count": 225,
   "metadata": {
    "collapsed": false
   },
   "outputs": [],
   "source": [
    "probabilities = clf.predict_proba(tcga_matrix)"
   ]
  },
  {
   "cell_type": "code",
   "execution_count": 226,
   "metadata": {
    "collapsed": false
   },
   "outputs": [
    {
     "data": {
      "text/plain": [
       "array([ 0.25624301,  0.31      ,  0.41375699])"
      ]
     },
     "execution_count": 226,
     "metadata": {},
     "output_type": "execute_result"
    }
   ],
   "source": [
    "clf.feature_importances_"
   ]
  },
  {
   "cell_type": "code",
   "execution_count": 227,
   "metadata": {
    "collapsed": false,
    "scrolled": true
   },
   "outputs": [
    {
     "name": "stdout",
     "output_type": "stream",
     "text": [
      "19346\n",
      "638\n"
     ]
    }
   ],
   "source": [
    "print list(output).count(0)\n",
    "print list(output).count(1)"
   ]
  },
  {
   "cell_type": "code",
   "execution_count": 228,
   "metadata": {
    "collapsed": false
   },
   "outputs": [
    {
     "name": "stdout",
     "output_type": "stream",
     "text": [
      "[1, 1, 1, 1, 0, 0, 0, 0, 0, 0, 0, 0, 0, 0, 0, 0, 0, 0, 0, 0, 0, 0, 0, 0, 0, 0, 0, 0, 0, 0, 0, 0, 0, 0, 0, 0, 0, 0, 0, 0, 0, 0, 0, 0, 0, 0, 0, 0, 0, 0, 0, 0, 0, 0, 0, 0, 0, 0, 0, 0, 0, 0, 0, 0, 0, 0, 0, 0, 0, 0, 0, 0, 0, 0, 0, 0, 0, 0, 0, 0, 0, 0, 0, 0, 0, 0, 0, 0, 0, 0, 0, 0, 0, 0, 0, 0, 0]\n",
      "[1, 1, 1, 1, 0, 0, 0, 0, 0, 0, 0, 0, 0, 0, 0, 0, 0, 0, 0, 0, 0, 0, 0, 0, 0, 0, 0, 0, 0, 0, 0, 0, 0, 0, 0, 0, 0, 0, 0, 0, 0, 0, 0, 0, 0, 0, 0, 0, 0, 0, 0, 0, 0, 0, 0, 0, 0, 0, 0, 0, 0, 0, 0, 0, 0, 0, 0, 0, 0, 0, 0, 0, 0, 0, 0, 0, 0, 0, 0, 0, 0, 0, 0, 0, 0, 0, 0, 0, 0, 0, 0, 0, 0, 0, 0, 0, 0]\n"
     ]
    }
   ],
   "source": [
    "validation_predictions = clf.predict(validation_matrix)\n",
    "print list(validation_predictions)\n",
    "print validation_key"
   ]
  },
  {
   "cell_type": "code",
   "execution_count": 229,
   "metadata": {
    "collapsed": false
   },
   "outputs": [
    {
     "name": "stdout",
     "output_type": "stream",
     "text": [
      "1.0\n"
     ]
    }
   ],
   "source": [
    "total, same = 0, 0\n",
    "for index, classification in enumerate(validation_predictions):\n",
    "    total += 1\n",
    "    if validation_key[index] == validation_predictions[index]:\n",
    "        same += 1\n",
    "print float(same)/total"
   ]
  },
  {
   "cell_type": "code",
   "execution_count": 230,
   "metadata": {
    "collapsed": false
   },
   "outputs": [],
   "source": [
    "save = joblib.dump(clf, '../classifiers/random_forest.pkl') "
   ]
  },
  {
   "cell_type": "markdown",
   "metadata": {},
   "source": [
    "Perform principle component analysis"
   ]
  },
  {
   "cell_type": "code",
   "execution_count": 231,
   "metadata": {
    "collapsed": false,
    "scrolled": true
   },
   "outputs": [
    {
     "data": {
      "text/html": [
       "<div style=\"max-height:1000px;max-width:1500px;overflow:auto;\">\n",
       "<table border=\"1\" class=\"dataframe\">\n",
       "  <thead>\n",
       "    <tr style=\"text-align: right;\">\n",
       "      <th></th>\n",
       "      <th>SNP</th>\n",
       "      <th>counts</th>\n",
       "      <th>Perc_Bi_Allelic</th>\n",
       "      <th>Density</th>\n",
       "    </tr>\n",
       "  </thead>\n",
       "  <tbody>\n",
       "    <tr>\n",
       "      <th>0  </th>\n",
       "      <td> 673_140453136</td>\n",
       "      <td> 480</td>\n",
       "      <td> 0.508333</td>\n",
       "      <td> 1298.9</td>\n",
       "    </tr>\n",
       "    <tr>\n",
       "      <th>248</th>\n",
       "      <td> 673_140453135</td>\n",
       "      <td>   3</td>\n",
       "      <td> 0.333333</td>\n",
       "      <td> 1298.9</td>\n",
       "    </tr>\n",
       "    <tr>\n",
       "      <th>249</th>\n",
       "      <td> 673_140477840</td>\n",
       "      <td>   2</td>\n",
       "      <td> 0.500000</td>\n",
       "      <td> 1298.9</td>\n",
       "    </tr>\n",
       "    <tr>\n",
       "      <th>250</th>\n",
       "      <td> 673_140453193</td>\n",
       "      <td>   2</td>\n",
       "      <td> 0.500000</td>\n",
       "      <td> 1298.9</td>\n",
       "    </tr>\n",
       "    <tr>\n",
       "      <th>251</th>\n",
       "      <td> 673_140477827</td>\n",
       "      <td>   2</td>\n",
       "      <td> 0.500000</td>\n",
       "      <td> 1298.9</td>\n",
       "    </tr>\n",
       "  </tbody>\n",
       "</table>\n",
       "</div>"
      ],
      "text/plain": [
       "               SNP  counts  Perc_Bi_Allelic  Density\n",
       "0    673_140453136     480         0.508333   1298.9\n",
       "248  673_140453135       3         0.333333   1298.9\n",
       "249  673_140477840       2         0.500000   1298.9\n",
       "250  673_140453193       2         0.500000   1298.9\n",
       "251  673_140477827       2         0.500000   1298.9"
      ]
     },
     "execution_count": 231,
     "metadata": {},
     "output_type": "execute_result"
    }
   ],
   "source": [
    "tcga_feature_vector.head()"
   ]
  },
  {
   "cell_type": "code",
   "execution_count": 232,
   "metadata": {
    "collapsed": false
   },
   "outputs": [
    {
     "name": "stdout",
     "output_type": "stream",
     "text": [
      "[  9.99895671e-01   1.03045798e-04]\n"
     ]
    }
   ],
   "source": [
    "pca = PCA(n_components=2)\n",
    "pca.fit(tcga_feature_vector[['counts', 'Perc_Bi_Allelic', 'Density']])\n",
    "PCA(copy=True, n_components=2, whiten=False)\n",
    "print(pca.explained_variance_ratio_) "
   ]
  },
  {
   "cell_type": "code",
   "execution_count": 233,
   "metadata": {
    "collapsed": false
   },
   "outputs": [],
   "source": [
    "#X = np.concatenate((training_matrix, validation_matrix), axis=0)\n",
    "X = np.concatenate((training_matrix, validation_matrix), axis=0)[1:]\n",
    "#y = np.concatenate((training_assignments, validation_key), axis=0)\n",
    "y = np.concatenate((training_assignments, validation_key), axis=0)[1:]\n",
    "target_names = ['Driver', 'Passenger']"
   ]
  },
  {
   "cell_type": "code",
   "execution_count": 234,
   "metadata": {
    "collapsed": false,
    "scrolled": true
   },
   "outputs": [
    {
     "name": "stdout",
     "output_type": "stream",
     "text": [
      "explained variance ratio (first two components): [  9.99916553e-01   8.32683509e-05]\n"
     ]
    },
    {
     "data": {
      "image/png": "[encoded data removed]",
      "text/plain": [
       "<matplotlib.figure.Figure at 0x11372bed0>"
      ]
     },
     "metadata": {},
     "output_type": "display_data"
    }
   ],
   "source": [
    "pca = PCA(n_components=2)\n",
    "X_r = pca.fit(X).transform(X)\n",
    "\n",
    "lda = LDA(n_components=2)\n",
    "X_r2 = lda.fit(X, y).transform(X)\n",
    "\n",
    "# Percentage of variance explained for each components\n",
    "print('explained variance ratio (first two components): %s'\n",
    "      % str(pca.explained_variance_ratio_))\n",
    "\n",
    "plt.figure()\n",
    "for c, i, target_name in zip(\"bg\", [0, 1, 2], target_names):\n",
    "    plt.scatter(X_r[y == i, 0], X_r[y == i, 1], c=c, alpha=0.5, label=target_name, edgecolors='none')\n",
    "plt.legend(loc=4)\n",
    "plt.title('PCA')\n",
    "\n",
    "plt.show()"
   ]
  },
  {
   "cell_type": "code",
   "execution_count": 235,
   "metadata": {
    "collapsed": false
   },
   "outputs": [],
   "source": [
    "prob_df = pd.DataFrame(probabilities)"
   ]
  },
  {
   "cell_type": "code",
   "execution_count": 236,
   "metadata": {
    "collapsed": false
   },
   "outputs": [
    {
     "data": {
      "text/plain": [
       "<matplotlib.axes.AxesSubplot at 0x1137ad490>"
      ]
     },
     "execution_count": 236,
     "metadata": {},
     "output_type": "execute_result"
    },
    {
     "data": {
      "image/png": "[encoded data removed]",
      "text/plain": [
       "<matplotlib.figure.Figure at 0x112c3a210>"
      ]
     },
     "metadata": {},
     "output_type": "display_data"
    }
   ],
   "source": [
    "prob_df.columns = ['p_neutral', 'p_cancer']\n",
    "prob_df.head()\n",
    "prob_df.p_neutral.hist(bins=100)"
   ]
  },
  {
   "cell_type": "markdown",
   "metadata": {
    "collapsed": true
   },
   "source": [
    "###Look at difference between positive and negative features"
   ]
  },
  {
   "cell_type": "code",
   "execution_count": 237,
   "metadata": {
    "collapsed": false,
    "scrolled": true
   },
   "outputs": [
    {
     "data": {
      "text/html": [
       "<div style=\"max-height:1000px;max-width:1500px;overflow:auto;\">\n",
       "<table border=\"1\" class=\"dataframe\">\n",
       "  <thead>\n",
       "    <tr style=\"text-align: right;\">\n",
       "      <th></th>\n",
       "      <th>counts</th>\n",
       "      <th>Perc_Bi_Allelic</th>\n",
       "      <th>Density</th>\n",
       "    </tr>\n",
       "  </thead>\n",
       "  <tbody>\n",
       "    <tr>\n",
       "      <th>count</th>\n",
       "      <td>  14.000000</td>\n",
       "      <td> 14.000000</td>\n",
       "      <td>   14.000000</td>\n",
       "    </tr>\n",
       "    <tr>\n",
       "      <th>mean</th>\n",
       "      <td>  42.714286</td>\n",
       "      <td>  0.432143</td>\n",
       "      <td> 1604.807143</td>\n",
       "    </tr>\n",
       "    <tr>\n",
       "      <th>std</th>\n",
       "      <td> 126.683997</td>\n",
       "      <td>  0.183417</td>\n",
       "      <td>  258.092892</td>\n",
       "    </tr>\n",
       "    <tr>\n",
       "      <th>min</th>\n",
       "      <td>   1.000000</td>\n",
       "      <td>  0.000000</td>\n",
       "      <td> 1035.300000</td>\n",
       "    </tr>\n",
       "    <tr>\n",
       "      <th>25%</th>\n",
       "      <td>   2.000000</td>\n",
       "      <td>  0.500000</td>\n",
       "      <td> 1388.700000</td>\n",
       "    </tr>\n",
       "    <tr>\n",
       "      <th>50%</th>\n",
       "      <td>   3.000000</td>\n",
       "      <td>  0.500000</td>\n",
       "      <td> 1736.600000</td>\n",
       "    </tr>\n",
       "    <tr>\n",
       "      <th>75%</th>\n",
       "      <td>  12.000000</td>\n",
       "      <td>  0.500000</td>\n",
       "      <td> 1794.800000</td>\n",
       "    </tr>\n",
       "    <tr>\n",
       "      <th>max</th>\n",
       "      <td> 480.000000</td>\n",
       "      <td>  0.541667</td>\n",
       "      <td> 1824.500000</td>\n",
       "    </tr>\n",
       "  </tbody>\n",
       "</table>\n",
       "</div>"
      ],
      "text/plain": [
       "           counts  Perc_Bi_Allelic      Density\n",
       "count   14.000000        14.000000    14.000000\n",
       "mean    42.714286         0.432143  1604.807143\n",
       "std    126.683997         0.183417   258.092892\n",
       "min      1.000000         0.000000  1035.300000\n",
       "25%      2.000000         0.500000  1388.700000\n",
       "50%      3.000000         0.500000  1736.600000\n",
       "75%     12.000000         0.500000  1794.800000\n",
       "max    480.000000         0.541667  1824.500000"
      ]
     },
     "execution_count": 237,
     "metadata": {},
     "output_type": "execute_result"
    }
   ],
   "source": [
    "cancer_feature_vector.describe()"
   ]
  },
  {
   "cell_type": "code",
   "execution_count": 238,
   "metadata": {
    "collapsed": false
   },
   "outputs": [
    {
     "data": {
      "text/html": [
       "<div style=\"max-height:1000px;max-width:1500px;overflow:auto;\">\n",
       "<table border=\"1\" class=\"dataframe\">\n",
       "  <thead>\n",
       "    <tr style=\"text-align: right;\">\n",
       "      <th></th>\n",
       "      <th>counts</th>\n",
       "      <th>Perc_Bi_Allelic</th>\n",
       "      <th>Density</th>\n",
       "    </tr>\n",
       "  </thead>\n",
       "  <tbody>\n",
       "    <tr>\n",
       "      <th>count</th>\n",
       "      <td> 113.000000</td>\n",
       "      <td> 113.000000</td>\n",
       "      <td>  113.000000</td>\n",
       "    </tr>\n",
       "    <tr>\n",
       "      <th>mean</th>\n",
       "      <td>   1.477876</td>\n",
       "      <td>   0.969027</td>\n",
       "      <td>  152.095575</td>\n",
       "    </tr>\n",
       "    <tr>\n",
       "      <th>std</th>\n",
       "      <td>   0.877266</td>\n",
       "      <td>   0.167481</td>\n",
       "      <td>  290.008532</td>\n",
       "    </tr>\n",
       "    <tr>\n",
       "      <th>min</th>\n",
       "      <td>   1.000000</td>\n",
       "      <td>   0.000000</td>\n",
       "      <td>    0.000000</td>\n",
       "    </tr>\n",
       "    <tr>\n",
       "      <th>25%</th>\n",
       "      <td>   1.000000</td>\n",
       "      <td>   1.000000</td>\n",
       "      <td>    0.000000</td>\n",
       "    </tr>\n",
       "    <tr>\n",
       "      <th>50%</th>\n",
       "      <td>   1.000000</td>\n",
       "      <td>   1.000000</td>\n",
       "      <td>    0.000000</td>\n",
       "    </tr>\n",
       "    <tr>\n",
       "      <th>75%</th>\n",
       "      <td>   2.000000</td>\n",
       "      <td>   1.000000</td>\n",
       "      <td>  178.600000</td>\n",
       "    </tr>\n",
       "    <tr>\n",
       "      <th>max</th>\n",
       "      <td>   6.000000</td>\n",
       "      <td>   1.000000</td>\n",
       "      <td> 1296.600000</td>\n",
       "    </tr>\n",
       "  </tbody>\n",
       "</table>\n",
       "</div>"
      ],
      "text/plain": [
       "           counts  Perc_Bi_Allelic      Density\n",
       "count  113.000000       113.000000   113.000000\n",
       "mean     1.477876         0.969027   152.095575\n",
       "std      0.877266         0.167481   290.008532\n",
       "min      1.000000         0.000000     0.000000\n",
       "25%      1.000000         1.000000     0.000000\n",
       "50%      1.000000         1.000000     0.000000\n",
       "75%      2.000000         1.000000   178.600000\n",
       "max      6.000000         1.000000  1296.600000"
      ]
     },
     "execution_count": 238,
     "metadata": {},
     "output_type": "execute_result"
    }
   ],
   "source": [
    "neutral_feature_vector.describe()"
   ]
  },
  {
   "cell_type": "code",
   "execution_count": 239,
   "metadata": {
    "collapsed": false
   },
   "outputs": [
    {
     "data": {
      "text/plain": [
       "<matplotlib.axes.AxesSubplot at 0x11370b490>"
      ]
     },
     "execution_count": 239,
     "metadata": {},
     "output_type": "execute_result"
    },
    {
     "data": {
      "image/png": "[encoded data removed]",
      "text/plain": [
       "<matplotlib.figure.Figure at 0x113863890>"
      ]
     },
     "metadata": {},
     "output_type": "display_data"
    }
   ],
   "source": [
    "cancer_feature_vector.counts.plot(alpha=0.3)\n",
    "neutral_feature_vector.counts.plot(alpha=0.3)"
   ]
  },
  {
   "cell_type": "code",
   "execution_count": 240,
   "metadata": {
    "collapsed": false
   },
   "outputs": [
    {
     "data": {
      "text/plain": [
       "<matplotlib.axes.AxesSubplot at 0x1136bf810>"
      ]
     },
     "execution_count": 240,
     "metadata": {},
     "output_type": "execute_result"
    },
    {
     "data": {
      "image/png": "[encoded data removed]",
      "text/plain": [
       "<matplotlib.figure.Figure at 0x113a64c50>"
      ]
     },
     "metadata": {},
     "output_type": "display_data"
    }
   ],
   "source": [
    "cancer_feature_vector.Perc_Bi_Allelic.hist(normed=True, alpha=0.3, bins=100)\n",
    "neutral_feature_vector.Perc_Bi_Allelic.hist(normed=True, alpha=0.3, bins=100)"
   ]
  },
  {
   "cell_type": "code",
   "execution_count": 241,
   "metadata": {
    "collapsed": false,
    "scrolled": false
   },
   "outputs": [
    {
     "data": {
      "text/plain": [
       "<matplotlib.legend.Legend at 0x1146d3c50>"
      ]
     },
     "execution_count": 241,
     "metadata": {},
     "output_type": "execute_result"
    },
    {
     "data": {
      "image/png": "[encoded data removed]",
      "text/plain": [
       "<matplotlib.figure.Figure at 0x114437c50>"
      ]
     },
     "metadata": {},
     "output_type": "display_data"
    }
   ],
   "source": [
    "ax = cancer_feature_vector.Density.hist(normed=True, alpha=0.5, color='b', label='Driver')\n",
    "neutral_feature_vector.Density.hist(normed=True, alpha=0.5, ax=ax, color='g', label='Passenger')\n",
    "ax.set_xlabel(\"Density\")\n",
    "ax.set_ylabel(\"Frequency\")\n",
    "patches, labels = ax.get_legend_handles_labels()\n",
    "ax.legend(patches, labels, loc=9)"
   ]
  },
  {
   "cell_type": "code",
   "execution_count": 242,
   "metadata": {
    "collapsed": false
   },
   "outputs": [
    {
     "data": {
      "text/plain": [
       "<matplotlib.legend.Legend at 0x1134a4250>"
      ]
     },
     "execution_count": 242,
     "metadata": {},
     "output_type": "execute_result"
    },
    {
     "data": {
      "image/png": "[encoded data removed]",
      "text/plain": [
       "<matplotlib.figure.Figure at 0x112f76d50>"
      ]
     },
     "metadata": {},
     "output_type": "display_data"
    }
   ],
   "source": [
    "ax = cancer_feature_vector.plot(kind='scatter', y='Perc_Bi_Allelic', x='Density',\n",
    "                                        color='b', alpha=0.5, label='Driver')\n",
    "\n",
    "neutral_feature_vector.plot(kind='scatter', y='Perc_Bi_Allelic', x='Density',\n",
    "                                        color='g', alpha=0.5, label='Passenger', ax=ax)\n",
    "patches, labels = ax.get_legend_handles_labels()\n",
    "ax.legend(patches, labels, loc=3)"
   ]
  },
  {
   "cell_type": "code",
   "execution_count": 243,
   "metadata": {
    "collapsed": false
   },
   "outputs": [
    {
     "data": {
      "text/plain": [
       "<matplotlib.axes.AxesSubplot at 0x114a9dd10>"
      ]
     },
     "execution_count": 243,
     "metadata": {},
     "output_type": "execute_result"
    },
    {
     "data": {
      "image/png": "[encoded data removed]",
      "text/plain": [
       "<matplotlib.figure.Figure at 0x1136296d0>"
      ]
     },
     "metadata": {},
     "output_type": "display_data"
    }
   ],
   "source": [
    "ax = cancer_feature_vector_training.plot(kind='scatter', x='counts', y='Density',\n",
    "                                        color='DarkBlue', label='Cancer traning')\n",
    "neutral_feature_vector_training.plot(kind='scatter', x='counts', y='Density',\n",
    "                                        color='LightGreen', label='Neutral training', ax=ax)\n",
    "neutral_feature_vector_validation.plot(kind='scatter', x='counts', y='Density',\n",
    "                                        color='LightGreen', label='Neutral validation', ax=ax)\n",
    "cancer_feature_vector_validation.plot(kind='scatter', x='counts', y='Density',\n",
    "                                        color='DarkBlue', label='Cancer validation', ax=ax)"
   ]
  },
  {
   "cell_type": "code",
   "execution_count": 244,
   "metadata": {
    "collapsed": false,
    "scrolled": true
   },
   "outputs": [
    {
     "data": {
      "text/plain": [
       "<matplotlib.axes.AxesSubplot at 0x114a33690>"
      ]
     },
     "execution_count": 244,
     "metadata": {},
     "output_type": "execute_result"
    },
    {
     "data": {
      "image/png": "[encoded data removed]",
      "text/plain": [
       "<matplotlib.figure.Figure at 0x113a64210>"
      ]
     },
     "metadata": {},
     "output_type": "display_data"
    }
   ],
   "source": [
    "ax = cancer_feature_vector.plot(kind='scatter', x='Perc_Bi_Allelic', y='counts',\n",
    "                                        color='DarkBlue', label='Cancer', alpha=0.3)\n",
    "neutral_feature_vector.plot(kind='scatter', x='Perc_Bi_Allelic', y='counts',\n",
    "                                        color='LightGreen', label='Neutral', ax=ax, alpha=0.3)\n",
    "#cancer_feature_vector.plot(kind='scatter', x='Perc_Bi_Allelic', y='counts',\n",
    "#                                        color='DarkBlue', label='Cancer', ax=ax)\n",
    "#neutral_feature_vector_validation.plot(kind='scatter', x='Perc_Bi_Allelic', y='counts',\n",
    "#                                        color='LightGreen', label='Neutral', ax=ax)\n",
    "#cancer_feature_vector_validation.plot(kind='scatter', x='Perc_Bi_Allelic', y='counts',\n",
    "#                                        color='LightBlue', label='Cancer', ax=ax)"
   ]
  },
  {
   "cell_type": "code",
   "execution_count": 245,
   "metadata": {
    "collapsed": true
   },
   "outputs": [],
   "source": [
    "def simplify(x):\n",
    "    a = x.split(\"_\")\n",
    "    return a[0]\n",
    "def get_loc(x):\n",
    "    c = x.split(\":\")\n",
    "    s = c[1].split(\"-\")\n",
    "    return s[0]\n",
    "def combine(x):\n",
    "    gene = x[0]\n",
    "    loc = x[1]\n",
    "    return str(int(gene)) + \"_\" + str(loc)\n",
    "def return_position(x):\n",
    "    c = x.split(\"_\")\n",
    "    return c[1]"
   ]
  },
  {
   "cell_type": "code",
   "execution_count": 246,
   "metadata": {
    "collapsed": false
   },
   "outputs": [],
   "source": [
    "tcga_feature_vector['output'] = pd.Series(output)"
   ]
  },
  {
   "cell_type": "code",
   "execution_count": 247,
   "metadata": {
    "collapsed": false,
    "scrolled": true
   },
   "outputs": [
    {
     "data": {
      "text/html": [
       "<div style=\"max-height:1000px;max-width:1500px;overflow:auto;\">\n",
       "<table border=\"1\" class=\"dataframe\">\n",
       "  <thead>\n",
       "    <tr style=\"text-align: right;\">\n",
       "      <th></th>\n",
       "      <th>SNP</th>\n",
       "      <th>counts</th>\n",
       "      <th>Perc_Bi_Allelic</th>\n",
       "      <th>Density</th>\n",
       "      <th>output</th>\n",
       "    </tr>\n",
       "  </thead>\n",
       "  <tbody>\n",
       "    <tr>\n",
       "      <th>0  </th>\n",
       "      <td>   673_140453136</td>\n",
       "      <td> 480</td>\n",
       "      <td> 0.508333</td>\n",
       "      <td> 1298.9</td>\n",
       "      <td> 1</td>\n",
       "    </tr>\n",
       "    <tr>\n",
       "      <th>258</th>\n",
       "      <td>   673_140477846</td>\n",
       "      <td>   1</td>\n",
       "      <td> 1.000000</td>\n",
       "      <td> 1298.9</td>\n",
       "      <td> 1</td>\n",
       "    </tr>\n",
       "    <tr>\n",
       "      <th>386</th>\n",
       "      <td> 115294_52733143</td>\n",
       "      <td>   8</td>\n",
       "      <td> 1.000000</td>\n",
       "      <td>  201.6</td>\n",
       "      <td> 1</td>\n",
       "    </tr>\n",
       "    <tr>\n",
       "      <th>527</th>\n",
       "      <td>    996_45214726</td>\n",
       "      <td>   1</td>\n",
       "      <td> 1.000000</td>\n",
       "      <td> 1030.3</td>\n",
       "      <td> 1</td>\n",
       "    </tr>\n",
       "    <tr>\n",
       "      <th>529</th>\n",
       "      <td>    996_45214603</td>\n",
       "      <td>   1</td>\n",
       "      <td> 1.000000</td>\n",
       "      <td> 1030.3</td>\n",
       "      <td> 1</td>\n",
       "    </tr>\n",
       "  </tbody>\n",
       "</table>\n",
       "</div>"
      ],
      "text/plain": [
       "                 SNP  counts  Perc_Bi_Allelic  Density  output\n",
       "0      673_140453136     480         0.508333   1298.9       1\n",
       "258    673_140477846       1         1.000000   1298.9       1\n",
       "386  115294_52733143       8         1.000000    201.6       1\n",
       "527     996_45214726       1         1.000000   1030.3       1\n",
       "529     996_45214603       1         1.000000   1030.3       1"
      ]
     },
     "execution_count": 247,
     "metadata": {},
     "output_type": "execute_result"
    }
   ],
   "source": [
    "tcga_feature_vector[tcga_feature_vector['output'] == 1].head()"
   ]
  },
  {
   "cell_type": "code",
   "execution_count": 248,
   "metadata": {
    "collapsed": false
   },
   "outputs": [],
   "source": [
    "tcga_feature_vector['Entrez_Gene_Id'] = tcga_feature_vector['SNP'].apply(simplify)\n",
    "tcga_feature_vector['Entrez_Gene_Id'] = tcga_feature_vector['Entrez_Gene_Id'].astype(int)"
   ]
  },
  {
   "cell_type": "code",
   "execution_count": 249,
   "metadata": {
    "collapsed": false
   },
   "outputs": [
    {
     "data": {
      "text/plain": [
       "SNP                 object\n",
       "counts             float64\n",
       "Perc_Bi_Allelic    float64\n",
       "Density            float64\n",
       "output             float64\n",
       "Entrez_Gene_Id       int64\n",
       "dtype: object"
      ]
     },
     "execution_count": 249,
     "metadata": {},
     "output_type": "execute_result"
    }
   ],
   "source": [
    "tcga_feature_vector.dtypes"
   ]
  },
  {
   "cell_type": "code",
   "execution_count": 250,
   "metadata": {
    "collapsed": false
   },
   "outputs": [
    {
     "data": {
      "text/plain": [
       "Hugo_Symbol       object\n",
       "Entrez_Gene_Id     int64\n",
       "dtype: object"
      ]
     },
     "execution_count": 250,
     "metadata": {},
     "output_type": "execute_result"
    }
   ],
   "source": [
    "hugo_entrez.dtypes"
   ]
  },
  {
   "cell_type": "code",
   "execution_count": 251,
   "metadata": {
    "collapsed": false
   },
   "outputs": [
    {
     "data": {
      "text/html": [
       "<div style=\"max-height:1000px;max-width:1500px;overflow:auto;\">\n",
       "<table border=\"1\" class=\"dataframe\">\n",
       "  <thead>\n",
       "    <tr style=\"text-align: right;\">\n",
       "      <th></th>\n",
       "      <th>SNP</th>\n",
       "      <th>counts</th>\n",
       "      <th>Perc_Bi_Allelic</th>\n",
       "      <th>Density</th>\n",
       "      <th>output</th>\n",
       "      <th>Entrez_Gene_Id</th>\n",
       "    </tr>\n",
       "  </thead>\n",
       "  <tbody>\n",
       "    <tr>\n",
       "      <th>0  </th>\n",
       "      <td> 673_140453136</td>\n",
       "      <td> 480</td>\n",
       "      <td> 0.508333</td>\n",
       "      <td> 1298.9</td>\n",
       "      <td> 1</td>\n",
       "      <td> 673</td>\n",
       "    </tr>\n",
       "    <tr>\n",
       "      <th>248</th>\n",
       "      <td> 673_140453135</td>\n",
       "      <td>   3</td>\n",
       "      <td> 0.333333</td>\n",
       "      <td> 1298.9</td>\n",
       "      <td> 0</td>\n",
       "      <td> 673</td>\n",
       "    </tr>\n",
       "    <tr>\n",
       "      <th>249</th>\n",
       "      <td> 673_140477840</td>\n",
       "      <td>   2</td>\n",
       "      <td> 0.500000</td>\n",
       "      <td> 1298.9</td>\n",
       "      <td> 0</td>\n",
       "      <td> 673</td>\n",
       "    </tr>\n",
       "    <tr>\n",
       "      <th>250</th>\n",
       "      <td> 673_140453193</td>\n",
       "      <td>   2</td>\n",
       "      <td> 0.500000</td>\n",
       "      <td> 1298.9</td>\n",
       "      <td> 0</td>\n",
       "      <td> 673</td>\n",
       "    </tr>\n",
       "    <tr>\n",
       "      <th>251</th>\n",
       "      <td> 673_140477827</td>\n",
       "      <td>   2</td>\n",
       "      <td> 0.500000</td>\n",
       "      <td> 1298.9</td>\n",
       "      <td> 0</td>\n",
       "      <td> 673</td>\n",
       "    </tr>\n",
       "  </tbody>\n",
       "</table>\n",
       "</div>"
      ],
      "text/plain": [
       "               SNP  counts  Perc_Bi_Allelic  Density  output  Entrez_Gene_Id\n",
       "0    673_140453136     480         0.508333   1298.9       1             673\n",
       "248  673_140453135       3         0.333333   1298.9       0             673\n",
       "249  673_140477840       2         0.500000   1298.9       0             673\n",
       "250  673_140453193       2         0.500000   1298.9       0             673\n",
       "251  673_140477827       2         0.500000   1298.9       0             673"
      ]
     },
     "execution_count": 251,
     "metadata": {},
     "output_type": "execute_result"
    }
   ],
   "source": [
    "tcga_feature_vector.head()"
   ]
  },
  {
   "cell_type": "code",
   "execution_count": 252,
   "metadata": {
    "collapsed": true
   },
   "outputs": [],
   "source": [
    "tcga_feature_vector = pd.merge(tcga_feature_vector, hugo_entrez, on=\"Entrez_Gene_Id\", how=\"inner\")"
   ]
  },
  {
   "cell_type": "code",
   "execution_count": 253,
   "metadata": {
    "collapsed": false
   },
   "outputs": [
    {
     "data": {
      "text/html": [
       "<div style=\"max-height:1000px;max-width:1500px;overflow:auto;\">\n",
       "<table border=\"1\" class=\"dataframe\">\n",
       "  <thead>\n",
       "    <tr style=\"text-align: right;\">\n",
       "      <th></th>\n",
       "      <th>SNP</th>\n",
       "      <th>counts</th>\n",
       "      <th>Perc_Bi_Allelic</th>\n",
       "      <th>Density</th>\n",
       "      <th>output</th>\n",
       "      <th>Entrez_Gene_Id</th>\n",
       "      <th>Hugo_Symbol</th>\n",
       "    </tr>\n",
       "  </thead>\n",
       "  <tbody>\n",
       "    <tr>\n",
       "      <th>0</th>\n",
       "      <td> 673_140453136</td>\n",
       "      <td> 480</td>\n",
       "      <td> 0.508333</td>\n",
       "      <td> 1298.9</td>\n",
       "      <td> 1</td>\n",
       "      <td> 673</td>\n",
       "      <td> BRAF</td>\n",
       "    </tr>\n",
       "    <tr>\n",
       "      <th>1</th>\n",
       "      <td> 673_140453135</td>\n",
       "      <td>   3</td>\n",
       "      <td> 0.333333</td>\n",
       "      <td> 1298.9</td>\n",
       "      <td> 0</td>\n",
       "      <td> 673</td>\n",
       "      <td> BRAF</td>\n",
       "    </tr>\n",
       "    <tr>\n",
       "      <th>2</th>\n",
       "      <td> 673_140477840</td>\n",
       "      <td>   2</td>\n",
       "      <td> 0.500000</td>\n",
       "      <td> 1298.9</td>\n",
       "      <td> 0</td>\n",
       "      <td> 673</td>\n",
       "      <td> BRAF</td>\n",
       "    </tr>\n",
       "    <tr>\n",
       "      <th>3</th>\n",
       "      <td> 673_140453193</td>\n",
       "      <td>   2</td>\n",
       "      <td> 0.500000</td>\n",
       "      <td> 1298.9</td>\n",
       "      <td> 0</td>\n",
       "      <td> 673</td>\n",
       "      <td> BRAF</td>\n",
       "    </tr>\n",
       "    <tr>\n",
       "      <th>4</th>\n",
       "      <td> 673_140477827</td>\n",
       "      <td>   2</td>\n",
       "      <td> 0.500000</td>\n",
       "      <td> 1298.9</td>\n",
       "      <td> 0</td>\n",
       "      <td> 673</td>\n",
       "      <td> BRAF</td>\n",
       "    </tr>\n",
       "  </tbody>\n",
       "</table>\n",
       "</div>"
      ],
      "text/plain": [
       "             SNP  counts  Perc_Bi_Allelic  Density  output  Entrez_Gene_Id  \\\n",
       "0  673_140453136     480         0.508333   1298.9       1             673   \n",
       "1  673_140453135       3         0.333333   1298.9       0             673   \n",
       "2  673_140477840       2         0.500000   1298.9       0             673   \n",
       "3  673_140453193       2         0.500000   1298.9       0             673   \n",
       "4  673_140477827       2         0.500000   1298.9       0             673   \n",
       "\n",
       "  Hugo_Symbol  \n",
       "0        BRAF  \n",
       "1        BRAF  \n",
       "2        BRAF  \n",
       "3        BRAF  \n",
       "4        BRAF  "
      ]
     },
     "execution_count": 253,
     "metadata": {},
     "output_type": "execute_result"
    }
   ],
   "source": [
    "tcga_feature_vector.head()"
   ]
  },
  {
   "cell_type": "code",
   "execution_count": 254,
   "metadata": {
    "collapsed": false
   },
   "outputs": [],
   "source": [
    "tcga_cancer = tcga_feature_vector[tcga_feature_vector.output == 1]"
   ]
  },
  {
   "cell_type": "code",
   "execution_count": 255,
   "metadata": {
    "collapsed": true
   },
   "outputs": [],
   "source": [
    "tcga_neutral = tcga_feature_vector[tcga_feature_vector.output == 0]"
   ]
  },
  {
   "cell_type": "code",
   "execution_count": 256,
   "metadata": {
    "collapsed": false
   },
   "outputs": [],
   "source": [
    "tcga_cancer[\"Occurances\"] = tcga_cancer.counts"
   ]
  },
  {
   "cell_type": "code",
   "execution_count": 257,
   "metadata": {
    "collapsed": false
   },
   "outputs": [
    {
     "data": {
      "text/html": [
       "<div style=\"max-height:1000px;max-width:1500px;overflow:auto;\">\n",
       "<table border=\"1\" class=\"dataframe\">\n",
       "  <thead>\n",
       "    <tr style=\"text-align: right;\">\n",
       "      <th></th>\n",
       "      <th>Hugo_Symbol</th>\n",
       "      <th>Occurances</th>\n",
       "      <th>Perc_Bi_Allelic</th>\n",
       "      <th>Density</th>\n",
       "    </tr>\n",
       "  </thead>\n",
       "  <tbody>\n",
       "    <tr>\n",
       "      <th>1550</th>\n",
       "      <td> PKD1</td>\n",
       "      <td> 1</td>\n",
       "      <td> 0</td>\n",
       "      <td> 652</td>\n",
       "    </tr>\n",
       "    <tr>\n",
       "      <th>1551</th>\n",
       "      <td> PKD1</td>\n",
       "      <td> 1</td>\n",
       "      <td> 1</td>\n",
       "      <td> 652</td>\n",
       "    </tr>\n",
       "    <tr>\n",
       "      <th>1552</th>\n",
       "      <td> PKD1</td>\n",
       "      <td> 1</td>\n",
       "      <td> 1</td>\n",
       "      <td> 652</td>\n",
       "    </tr>\n",
       "  </tbody>\n",
       "</table>\n",
       "</div>"
      ],
      "text/plain": [
       "     Hugo_Symbol  Occurances  Perc_Bi_Allelic  Density\n",
       "1550        PKD1           1                0      652\n",
       "1551        PKD1           1                1      652\n",
       "1552        PKD1           1                1      652"
      ]
     },
     "execution_count": 257,
     "metadata": {},
     "output_type": "execute_result"
    }
   ],
   "source": [
    "tcga_cancer[['Hugo_Symbol', 'Occurances', 'Perc_Bi_Allelic', 'Density']][100:103]"
   ]
  },
  {
   "cell_type": "code",
   "execution_count": 258,
   "metadata": {
    "collapsed": false,
    "scrolled": true
   },
   "outputs": [
    {
     "data": {
      "text/html": [
       "<div style=\"max-height:1000px;max-width:1500px;overflow:auto;\">\n",
       "<table border=\"1\" class=\"dataframe\">\n",
       "  <thead>\n",
       "    <tr style=\"text-align: right;\">\n",
       "      <th></th>\n",
       "      <th>SNP</th>\n",
       "      <th>counts</th>\n",
       "      <th>Perc_Bi_Allelic</th>\n",
       "      <th>Density</th>\n",
       "      <th>output</th>\n",
       "      <th>Entrez_Gene_Id</th>\n",
       "      <th>Hugo_Symbol</th>\n",
       "      <th>Occurances</th>\n",
       "    </tr>\n",
       "  </thead>\n",
       "  <tbody>\n",
       "    <tr>\n",
       "      <th>0  </th>\n",
       "      <td>   673_140453136</td>\n",
       "      <td> 480</td>\n",
       "      <td> 0.508333</td>\n",
       "      <td> 1298.9</td>\n",
       "      <td> 1</td>\n",
       "      <td>    673</td>\n",
       "      <td>   BRAF</td>\n",
       "      <td> 480</td>\n",
       "    </tr>\n",
       "    <tr>\n",
       "      <th>11 </th>\n",
       "      <td>   673_140477846</td>\n",
       "      <td>   1</td>\n",
       "      <td> 1.000000</td>\n",
       "      <td> 1298.9</td>\n",
       "      <td> 1</td>\n",
       "      <td>    673</td>\n",
       "      <td>   BRAF</td>\n",
       "      <td>   1</td>\n",
       "    </tr>\n",
       "    <tr>\n",
       "      <th>90 </th>\n",
       "      <td> 115294_52733143</td>\n",
       "      <td>   8</td>\n",
       "      <td> 1.000000</td>\n",
       "      <td>  201.6</td>\n",
       "      <td> 1</td>\n",
       "      <td> 115294</td>\n",
       "      <td> PCMTD1</td>\n",
       "      <td>   8</td>\n",
       "    </tr>\n",
       "    <tr>\n",
       "      <th>226</th>\n",
       "      <td>    996_45214726</td>\n",
       "      <td>   1</td>\n",
       "      <td> 1.000000</td>\n",
       "      <td> 1030.3</td>\n",
       "      <td> 1</td>\n",
       "      <td>    996</td>\n",
       "      <td>  CDC27</td>\n",
       "      <td>   1</td>\n",
       "    </tr>\n",
       "    <tr>\n",
       "      <th>228</th>\n",
       "      <td>    996_45214603</td>\n",
       "      <td>   1</td>\n",
       "      <td> 1.000000</td>\n",
       "      <td> 1030.3</td>\n",
       "      <td> 1</td>\n",
       "      <td>    996</td>\n",
       "      <td>  CDC27</td>\n",
       "      <td>   1</td>\n",
       "    </tr>\n",
       "  </tbody>\n",
       "</table>\n",
       "</div>"
      ],
      "text/plain": [
       "                 SNP  counts  Perc_Bi_Allelic  Density  output  \\\n",
       "0      673_140453136     480         0.508333   1298.9       1   \n",
       "11     673_140477846       1         1.000000   1298.9       1   \n",
       "90   115294_52733143       8         1.000000    201.6       1   \n",
       "226     996_45214726       1         1.000000   1030.3       1   \n",
       "228     996_45214603       1         1.000000   1030.3       1   \n",
       "\n",
       "     Entrez_Gene_Id Hugo_Symbol  Occurances  \n",
       "0               673        BRAF         480  \n",
       "11              673        BRAF           1  \n",
       "90           115294      PCMTD1           8  \n",
       "226             996       CDC27           1  \n",
       "228             996       CDC27           1  "
      ]
     },
     "execution_count": 258,
     "metadata": {},
     "output_type": "execute_result"
    }
   ],
   "source": [
    "tcga_cancer.head()"
   ]
  },
  {
   "cell_type": "code",
   "execution_count": 259,
   "metadata": {
    "collapsed": false
   },
   "outputs": [],
   "source": [
    "tcga_cancer.to_csv(open('../data_frames/tcga_cancerous_mutations.csv', 'w'))\n",
    "tcga_neutral.to_csv(open('../data_frames/tcga_neutral_mutations.csv', 'w'))"
   ]
  },
  {
   "cell_type": "code",
   "execution_count": 260,
   "metadata": {
    "collapsed": true
   },
   "outputs": [],
   "source": [
    "tcga_cancer['Chromosomal Position'] = tcga_cancer.SNP.map(return_position)"
   ]
  },
  {
   "cell_type": "code",
   "execution_count": 266,
   "metadata": {
    "collapsed": false
   },
   "outputs": [],
   "source": [
    "tcga_cancer.reset_index()[['Hugo_Symbol', 'Chromosomal Position']].to_csv(\"../data_frames/driver_mutations.csv\")"
   ]
  },
  {
   "cell_type": "code",
   "execution_count": 267,
   "metadata": {
    "collapsed": false
   },
   "outputs": [
    {
     "data": {
      "text/html": [
       "<div style=\"max-height:1000px;max-width:1500px;overflow:auto;\">\n",
       "<table border=\"1\" class=\"dataframe\">\n",
       "  <thead>\n",
       "    <tr style=\"text-align: right;\">\n",
       "      <th></th>\n",
       "      <th>Hugo_Symbol</th>\n",
       "      <th>Chromosomal Position</th>\n",
       "    </tr>\n",
       "  </thead>\n",
       "  <tbody>\n",
       "    <tr>\n",
       "      <th>0</th>\n",
       "      <td>   BRAF</td>\n",
       "      <td> 140453136</td>\n",
       "    </tr>\n",
       "    <tr>\n",
       "      <th>1</th>\n",
       "      <td>   BRAF</td>\n",
       "      <td> 140477846</td>\n",
       "    </tr>\n",
       "    <tr>\n",
       "      <th>2</th>\n",
       "      <td> PCMTD1</td>\n",
       "      <td>  52733143</td>\n",
       "    </tr>\n",
       "    <tr>\n",
       "      <th>3</th>\n",
       "      <td>  CDC27</td>\n",
       "      <td>  45214726</td>\n",
       "    </tr>\n",
       "    <tr>\n",
       "      <th>4</th>\n",
       "      <td>  CDC27</td>\n",
       "      <td>  45214603</td>\n",
       "    </tr>\n",
       "    <tr>\n",
       "      <th>5</th>\n",
       "      <td>  CDC27</td>\n",
       "      <td>  45234287</td>\n",
       "    </tr>\n",
       "    <tr>\n",
       "      <th>6</th>\n",
       "      <td>  CDC27</td>\n",
       "      <td>  45219311</td>\n",
       "    </tr>\n",
       "    <tr>\n",
       "      <th>7</th>\n",
       "      <td>  CDC27</td>\n",
       "      <td>  45214631</td>\n",
       "    </tr>\n",
       "    <tr>\n",
       "      <th>8</th>\n",
       "      <td>  CDC27</td>\n",
       "      <td>  45247398</td>\n",
       "    </tr>\n",
       "    <tr>\n",
       "      <th>9</th>\n",
       "      <td>  CDC27</td>\n",
       "      <td>  45214559</td>\n",
       "    </tr>\n",
       "  </tbody>\n",
       "</table>\n",
       "</div>"
      ],
      "text/plain": [
       "  Hugo_Symbol Chromosomal Position\n",
       "0        BRAF            140453136\n",
       "1        BRAF            140477846\n",
       "2      PCMTD1             52733143\n",
       "3       CDC27             45214726\n",
       "4       CDC27             45214603\n",
       "5       CDC27             45234287\n",
       "6       CDC27             45219311\n",
       "7       CDC27             45214631\n",
       "8       CDC27             45247398\n",
       "9       CDC27             45214559"
      ]
     },
     "execution_count": 267,
     "metadata": {},
     "output_type": "execute_result"
    }
   ],
   "source": [
    "tcga_cancer.reset_index()[['Hugo_Symbol', 'Chromosomal Position']].head(10)"
   ]
  },
  {
   "cell_type": "code",
   "execution_count": null,
   "metadata": {
    "collapsed": true
   },
   "outputs": [],
   "source": []
  }
 ],
 "metadata": {
  "kernelspec": {
   "display_name": "Python 2",
   "language": "python",
   "name": "python2"
  },
  "language_info": {
   "codemirror_mode": {
    "name": "ipython",
    "version": 2
   },
   "file_extension": ".py",
   "mimetype": "text/x-python",
   "name": "python",
   "nbconvert_exporter": "python",
   "pygments_lexer": "ipython2",
   "version": "2.7.7"
  }
 },
 "nbformat": 4,
 "nbformat_minor": 0
}
