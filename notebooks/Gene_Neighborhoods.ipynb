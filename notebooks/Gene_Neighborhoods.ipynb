{
 "cells": [
  {
   "cell_type": "code",
   "execution_count": 1,
   "metadata": {
    "collapsed": false
   },
   "outputs": [
    {
     "name": "stdout",
     "output_type": "stream",
     "text": [
      "Populating the interactive namespace from numpy and matplotlib\n"
     ]
    }
   ],
   "source": [
    "%pylab inline\n",
    "import pandas as pd\n",
    "import numpy as np\n",
    "import os\n",
    "import sklearn as sk\n",
    "from sklearn.cluster import AffinityPropagation\n",
    "from sklearn import datasets\n",
    "from sklearn import metrics\n",
    "from multiprocessing import Pool\n",
    "from sklearn.ensemble import RandomForestClassifier\n",
    "import pickle"
   ]
  },
  {
   "cell_type": "code",
   "execution_count": 2,
   "metadata": {
    "collapsed": false
   },
   "outputs": [],
   "source": [
    "tcga_cancerous_mutations = pd.read_csv('tcga_cancerous_mutations.csv', index_col=0)\n",
    "edges = pickle.load(open(\"edges.p\", 'rb'))"
   ]
  },
  {
   "cell_type": "code",
   "execution_count": 3,
   "metadata": {
    "collapsed": true
   },
   "outputs": [],
   "source": [
    "def find_distance(graph, start_node, end_node):\n",
    "    nodes = graph.keys()\n",
    "    discovered = [0 for x in range(len(graph.keys()))]\n",
    "    distance = [0 for x in range(len(graph.keys()))]\n",
    "    queue = [start_node]\n",
    "    discovered[nodes.index(start_node)] = 1\n",
    "    while queue is not empty:\n",
    "        curr = queue.pop(0)\n",
    "        # check if item is end node, if yes then break\n",
    "        if curr == end_node:\n",
    "            print \"SUCCESS\", distance[nodes.index(curr)]\n",
    "            return distance[nodes.index(curr)]\n",
    "        # otherwise \n",
    "        else:\n",
    "            for neighbor in graph[curr]:\n",
    "                if discovered[nodes.index(neighbor)] == 0:\n",
    "                    distance[nodes.index(neighbor)] = distance[nodes.index(curr)] + 1\n",
    "                    queue.extend(graph[neighbor])\n",
    "                    discovered[nodes.index(neighbor)] = 1"
   ]
  },
  {
   "cell_type": "code",
   "execution_count": 4,
   "metadata": {
    "collapsed": true
   },
   "outputs": [],
   "source": [
    "def bfs(graph, start, end):\n",
    "    # maintain a queue of paths\n",
    "    queue = []\n",
    "    # push the first path into the queue\n",
    "    queue.append([start])\n",
    "    while queue:\n",
    "        # get the first path from the queue\n",
    "        path = queue.pop(0)\n",
    "        # get the last node from the path\n",
    "        node = path[-1]\n",
    "        # path found\n",
    "        if node == end:\n",
    "            return len(path)\n",
    "        # enumerate all adjacent nodes, construct a new path and push it into the queue\n",
    "        for adjacent in graph.get(node, []):\n",
    "            new_path = list(path)\n",
    "            new_path.append(adjacent)\n",
    "            queue.append(new_path)"
   ]
  },
  {
   "cell_type": "code",
   "execution_count": 5,
   "metadata": {
    "collapsed": true
   },
   "outputs": [],
   "source": [
    "# reduce to number of genes\n",
    "# group them into clusters"
   ]
  },
  {
   "cell_type": "code",
   "execution_count": 6,
   "metadata": {
    "collapsed": false
   },
   "outputs": [],
   "source": [
    "cancer_genes = tcga_cancerous_mutations.Entrez_Gene_Id.unique()"
   ]
  },
  {
   "cell_type": "code",
   "execution_count": 9,
   "metadata": {
    "collapsed": false
   },
   "outputs": [
    {
     "name": "stdout",
     "output_type": "stream",
     "text": [
      "555\n"
     ]
    }
   ],
   "source": [
    "# check if all cancer genes are in Human Net Graph\n",
    "human_net_genes = edges.keys()\n",
    "cancer_genes = [gene for gene in cancer_genes if gene in human_net_genes]\n",
    "print len(cancer_genes)"
   ]
  },
  {
   "cell_type": "code",
   "execution_count": null,
   "metadata": {
    "collapsed": false,
    "scrolled": false
   },
   "outputs": [
    {
     "name": "stdout",
     "output_type": "stream",
     "text": [
      "0\n",
      "1\n",
      "SUCCESS 2\n",
      "2\n",
      "SUCCESS"
     ]
    }
   ],
   "source": [
    "# create matrix\n",
    "distance_matrix = [[0 for i in range(len(cancer_genes))] for j in range(len(cancer_genes))]\n",
    "for i_1, gene1 in enumerate(cancer_genes):\n",
    "    print i_1\n",
    "    for i_2, gene2 in enumerate(cancer_genes):\n",
    "        if i_1 == i_2:\n",
    "            distance_matrix[i_1][i_2] == 0\n",
    "        if i_1 > i_2:\n",
    "            distance_matrix[i_1][i_2] = find_distance(edges, gene1, gene2)\n",
    "            distance_matrix[i_2][i_1] = distance_matrix[i_1][i_2]\n",
    "            #print distance_matrix[i_1][i_2]"
   ]
  },
  {
   "cell_type": "code",
   "execution_count": null,
   "metadata": {
    "collapsed": false
   },
   "outputs": [
    {
     "name": "stdout",
     "output_type": "stream",
     "text": [
      "0\n",
      "1\n",
      "2"
     ]
    }
   ],
   "source": [
    "# create matrix\n",
    "distance_matrix = [[0 for i in range(len(cancer_genes))] for j in range(len(cancer_genes))]\n",
    "for i_1, gene1 in enumerate(cancer_genes):\n",
    "    print i_1\n",
    "    for i_2, gene2 in enumerate(cancer_genes):\n",
    "        if i_1 == i_2:\n",
    "            distance_matrix[i_1][i_2] == 0\n",
    "        if i_1 > i_2:\n",
    "            distance_matrix[i_1][i_2] = bfs(edges, gene1, gene2)\n",
    "            distance_matrix[i_2][i_1] = distance_matrix[i_1][i_2]"
   ]
  },
  {
   "cell_type": "code",
   "execution_count": null,
   "metadata": {
    "collapsed": true
   },
   "outputs": [],
   "source": []
  }
 ],
 "metadata": {
  "kernelspec": {
   "display_name": "Python 2",
   "language": "python",
   "name": "python2"
  },
  "language_info": {
   "codemirror_mode": {
    "name": "ipython",
    "version": 2
   },
   "file_extension": ".py",
   "mimetype": "text/x-python",
   "name": "python",
   "nbconvert_exporter": "python",
   "pygments_lexer": "ipython2",
   "version": "2.7.5"
  }
 },
 "nbformat": 4,
 "nbformat_minor": 0
}
