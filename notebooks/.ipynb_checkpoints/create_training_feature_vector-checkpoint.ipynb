{
 "cells": [
  {
   "cell_type": "markdown",
   "metadata": {},
   "source": [
    "#Create Training Feature Vector"
   ]
  },
  {
   "cell_type": "markdown",
   "metadata": {},
   "source": [
    "This script takes data from the cosmic database about cancer mutations and creates feature vectors on the mutations that will be used for both training and validation."
   ]
  },
  {
   "cell_type": "code",
   "execution_count": 1,
   "metadata": {
    "collapsed": false,
    "scrolled": true
   },
   "outputs": [
    {
     "name": "stdout",
     "output_type": "stream",
     "text": [
      "Populating the interactive namespace from numpy and matplotlib\n"
     ]
    }
   ],
   "source": [
    "%pylab inline\n",
    "import pandas as pd\n",
    "import numpy as np\n",
    "import os\n",
    "import sklearn as sk\n",
    "from sklearn.cluster import AffinityPropagation\n",
    "from sklearn import datasets\n",
    "from sklearn import metrics\n",
    "from multiprocessing import Pool\n",
    "import pickle"
   ]
  },
  {
   "cell_type": "markdown",
   "metadata": {},
   "source": [
    "##Import and clean up whole data set - Use COSMIC"
   ]
  },
  {
   "cell_type": "code",
   "execution_count": 2,
   "metadata": {
    "collapsed": false
   },
   "outputs": [],
   "source": [
    "def simplify(x):\n",
    "    a = x.split(\"_\")\n",
    "    return a[0]\n",
    "def get_loc(x):\n",
    "    c = x.split(\":\")\n",
    "    s = c[1].split(\"-\")\n",
    "    return s[0]\n",
    "def combine(x):\n",
    "    gene = x[0]\n",
    "    loc = x[1]\n",
    "    return str(int(gene)) + \"_\" + str(loc)"
   ]
  },
  {
   "cell_type": "code",
   "execution_count": 82,
   "metadata": {
    "collapsed": false,
    "scrolled": true
   },
   "outputs": [],
   "source": [
    "cosmic_all = pd.read_csv(open('THYROIDonly_noTCGA_uniqMutationID.csv', 'r'))\n",
    "cosmic_all['Gene name'] = cosmic_all['Gene name'].map(simplify)\n",
    "cosmic_all['Start_Position'] = cosmic_all['Mutation genome position'].map(get_loc)\n",
    "#cosmic_all.head()"
   ]
  },
  {
   "cell_type": "code",
   "execution_count": 83,
   "metadata": {
    "collapsed": false
   },
   "outputs": [],
   "source": [
    "cosmic_all = cosmic_all[pd.notnull(cosmic_all['Mutation genome position'])]"
   ]
  },
  {
   "cell_type": "code",
   "execution_count": 3,
   "metadata": {
    "collapsed": false
   },
   "outputs": [],
   "source": [
    "mr = pd.read_csv('mr.csv', index_col=0)\n",
    "hugo_entrez = mr[['Hugo_Symbol', 'Entrez_Gene_Id']]\n",
    "hugo_entrez.columns = ['Gene name', 'Entrez_Gene_Id']\n",
    "hugo_entrez = hugo_entrez.drop_duplicates()"
   ]
  },
  {
   "cell_type": "code",
   "execution_count": 85,
   "metadata": {
    "collapsed": false
   },
   "outputs": [],
   "source": [
    "cosmic_all = pd.merge(cosmic_all, hugo_entrez, on='Gene name', how='outer')\n",
    "#cosmic_all.head()"
   ]
  },
  {
   "cell_type": "code",
   "execution_count": 146,
   "metadata": {
    "collapsed": false
   },
   "outputs": [
    {
     "data": {
      "text/plain": [
       "het    1372\n",
       "hom      87\n",
       "dtype: int64"
      ]
     },
     "execution_count": 146,
     "metadata": {},
     "output_type": "execute_result"
    }
   ],
   "source": [
    "cosmic = pd.DataFrame(cosmic_all[\"Gene name\"].value_counts())\n",
    "cosmic = cosmic.reset_index()\n",
    "cosmic.columns = ['Gene_Name', 'counts']\n",
    "cosmic.head()\n",
    "cosmic_all['Mutation zygosity'].isnull().sum()\n",
    "cosmic_all['Mutation zygosity'].value_counts()"
   ]
  },
  {
   "cell_type": "markdown",
   "metadata": {},
   "source": [
    "the number of BRAF mutations make me skeptical, should probably add a column for nonsense... TODO"
   ]
  },
  {
   "cell_type": "code",
   "execution_count": 86,
   "metadata": {
    "collapsed": true
   },
   "outputs": [],
   "source": [
    "# import the new cosmic data set, create table with snp(entrez_loc) and cosmic id\n",
    "# use cosmic id to superimpose SNP2 onto training/validation sets"
   ]
  },
  {
   "cell_type": "code",
   "execution_count": 110,
   "metadata": {
    "collapsed": true
   },
   "outputs": [],
   "source": [
    "cosmic_raw = pd.read_csv('cosmic_raw_mut_id.csv', index_col=0)\n",
    "cosmic_raw.columns = [\"Mutation ID\", \"Gene name\", \"Location\"]"
   ]
  },
  {
   "cell_type": "code",
   "execution_count": 111,
   "metadata": {
    "collapsed": false
   },
   "outputs": [
    {
     "data": {
      "text/html": [
       "<div style=\"max-height:1000px;max-width:1500px;overflow:auto;\">\n",
       "<table border=\"1\" class=\"dataframe\">\n",
       "  <thead>\n",
       "    <tr style=\"text-align: right;\">\n",
       "      <th></th>\n",
       "      <th>Mutation ID</th>\n",
       "      <th>Gene name</th>\n",
       "      <th>Location</th>\n",
       "      <th>Entrez_Gene_Id</th>\n",
       "    </tr>\n",
       "  </thead>\n",
       "  <tbody>\n",
       "    <tr>\n",
       "      <th>0</th>\n",
       "      <td>COSM318402</td>\n",
       "      <td>A1CF</td>\n",
       "      <td>52566499</td>\n",
       "      <td>29974</td>\n",
       "    </tr>\n",
       "    <tr>\n",
       "      <th>1</th>\n",
       "      <td>COSM1702376</td>\n",
       "      <td>A1CF</td>\n",
       "      <td>52566505</td>\n",
       "      <td>29974</td>\n",
       "    </tr>\n",
       "    <tr>\n",
       "      <th>2</th>\n",
       "      <td>COSM191228</td>\n",
       "      <td>A1CF</td>\n",
       "      <td>52566514</td>\n",
       "      <td>29974</td>\n",
       "    </tr>\n",
       "    <tr>\n",
       "      <th>3</th>\n",
       "      <td>COSM191228</td>\n",
       "      <td>A1CF</td>\n",
       "      <td>52566514</td>\n",
       "      <td>29974</td>\n",
       "    </tr>\n",
       "    <tr>\n",
       "      <th>4</th>\n",
       "      <td>COSM918820</td>\n",
       "      <td>A1CF</td>\n",
       "      <td>52566549</td>\n",
       "      <td>29974</td>\n",
       "    </tr>\n",
       "  </tbody>\n",
       "</table>\n",
       "</div>"
      ],
      "text/plain": [
       "   Mutation ID Gene name  Location  Entrez_Gene_Id\n",
       "0   COSM318402      A1CF  52566499           29974\n",
       "1  COSM1702376      A1CF  52566505           29974\n",
       "2   COSM191228      A1CF  52566514           29974\n",
       "3   COSM191228      A1CF  52566514           29974\n",
       "4   COSM918820      A1CF  52566549           29974"
      ]
     },
     "execution_count": 111,
     "metadata": {},
     "output_type": "execute_result"
    }
   ],
   "source": [
    "# add entrez_id, create snp\n",
    "cosmic_raw = pd.merge(cosmic_raw, hugo_entrez, on='Gene name', how='inner')\n",
    "cosmic_raw.head()"
   ]
  },
  {
   "cell_type": "code",
   "execution_count": 112,
   "metadata": {
    "collapsed": false
   },
   "outputs": [],
   "source": [
    "cosmic_raw['SNP2'] = cosmic_raw[['Entrez_Gene_Id', 'Location']].apply(combine, axis=1)"
   ]
  },
  {
   "cell_type": "code",
   "execution_count": 113,
   "metadata": {
    "collapsed": false
   },
   "outputs": [],
   "source": [
    "cosmic_raw = cosmic_raw[['Mutation ID', 'SNP2']]\n",
    "cosmic_raw.to_csv('mut_id.csv')"
   ]
  },
  {
   "cell_type": "markdown",
   "metadata": {},
   "source": [
    "##Import positive and negative set - Use TCGA"
   ]
  },
  {
   "cell_type": "markdown",
   "metadata": {},
   "source": [
    "Create two training sets; one with features based on cosmic data and the other with features based on tcga data"
   ]
  },
  {
   "cell_type": "code",
   "execution_count": 57,
   "metadata": {
    "collapsed": false,
    "scrolled": false
   },
   "outputs": [],
   "source": [
    "with open('thyr.uniq_cancer_SNPs.abrvCosmic.csv', 'r') as cosmic:\n",
    "    cancer = pd.read_csv(cosmic, sep=',')\n",
    "cancer['Gene name'] = cancer['Gene name'].map(simplify)\n",
    "cancer['Start_Position'] = cancer['Mutation genome position'].map(get_loc)\n",
    "cancer = pd.merge(cancer, hugo_entrez, on='Gene name', how='outer')\n",
    "cancer = cancer[pd.notnull(cancer['Entrez_Gene_Id'])]\n",
    "cancer['SNP'] = cancer[['Entrez_Gene_Id', 'Start_Position']].apply(combine, axis=1)\n",
    "cancer = cancer.drop_duplicates()"
   ]
  },
  {
   "cell_type": "code",
   "execution_count": 58,
   "metadata": {
    "collapsed": false
   },
   "outputs": [
    {
     "data": {
      "text/html": [
       "<div style=\"max-height:1000px;max-width:1500px;overflow:auto;\">\n",
       "<table border=\"1\" class=\"dataframe\">\n",
       "  <thead>\n",
       "    <tr style=\"text-align: right;\">\n",
       "      <th></th>\n",
       "      <th>SNP2</th>\n",
       "      <th>Mutation AA</th>\n",
       "      <th>Entrez_Gene_Id</th>\n",
       "    </tr>\n",
       "  </thead>\n",
       "  <tbody>\n",
       "    <tr>\n",
       "      <th>36</th>\n",
       "      <td>673_140453136</td>\n",
       "      <td>p.V600E</td>\n",
       "      <td>673</td>\n",
       "    </tr>\n",
       "    <tr>\n",
       "      <th>50</th>\n",
       "      <td>673_140453136</td>\n",
       "      <td>p.V600E</td>\n",
       "      <td>673</td>\n",
       "    </tr>\n",
       "    <tr>\n",
       "      <th>78</th>\n",
       "      <td>673_140453136</td>\n",
       "      <td>p.V600E</td>\n",
       "      <td>673</td>\n",
       "    </tr>\n",
       "    <tr>\n",
       "      <th>110</th>\n",
       "      <td>673_140453136</td>\n",
       "      <td>p.V600E</td>\n",
       "      <td>673</td>\n",
       "    </tr>\n",
       "    <tr>\n",
       "      <th>147</th>\n",
       "      <td>673_140453136</td>\n",
       "      <td>p.V600E</td>\n",
       "      <td>673</td>\n",
       "    </tr>\n",
       "  </tbody>\n",
       "</table>\n",
       "</div>"
      ],
      "text/plain": [
       "              SNP2 Mutation AA Entrez_Gene_Id\n",
       "36   673_140453136     p.V600E            673\n",
       "50   673_140453136     p.V600E            673\n",
       "78   673_140453136     p.V600E            673\n",
       "110  673_140453136     p.V600E            673\n",
       "147  673_140453136     p.V600E            673"
      ]
     },
     "execution_count": 58,
     "metadata": {},
     "output_type": "execute_result"
    }
   ],
   "source": [
    "# adding a new column with snp2 information (other reference)\n",
    "pc = pd.read_csv('pc.csv', index_col=0)\n",
    "pc.columns = [\"SNP2\", \"Mutation AA\"]\n",
    "pc['Entrez_Gene_Id'] = pc['SNP2'].apply(simplify)\n",
    "pc = pc[pd.notnull(pc['SNP2'])]\n",
    "pc = pc[pd.notnull(pc['Mutation AA'])]\n",
    "pc.Entrez_Gene_Id.value_counts()\n",
    "pc[pc.Entrez_Gene_Id == '673'][:5]"
   ]
  },
  {
   "cell_type": "code",
   "execution_count": 61,
   "metadata": {
    "collapsed": false
   },
   "outputs": [],
   "source": [
    "pc['Entrez_Gene_Id'] = pc['Entrez_Gene_Id'].astype(float) "
   ]
  },
  {
   "cell_type": "code",
   "execution_count": 63,
   "metadata": {
    "collapsed": true
   },
   "outputs": [],
   "source": [
    "cancer = pd.merge(cancer, pc, on=[\"Entrez_Gene_Id\",\"Mutation AA\"], how='inner')\n",
    "cancer = cancer.drop_duplicates()"
   ]
  },
  {
   "cell_type": "code",
   "execution_count": 64,
   "metadata": {
    "collapsed": false
   },
   "outputs": [
    {
     "data": {
      "text/html": [
       "<div style=\"max-height:1000px;max-width:1500px;overflow:auto;\">\n",
       "<table border=\"1\" class=\"dataframe\">\n",
       "  <thead>\n",
       "    <tr style=\"text-align: right;\">\n",
       "      <th></th>\n",
       "      <th>Gene name</th>\n",
       "      <th>Mutation AA</th>\n",
       "      <th>SNP</th>\n",
       "      <th>SNP2</th>\n",
       "      <th>Entrez_Gene_Id</th>\n",
       "    </tr>\n",
       "  </thead>\n",
       "  <tbody>\n",
       "    <tr>\n",
       "      <th>0</th>\n",
       "      <td>BRAF</td>\n",
       "      <td>p.V600E</td>\n",
       "      <td>673_140753336</td>\n",
       "      <td>673_140453136</td>\n",
       "      <td>673</td>\n",
       "    </tr>\n",
       "    <tr>\n",
       "      <th>89</th>\n",
       "      <td>BRAF</td>\n",
       "      <td>p.V600E</td>\n",
       "      <td>673_140753336</td>\n",
       "      <td>673_140453135</td>\n",
       "      <td>673</td>\n",
       "    </tr>\n",
       "    <tr>\n",
       "      <th>249</th>\n",
       "      <td>BRAF</td>\n",
       "      <td>p.K601E</td>\n",
       "      <td>673_140753334</td>\n",
       "      <td>673_140453134</td>\n",
       "      <td>673</td>\n",
       "    </tr>\n",
       "    <tr>\n",
       "      <th>250</th>\n",
       "      <td>PIK3CA</td>\n",
       "      <td>p.M1043I</td>\n",
       "      <td>5290_179234286</td>\n",
       "      <td>5290_178952074</td>\n",
       "      <td>5290</td>\n",
       "    </tr>\n",
       "    <tr>\n",
       "      <th>251</th>\n",
       "      <td>NRAS</td>\n",
       "      <td>p.Q61R</td>\n",
       "      <td>4893_114713908</td>\n",
       "      <td>4893_115256529</td>\n",
       "      <td>4893</td>\n",
       "    </tr>\n",
       "  </tbody>\n",
       "</table>\n",
       "</div>"
      ],
      "text/plain": [
       "    Gene name Mutation AA             SNP            SNP2  Entrez_Gene_Id\n",
       "0        BRAF     p.V600E   673_140753336   673_140453136             673\n",
       "89       BRAF     p.V600E   673_140753336   673_140453135             673\n",
       "249      BRAF     p.K601E   673_140753334   673_140453134             673\n",
       "250    PIK3CA    p.M1043I  5290_179234286  5290_178952074            5290\n",
       "251      NRAS      p.Q61R  4893_114713908  4893_115256529            4893"
      ]
     },
     "execution_count": 64,
     "metadata": {},
     "output_type": "execute_result"
    }
   ],
   "source": [
    "cancer[['Gene name', 'Mutation AA', 'SNP', 'SNP2', 'Entrez_Gene_Id']].head()"
   ]
  },
  {
   "cell_type": "code",
   "execution_count": 67,
   "metadata": {
    "collapsed": false
   },
   "outputs": [
    {
     "data": {
      "text/html": [
       "<div style=\"max-height:1000px;max-width:1500px;overflow:auto;\">\n",
       "<table border=\"1\" class=\"dataframe\">\n",
       "  <thead>\n",
       "    <tr style=\"text-align: right;\">\n",
       "      <th></th>\n",
       "      <th>Gene name</th>\n",
       "      <th>Accession Number</th>\n",
       "      <th>Primary site</th>\n",
       "      <th>Mutation ID</th>\n",
       "      <th>Mutation CDS</th>\n",
       "      <th>Mutation AA</th>\n",
       "      <th>Mutation Description</th>\n",
       "      <th>Mutation zygosity</th>\n",
       "      <th>Mutation genome position</th>\n",
       "      <th>Mutation strand</th>\n",
       "      <th>SNP</th>\n",
       "      <th>FATHMM prediction</th>\n",
       "      <th>Mutation somatic status</th>\n",
       "      <th>Pubmed_PMID</th>\n",
       "      <th>ID_STUDY</th>\n",
       "      <th>Start_Position</th>\n",
       "      <th>Entrez_Gene_Id</th>\n",
       "      <th>SNP2</th>\n",
       "    </tr>\n",
       "  </thead>\n",
       "  <tbody>\n",
       "    <tr>\n",
       "      <th>0</th>\n",
       "      <td>BRAF</td>\n",
       "      <td>1559390</td>\n",
       "      <td>thyroid</td>\n",
       "      <td>COSM476</td>\n",
       "      <td>c.1799T&gt;A</td>\n",
       "      <td>p.V600E</td>\n",
       "      <td>Substitution - Missense</td>\n",
       "      <td>NaN</td>\n",
       "      <td>7:140753336-140753336</td>\n",
       "      <td>-</td>\n",
       "      <td>673_140753336</td>\n",
       "      <td>CANCER</td>\n",
       "      <td>Reported in another cancer sample as somatic</td>\n",
       "      <td>21175381</td>\n",
       "      <td>NaN</td>\n",
       "      <td>140753336</td>\n",
       "      <td>673</td>\n",
       "      <td>673_140453136</td>\n",
       "    </tr>\n",
       "    <tr>\n",
       "      <th>89</th>\n",
       "      <td>BRAF</td>\n",
       "      <td>1559390</td>\n",
       "      <td>thyroid</td>\n",
       "      <td>COSM476</td>\n",
       "      <td>c.1799T&gt;A</td>\n",
       "      <td>p.V600E</td>\n",
       "      <td>Substitution - Missense</td>\n",
       "      <td>NaN</td>\n",
       "      <td>7:140753336-140753336</td>\n",
       "      <td>-</td>\n",
       "      <td>673_140753336</td>\n",
       "      <td>CANCER</td>\n",
       "      <td>Reported in another cancer sample as somatic</td>\n",
       "      <td>21175381</td>\n",
       "      <td>NaN</td>\n",
       "      <td>140753336</td>\n",
       "      <td>673</td>\n",
       "      <td>673_140453135</td>\n",
       "    </tr>\n",
       "    <tr>\n",
       "      <th>249</th>\n",
       "      <td>BRAF</td>\n",
       "      <td>2230480</td>\n",
       "      <td>thyroid</td>\n",
       "      <td>COSM478</td>\n",
       "      <td>c.1801A&gt;G</td>\n",
       "      <td>p.K601E</td>\n",
       "      <td>Substitution - Missense</td>\n",
       "      <td>NaN</td>\n",
       "      <td>7:140753334-140753334</td>\n",
       "      <td>-</td>\n",
       "      <td>673_140753334</td>\n",
       "      <td>CANCER</td>\n",
       "      <td>Reported in another cancer sample as somatic</td>\n",
       "      <td>25120313</td>\n",
       "      <td>NaN</td>\n",
       "      <td>140753334</td>\n",
       "      <td>673</td>\n",
       "      <td>673_140453134</td>\n",
       "    </tr>\n",
       "    <tr>\n",
       "      <th>250</th>\n",
       "      <td>PIK3CA</td>\n",
       "      <td>227</td>\n",
       "      <td>thyroid</td>\n",
       "      <td>COSM773</td>\n",
       "      <td>c.3129G&gt;T</td>\n",
       "      <td>p.M1043I</td>\n",
       "      <td>Substitution - Missense</td>\n",
       "      <td>het</td>\n",
       "      <td>3:179234286-179234286</td>\n",
       "      <td>+</td>\n",
       "      <td>5290_179234286</td>\n",
       "      <td>CANCER</td>\n",
       "      <td>Confirmed somatic variant</td>\n",
       "      <td>16288007</td>\n",
       "      <td>NaN</td>\n",
       "      <td>179234286</td>\n",
       "      <td>5290</td>\n",
       "      <td>5290_178952074</td>\n",
       "    </tr>\n",
       "    <tr>\n",
       "      <th>251</th>\n",
       "      <td>NRAS</td>\n",
       "      <td>S61918</td>\n",
       "      <td>thyroid</td>\n",
       "      <td>COSM584</td>\n",
       "      <td>c.182A&gt;G</td>\n",
       "      <td>p.Q61R</td>\n",
       "      <td>Substitution - Missense</td>\n",
       "      <td>NaN</td>\n",
       "      <td>1:114713908-114713908</td>\n",
       "      <td>-</td>\n",
       "      <td>4893_114713908</td>\n",
       "      <td>CANCER</td>\n",
       "      <td>Reported in another cancer sample as somatic</td>\n",
       "      <td>12727991</td>\n",
       "      <td>NaN</td>\n",
       "      <td>114713908</td>\n",
       "      <td>4893</td>\n",
       "      <td>4893_115256529</td>\n",
       "    </tr>\n",
       "  </tbody>\n",
       "</table>\n",
       "</div>"
      ],
      "text/plain": [
       "    Gene name Accession Number Primary site Mutation ID Mutation CDS  \\\n",
       "0        BRAF          1559390      thyroid     COSM476    c.1799T>A   \n",
       "89       BRAF          1559390      thyroid     COSM476    c.1799T>A   \n",
       "249      BRAF          2230480      thyroid     COSM478    c.1801A>G   \n",
       "250    PIK3CA              227      thyroid     COSM773    c.3129G>T   \n",
       "251      NRAS           S61918      thyroid     COSM584     c.182A>G   \n",
       "\n",
       "    Mutation AA     Mutation Description Mutation zygosity  \\\n",
       "0       p.V600E  Substitution - Missense               NaN   \n",
       "89      p.V600E  Substitution - Missense               NaN   \n",
       "249     p.K601E  Substitution - Missense               NaN   \n",
       "250    p.M1043I  Substitution - Missense               het   \n",
       "251      p.Q61R  Substitution - Missense               NaN   \n",
       "\n",
       "    Mutation genome position Mutation strand             SNP  \\\n",
       "0      7:140753336-140753336               -   673_140753336   \n",
       "89     7:140753336-140753336               -   673_140753336   \n",
       "249    7:140753334-140753334               -   673_140753334   \n",
       "250    3:179234286-179234286               +  5290_179234286   \n",
       "251    1:114713908-114713908               -  4893_114713908   \n",
       "\n",
       "    FATHMM prediction                       Mutation somatic status  \\\n",
       "0              CANCER  Reported in another cancer sample as somatic   \n",
       "89             CANCER  Reported in another cancer sample as somatic   \n",
       "249            CANCER  Reported in another cancer sample as somatic   \n",
       "250            CANCER                     Confirmed somatic variant   \n",
       "251            CANCER  Reported in another cancer sample as somatic   \n",
       "\n",
       "     Pubmed_PMID  ID_STUDY Start_Position  Entrez_Gene_Id            SNP2  \n",
       "0       21175381       NaN      140753336             673   673_140453136  \n",
       "89      21175381       NaN      140753336             673   673_140453135  \n",
       "249     25120313       NaN      140753334             673   673_140453134  \n",
       "250     16288007       NaN      179234286            5290  5290_178952074  \n",
       "251     12727991       NaN      114713908            4893  4893_115256529  "
      ]
     },
     "execution_count": 67,
     "metadata": {},
     "output_type": "execute_result"
    }
   ],
   "source": [
    "cancer[pd.notnull(cancer['SNP2'])].head()"
   ]
  },
  {
   "cell_type": "code",
   "execution_count": 66,
   "metadata": {
    "collapsed": false,
    "scrolled": false
   },
   "outputs": [
    {
     "data": {
      "text/plain": [
       "Gene name                   16\n",
       "Accession Number            16\n",
       "Primary site                16\n",
       "Mutation ID                 16\n",
       "Mutation CDS                16\n",
       "Mutation AA                 16\n",
       "Mutation Description        16\n",
       "Mutation zygosity            2\n",
       "Mutation genome position    16\n",
       "Mutation strand             16\n",
       "SNP                         16\n",
       "FATHMM prediction           16\n",
       "Mutation somatic status     16\n",
       "Pubmed_PMID                 16\n",
       "ID_STUDY                     0\n",
       "Start_Position              16\n",
       "Entrez_Gene_Id              16\n",
       "SNP2                        16\n",
       "dtype: int64"
      ]
     },
     "execution_count": 66,
     "metadata": {},
     "output_type": "execute_result"
    }
   ],
   "source": [
    "cancer.count()"
   ]
  },
  {
   "cell_type": "code",
   "execution_count": 73,
   "metadata": {
    "collapsed": false
   },
   "outputs": [
    {
     "data": {
      "text/plain": [
       "Gene name                   10875\n",
       "Accession Number             1067\n",
       "Primary site                 1067\n",
       "Mutation ID                  1067\n",
       "Mutation CDS                 1067\n",
       "Mutation AA                  1067\n",
       "Mutation Description         1067\n",
       "Mutation zygosity              14\n",
       "Mutation genome position     1067\n",
       "Mutation strand              1067\n",
       "SNP                         10875\n",
       "FATHMM prediction            1067\n",
       "Mutation somatic status      1067\n",
       "Pubmed_PMID                    25\n",
       "ID_STUDY                     1042\n",
       "Start_Position               1067\n",
       "Entrez_Gene_Id              10875\n",
       "dtype: int64"
      ]
     },
     "execution_count": 73,
     "metadata": {},
     "output_type": "execute_result"
    }
   ],
   "source": [
    "with open('thyr.uniq_neutral_SNPs.abrvCosmic.csv', 'r') as cosmic:\n",
    "    neutral = pd.read_csv(cosmic, sep=',')\n",
    "neutral['Gene name'] = neutral['Gene name'].map(simplify)\n",
    "neutral['Start_Position'] = neutral['Mutation genome position'].map(get_loc)\n",
    "neutral = pd.merge(neutral, hugo_entrez, on='Gene name', how='outer')\n",
    "neutral = neutral[pd.notnull(neutral['Entrez_Gene_Id'])]\n",
    "neutral['SNP'] = neutral[['Entrez_Gene_Id', 'Start_Position']].apply(combine, axis=1)\n",
    "# total of 826 neutral genes\n",
    "neutral_df = pd.DataFrame(neutral['SNP'].value_counts()) #where you would add constraints\n",
    "neutral_df.reset_index(level=0, inplace=True)\n",
    "neutral_to_be_used = list(neutral_df['index'])\n",
    "neutral = neutral[neutral['SNP'].isin(neutral_to_be_used)]\n",
    "neutral.count()"
   ]
  },
  {
   "cell_type": "code",
   "execution_count": 81,
   "metadata": {
    "collapsed": false
   },
   "outputs": [
    {
     "data": {
      "text/html": [
       "<div style=\"max-height:1000px;max-width:1500px;overflow:auto;\">\n",
       "<table border=\"1\" class=\"dataframe\">\n",
       "  <thead>\n",
       "    <tr style=\"text-align: right;\">\n",
       "      <th></th>\n",
       "      <th>SNP2</th>\n",
       "      <th>Mutation AA</th>\n",
       "      <th>Entrez_Gene_Id</th>\n",
       "    </tr>\n",
       "  </thead>\n",
       "  <tbody>\n",
       "  </tbody>\n",
       "</table>\n",
       "</div>"
      ],
      "text/plain": [
       "Empty DataFrame\n",
       "Columns: [SNP2, Mutation AA, Entrez_Gene_Id]\n",
       "Index: []"
      ]
     },
     "execution_count": 81,
     "metadata": {},
     "output_type": "execute_result"
    }
   ],
   "source": [
    "pc[pc[\"Entrez_Gene_Id\"] == 7757]"
   ]
  },
  {
   "cell_type": "code",
   "execution_count": 70,
   "metadata": {
    "collapsed": true
   },
   "outputs": [],
   "source": [
    "neutral = pd.merge(neutral, pc, on=[\"Entrez_Gene_Id\",\"Mutation AA\"], how='inner')\n",
    "neutral = neutral.drop_duplicates()"
   ]
  },
  {
   "cell_type": "code",
   "execution_count": 72,
   "metadata": {
    "collapsed": false
   },
   "outputs": [
    {
     "data": {
      "text/html": [
       "<div style=\"max-height:1000px;max-width:1500px;overflow:auto;\">\n",
       "<table border=\"1\" class=\"dataframe\">\n",
       "  <thead>\n",
       "    <tr style=\"text-align: right;\">\n",
       "      <th></th>\n",
       "      <th>Gene name</th>\n",
       "      <th>Accession Number</th>\n",
       "      <th>Primary site</th>\n",
       "      <th>Mutation ID</th>\n",
       "      <th>Mutation CDS</th>\n",
       "      <th>Mutation AA</th>\n",
       "      <th>Mutation Description</th>\n",
       "      <th>Mutation zygosity</th>\n",
       "      <th>Mutation genome position</th>\n",
       "      <th>Mutation strand</th>\n",
       "      <th>SNP</th>\n",
       "      <th>FATHMM prediction</th>\n",
       "      <th>Mutation somatic status</th>\n",
       "      <th>Pubmed_PMID</th>\n",
       "      <th>ID_STUDY</th>\n",
       "      <th>Start_Position</th>\n",
       "      <th>Entrez_Gene_Id</th>\n",
       "      <th>SNP2</th>\n",
       "    </tr>\n",
       "  </thead>\n",
       "  <tbody>\n",
       "  </tbody>\n",
       "</table>\n",
       "</div>"
      ],
      "text/plain": [
       "Empty DataFrame\n",
       "Columns: [Gene name, Accession Number, Primary site, Mutation ID, Mutation CDS, Mutation AA, Mutation Description, Mutation zygosity, Mutation genome position, Mutation strand, SNP, FATHMM prediction, Mutation somatic status, Pubmed_PMID, ID_STUDY, Start_Position, Entrez_Gene_Id, SNP2]\n",
       "Index: []"
      ]
     },
     "execution_count": 72,
     "metadata": {},
     "output_type": "execute_result"
    }
   ],
   "source": [
    "neutral.head()"
   ]
  },
  {
   "cell_type": "code",
   "execution_count": 71,
   "metadata": {
    "collapsed": false
   },
   "outputs": [
    {
     "name": "stdout",
     "output_type": "stream",
     "text": [
      "13\n",
      "['673_140453136' '673_140453135' '673_140453134' '5290_178952074'\n",
      " '4893_115256529' '4893_115256530' '3265_533875' '3265_533874'\n",
      " '3845_25398284' '3845_25380276' '3845_25380277' '23405_95557629'\n",
      " '207_105246551']\n",
      "0\n"
     ]
    }
   ],
   "source": [
    "cancer_genes = cancer['SNP2'].unique()\n",
    "print len(cancer_genes)\n",
    "print cancer_genes\n",
    "neutral_genes = neutral['SNP2'].unique()\n",
    "print len(neutral_genes)"
   ]
  },
  {
   "cell_type": "code",
   "execution_count": 173,
   "metadata": {
    "collapsed": false
   },
   "outputs": [],
   "source": [
    "all_genes = mr.SNP.unique()\n",
    "cancer_set = [gene for gene in all_genes if gene in cancer_genes]\n",
    "neutral_set = [gene for gene in all_genes if gene in neutral_genes]"
   ]
  },
  {
   "cell_type": "code",
   "execution_count": 175,
   "metadata": {
    "collapsed": false
   },
   "outputs": [
    {
     "name": "stdout",
     "output_type": "stream",
     "text": [
      "['3265_533874', '3265_533875']\n",
      "['8174_501738', '4588_1027811']\n"
     ]
    }
   ],
   "source": [
    "print cancer_set\n",
    "print neutral_set"
   ]
  },
  {
   "cell_type": "code",
   "execution_count": 89,
   "metadata": {
    "collapsed": false
   },
   "outputs": [],
   "source": [
    "# get entrez ids for cancer set and neutral set\n",
    "cancer_set_entrez = [int(hugo_entrez[hugo_entrez[\"Hugo_Symbol\"] == gene].Entrez_Gene_Id) for gene in cancer_set]\n",
    "neutral_set_entrez = [int(hugo_entrez[hugo_entrez[\"Hugo_Symbol\"] == gene].Entrez_Gene_Id) for gene in neutral_set]"
   ]
  },
  {
   "cell_type": "markdown",
   "metadata": {},
   "source": [
    "##Try Number two"
   ]
  },
  {
   "cell_type": "code",
   "execution_count": 4,
   "metadata": {
    "collapsed": true
   },
   "outputs": [],
   "source": [
    "with open('thyr.uniq_cancer_SNPs.abrvCosmic.csv', 'r') as cosmic:\n",
    "    cancer = pd.read_csv(cosmic, sep=',')\n",
    "cancer['Gene name'] = cancer['Gene name'].map(simplify)\n",
    "cancer['Start_Position'] = cancer['Mutation genome position'].map(get_loc)\n",
    "cancer = pd.merge(cancer, hugo_entrez, on='Gene name', how='outer')\n",
    "cancer = cancer[pd.notnull(cancer['Entrez_Gene_Id'])]\n",
    "cancer['SNP'] = cancer[['Entrez_Gene_Id', 'Start_Position']].apply(combine, axis=1)\n",
    "cancer = cancer.drop_duplicates()"
   ]
  },
  {
   "cell_type": "code",
   "execution_count": 5,
   "metadata": {
    "collapsed": false
   },
   "outputs": [],
   "source": [
    "with open('thyr.uniq_neutral_SNPs.abrvCosmic.csv', 'r') as cosmic:\n",
    "    neutral = pd.read_csv(cosmic, sep=',')\n",
    "neutral['Gene name'] = neutral['Gene name'].map(simplify)\n",
    "neutral['Start_Position'] = neutral['Mutation genome position'].map(get_loc)\n",
    "neutral = pd.merge(neutral, hugo_entrez, on='Gene name', how='outer')\n",
    "neutral = neutral[pd.notnull(neutral['Entrez_Gene_Id'])]\n",
    "neutral['SNP'] = neutral[['Entrez_Gene_Id', 'Start_Position']].apply(combine, axis=1)\n",
    "# total of 826 neutral genes\n",
    "neutral_df = pd.DataFrame(neutral['SNP'].value_counts()) #where you would add constraints\n",
    "neutral_df.reset_index(level=0, inplace=True)\n",
    "neutral_to_be_used = list(neutral_df['index'])\n",
    "neutral = neutral[neutral['SNP'].isin(neutral_to_be_used)]"
   ]
  },
  {
   "cell_type": "code",
   "execution_count": 6,
   "metadata": {
    "collapsed": false
   },
   "outputs": [],
   "source": [
    "mut_id = pd.read_csv('mut_id.csv', index_col=0)"
   ]
  },
  {
   "cell_type": "code",
   "execution_count": 7,
   "metadata": {
    "collapsed": false,
    "scrolled": true
   },
   "outputs": [],
   "source": [
    "cancer = pd.merge(cancer, mut_id, on=\"Mutation ID\", how=\"inner\")"
   ]
  },
  {
   "cell_type": "code",
   "execution_count": 8,
   "metadata": {
    "collapsed": false
   },
   "outputs": [],
   "source": [
    "neutral = pd.merge(neutral, mut_id, on=\"Mutation ID\", how=\"inner\")"
   ]
  },
  {
   "cell_type": "code",
   "execution_count": 9,
   "metadata": {
    "collapsed": false
   },
   "outputs": [
    {
     "name": "stdout",
     "output_type": "stream",
     "text": [
      "259\n",
      "889\n"
     ]
    }
   ],
   "source": [
    "cancer_genes = cancer['SNP2'].unique()\n",
    "print len(cancer_genes)\n",
    "neutral_genes = neutral['SNP2'].unique()\n",
    "print len(neutral_genes)"
   ]
  },
  {
   "cell_type": "code",
   "execution_count": 10,
   "metadata": {
    "collapsed": true
   },
   "outputs": [],
   "source": [
    "all_genes = mr.SNP.unique()\n",
    "cancer_set = [gene for gene in all_genes if gene in cancer_genes]\n",
    "neutral_set = [gene for gene in all_genes if gene in neutral_genes]"
   ]
  },
  {
   "cell_type": "code",
   "execution_count": 11,
   "metadata": {
    "collapsed": false
   },
   "outputs": [
    {
     "name": "stdout",
     "output_type": "stream",
     "text": [
      "['207_105246551', '673_140453134', '673_140453136', '23405_95557629', '3265_533874', '3265_533875', '3845_25380276', '3845_25380277', '3845_25398284', '4893_115256529', '4893_115256530', '5290_178952074', '3845_25398228', '5728_89692941']\n",
      "['176_89415247', '113146_105406238', '113146_105411700', '113146_105411781', '113146_105418344', '113146_105418391', '364_33385690', '364_33385852', '364_33386510', '83858_1431165', '9790_43318589', '675_32906729', '56673_8942942', '284018_65988049', '765_9009444', '10241_46926615', '339184_20768763', '996_45219311', '23177_65296798', '1114_5903067', '1118_203186947', '4261_11000848', '26047_147183121', '85301_116931099', '285464_1388508', '285464_1388757', '55118_99625319', '115265_101108877', '10395_12957475', '1816_9784542', '2074_50667105', '2312_152283862', '2327_171168584', '2569_89926962', '388646_89599084', '55876_38062217', '341567_48723324', '3105_29911296', '3105_29911306', '3115_33048599', '3123_32557449', '9394_129025860', '3064_3234980', '3566_27374180', '3683_30518041', '23630_108868163', '23325_105521009', '3802_55281315', '58508_151970877', '374454_53091566', '3889_52710721', '653240_39274364', '728224_39254054', '100132386_39261693', '3911_60899206', '340745_85981801', '345193_110790911', '284348_44302624', '145748_100269749', '119180_30918549', '8174_501738', '4125_12772090', '4585_195513173', '4588_1027811', '4666_57111948', '9611_16068463', '23386_44444122', '393046_143748257', '343169_247875415', '128372_158735740', '219417_56143125', '219417_56143592', '143_25021323', '56140_140222641', '5190_42932200', '114770_15587185', '93035_110455184', '5542_11506211', '653247_11546314', '5545_11461549', '23572_186276229', '23572_186276661', '84432_110998854', '643905_240982129', '643905_240982131', '643905_240982173', '85481_87076520', '6289_18267478', '348303_40009396', '89858_52004743', '9058_26824156', '6570_20036827', '6699_153004853', '10948_37814080', '161176_95906321', '57707_84522897', '66000_133098806', '27242_47200703', '84951_38645125', '7177_1291160', '23430_1306973', '26140_9871030', '58189_84351893', '65268_96021312', '84272_32515694', '7455_100350474', '79698_40438757', '57693_9267319', '284443_21607526', '400713_52888049', '135114_126278230', '4135_75378674', '79573_231114465']\n"
     ]
    }
   ],
   "source": [
    "print cancer_set\n",
    "print neutral_set"
   ]
  },
  {
   "cell_type": "markdown",
   "metadata": {},
   "source": [
    "##Complete feature vectors"
   ]
  },
  {
   "cell_type": "code",
   "execution_count": 12,
   "metadata": {
    "collapsed": true
   },
   "outputs": [],
   "source": [
    "tcga_feature_vector = pd.read_csv('tcga_feature_vector.csv', index_col=0)"
   ]
  },
  {
   "cell_type": "code",
   "execution_count": 13,
   "metadata": {
    "collapsed": false
   },
   "outputs": [
    {
     "data": {
      "text/html": [
       "<div style=\"max-height:1000px;max-width:1500px;overflow:auto;\">\n",
       "<table border=\"1\" class=\"dataframe\">\n",
       "  <thead>\n",
       "    <tr style=\"text-align: right;\">\n",
       "      <th></th>\n",
       "      <th>SNP</th>\n",
       "      <th>counts</th>\n",
       "      <th>Perc_Bi_Allelic</th>\n",
       "      <th>Density</th>\n",
       "    </tr>\n",
       "  </thead>\n",
       "  <tbody>\n",
       "    <tr>\n",
       "      <th>0</th>\n",
       "      <td>673_140453136</td>\n",
       "      <td>480</td>\n",
       "      <td>0.508333</td>\n",
       "      <td>1298.9</td>\n",
       "    </tr>\n",
       "    <tr>\n",
       "      <th>248</th>\n",
       "      <td>673_140453135</td>\n",
       "      <td>3</td>\n",
       "      <td>0.333333</td>\n",
       "      <td>1298.9</td>\n",
       "    </tr>\n",
       "    <tr>\n",
       "      <th>249</th>\n",
       "      <td>673_140477840</td>\n",
       "      <td>2</td>\n",
       "      <td>0.500000</td>\n",
       "      <td>1298.9</td>\n",
       "    </tr>\n",
       "    <tr>\n",
       "      <th>250</th>\n",
       "      <td>673_140453193</td>\n",
       "      <td>2</td>\n",
       "      <td>0.500000</td>\n",
       "      <td>1298.9</td>\n",
       "    </tr>\n",
       "    <tr>\n",
       "      <th>251</th>\n",
       "      <td>673_140477827</td>\n",
       "      <td>2</td>\n",
       "      <td>0.500000</td>\n",
       "      <td>1298.9</td>\n",
       "    </tr>\n",
       "  </tbody>\n",
       "</table>\n",
       "</div>"
      ],
      "text/plain": [
       "               SNP  counts  Perc_Bi_Allelic  Density\n",
       "0    673_140453136     480         0.508333   1298.9\n",
       "248  673_140453135       3         0.333333   1298.9\n",
       "249  673_140477840       2         0.500000   1298.9\n",
       "250  673_140453193       2         0.500000   1298.9\n",
       "251  673_140477827       2         0.500000   1298.9"
      ]
     },
     "execution_count": 13,
     "metadata": {},
     "output_type": "execute_result"
    }
   ],
   "source": [
    "tcga_feature_vector.head()"
   ]
  },
  {
   "cell_type": "code",
   "execution_count": 14,
   "metadata": {
    "collapsed": false
   },
   "outputs": [],
   "source": [
    "cancer_feature_vector = tcga_feature_vector[tcga_feature_vector[\"SNP\"].isin(cancer_set)]\n",
    "neutral_feature_vector = tcga_feature_vector[tcga_feature_vector[\"SNP\"].isin(neutral_set)]"
   ]
  },
  {
   "cell_type": "code",
   "execution_count": 15,
   "metadata": {
    "collapsed": false,
    "scrolled": false
   },
   "outputs": [
    {
     "name": "stdout",
     "output_type": "stream",
     "text": [
      "SNP                14\n",
      "counts             14\n",
      "Perc_Bi_Allelic    14\n",
      "Density            14\n",
      "dtype: int64\n",
      "SNP                113\n",
      "counts             113\n",
      "Perc_Bi_Allelic    113\n",
      "Density             45\n",
      "dtype: int64\n"
     ]
    },
    {
     "data": {
      "text/html": [
       "<div style=\"max-height:1000px;max-width:1500px;overflow:auto;\">\n",
       "<table border=\"1\" class=\"dataframe\">\n",
       "  <thead>\n",
       "    <tr style=\"text-align: right;\">\n",
       "      <th></th>\n",
       "      <th>SNP</th>\n",
       "      <th>counts</th>\n",
       "      <th>Perc_Bi_Allelic</th>\n",
       "      <th>Density</th>\n",
       "    </tr>\n",
       "  </thead>\n",
       "  <tbody>\n",
       "    <tr>\n",
       "      <th>0</th>\n",
       "      <td>673_140453136</td>\n",
       "      <td>480</td>\n",
       "      <td>0.508333</td>\n",
       "      <td>1298.9</td>\n",
       "    </tr>\n",
       "    <tr>\n",
       "      <th>252</th>\n",
       "      <td>673_140453134</td>\n",
       "      <td>2</td>\n",
       "      <td>0.500000</td>\n",
       "      <td>1298.9</td>\n",
       "    </tr>\n",
       "    <tr>\n",
       "      <th>259</th>\n",
       "      <td>4893_115256529</td>\n",
       "      <td>54</td>\n",
       "      <td>0.500000</td>\n",
       "      <td>1736.6</td>\n",
       "    </tr>\n",
       "    <tr>\n",
       "      <th>290</th>\n",
       "      <td>4893_115256530</td>\n",
       "      <td>14</td>\n",
       "      <td>0.500000</td>\n",
       "      <td>1736.6</td>\n",
       "    </tr>\n",
       "    <tr>\n",
       "      <th>297</th>\n",
       "      <td>3265_533874</td>\n",
       "      <td>24</td>\n",
       "      <td>0.541667</td>\n",
       "      <td>1824.5</td>\n",
       "    </tr>\n",
       "  </tbody>\n",
       "</table>\n",
       "</div>"
      ],
      "text/plain": [
       "                SNP  counts  Perc_Bi_Allelic  Density\n",
       "0     673_140453136     480         0.508333   1298.9\n",
       "252   673_140453134       2         0.500000   1298.9\n",
       "259  4893_115256529      54         0.500000   1736.6\n",
       "290  4893_115256530      14         0.500000   1736.6\n",
       "297     3265_533874      24         0.541667   1824.5"
      ]
     },
     "execution_count": 15,
     "metadata": {},
     "output_type": "execute_result"
    }
   ],
   "source": [
    "print cancer_feature_vector.count()\n",
    "print neutral_feature_vector.count()\n",
    "cancer_feature_vector.head()"
   ]
  },
  {
   "cell_type": "code",
   "execution_count": 16,
   "metadata": {
    "collapsed": false
   },
   "outputs": [],
   "source": [
    "# restrict the cancer and neutral feature vectors\n",
    "cancer_feature_vector = cancer_feature_vector[['SNP', 'counts', 'Perc_Bi_Allelic', 'Density']]\n",
    "neutral_feature_vector = neutral_feature_vector[['SNP', 'counts', 'Perc_Bi_Allelic', 'Density']]"
   ]
  },
  {
   "cell_type": "code",
   "execution_count": 17,
   "metadata": {
    "collapsed": true
   },
   "outputs": [],
   "source": [
    "cancer_feature_vector.to_csv('cancer_feature_vector_tcga.csv')\n",
    "neutral_feature_vector.to_csv('neutral_feature_vector_tcga.csv')"
   ]
  },
  {
   "cell_type": "code",
   "execution_count": 23,
   "metadata": {
    "collapsed": true
   },
   "outputs": [],
   "source": [
    "cancer_feature_vector[:4].to_csv('cancer_feature_vector_tcga_validation.csv')\n",
    "neutral_feature_vector[:103].to_csv('neutral_feature_vector_tcga_validation.csv')"
   ]
  },
  {
   "cell_type": "code",
   "execution_count": 24,
   "metadata": {
    "collapsed": false
   },
   "outputs": [],
   "source": [
    "cancer_feature_vector[4:].to_csv('cancer_feature_vector_tcga_training.csv')\n",
    "neutral_feature_vector[103:].to_csv('neutral_feature_vector_tcga_training.csv')"
   ]
  },
  {
   "cell_type": "markdown",
   "metadata": {},
   "source": [
    "We should have normalized by gene length... fail!!"
   ]
  },
  {
   "cell_type": "code",
   "execution_count": 168,
   "metadata": {
    "collapsed": true
   },
   "outputs": [],
   "source": [
    "# try adding all of the other neutral back in... it shouldn't matter for a support vector"
   ]
  },
  {
   "cell_type": "code",
   "execution_count": null,
   "metadata": {
    "collapsed": true
   },
   "outputs": [],
   "source": []
  }
 ],
 "metadata": {
  "kernelspec": {
   "display_name": "Python 2",
   "language": "python",
   "name": "python2"
  },
  "language_info": {
   "codemirror_mode": {
    "name": "ipython",
    "version": 2
   },
   "file_extension": ".py",
   "mimetype": "text/x-python",
   "name": "python",
   "nbconvert_exporter": "python",
   "pygments_lexer": "ipython2",
   "version": "2.7.7"
  }
 },
 "nbformat": 4,
 "nbformat_minor": 0
}
