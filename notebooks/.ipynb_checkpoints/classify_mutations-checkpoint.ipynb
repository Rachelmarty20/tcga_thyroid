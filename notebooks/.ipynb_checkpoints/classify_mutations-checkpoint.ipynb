{
 "cells": [
  {
   "cell_type": "markdown",
   "metadata": {},
   "source": [
    "#Classify Mutations"
   ]
  },
  {
   "cell_type": "markdown",
   "metadata": {},
   "source": [
    "This script takes the feature vectors as input and uses a random forest classifer to separate the mutations as "
   ]
  },
  {
   "cell_type": "code",
   "execution_count": 1,
   "metadata": {
    "collapsed": false
   },
   "outputs": [
    {
     "name": "stdout",
     "output_type": "stream",
     "text": [
      "Populating the interactive namespace from numpy and matplotlib\n"
     ]
    }
   ],
   "source": [
    "%pylab inline\n",
    "import pandas as pd\n",
    "import numpy as np\n",
    "import os\n",
    "import sklearn as sk\n",
    "from sklearn.cluster import AffinityPropagation\n",
    "from sklearn import datasets\n",
    "from sklearn import metrics\n",
    "from multiprocessing import Pool\n",
    "from sklearn.ensemble import RandomForestClassifier\n",
    "from sklearn.externals import joblib"
   ]
  },
  {
   "cell_type": "code",
   "execution_count": 2,
   "metadata": {
    "collapsed": false
   },
   "outputs": [],
   "source": [
    "cancer_feature_vector = pd.read_csv('cancer_feature_vector_tcga.csv', index_col=0)\n",
    "neutral_feature_vector = pd.read_csv('neutral_feature_vector_tcga.csv', index_col=0)\n",
    "cancer_feature_vector_training = pd.read_csv('cancer_feature_vector_tcga_training.csv', index_col=0)\n",
    "neutral_feature_vector_training = pd.read_csv('neutral_feature_vector_tcga_training.csv', index_col=0)\n",
    "cancer_feature_vector_validation = pd.read_csv('cancer_feature_vector_tcga_validation.csv', index_col=0)\n",
    "neutral_feature_vector_validation = pd.read_csv('neutral_feature_vector_tcga_validation.csv', index_col=0)"
   ]
  },
  {
   "cell_type": "markdown",
   "metadata": {},
   "source": [
    "using whole set"
   ]
  },
  {
   "cell_type": "code",
   "execution_count": 3,
   "metadata": {
    "collapsed": false
   },
   "outputs": [],
   "source": [
    "cancer_feature_vector = cancer_feature_vector.fillna(0)\n",
    "cancer_matrix = cancer_feature_vector.values[:,1:].astype(float32)\n",
    "neutral_feature_vector = neutral_feature_vector.fillna(0)\n",
    "neutral_matrix = neutral_feature_vector.values[:,1:].astype(float32)\n",
    "both_matrix = np.concatenate((cancer_matrix, neutral_matrix), axis=0)\n",
    "assignments = [1 for gene in range(len(cancer_matrix))] + [0 for gene in range(len(neutral_matrix))]\n",
    "#print both_matrix\n",
    "#print assignments"
   ]
  },
  {
   "cell_type": "markdown",
   "metadata": {},
   "source": [
    "training set"
   ]
  },
  {
   "cell_type": "code",
   "execution_count": 4,
   "metadata": {
    "collapsed": true
   },
   "outputs": [],
   "source": [
    "cancer_feature_vector_training = cancer_feature_vector_training.fillna(0)\n",
    "cancer_matrix = cancer_feature_vector_training.values[:,1:].astype(float32)\n",
    "neutral_feature_vector_training = neutral_feature_vector_training.fillna(0)\n",
    "neutral_matrix = neutral_feature_vector_training.values[:,1:].astype(float32)\n",
    "training_matrix = np.concatenate((cancer_matrix, neutral_matrix), axis=0)\n",
    "training_assignments = [1 for gene in range(len(cancer_matrix))] + [0 for gene in range(len(neutral_matrix))]"
   ]
  },
  {
   "cell_type": "code",
   "execution_count": 5,
   "metadata": {
    "collapsed": false
   },
   "outputs": [
    {
     "name": "stdout",
     "output_type": "stream",
     "text": [
      "SNP                10\n",
      "counts             10\n",
      "Perc_Bi_Allelic    10\n",
      "Density            10\n",
      "dtype: int64\n",
      "SNP                10\n",
      "counts             10\n",
      "Perc_Bi_Allelic    10\n",
      "Density            10\n",
      "dtype: int64\n"
     ]
    }
   ],
   "source": [
    "print cancer_feature_vector_training.count()\n",
    "print neutral_feature_vector_training.count()"
   ]
  },
  {
   "cell_type": "markdown",
   "metadata": {},
   "source": [
    "validation set"
   ]
  },
  {
   "cell_type": "code",
   "execution_count": 6,
   "metadata": {
    "collapsed": true
   },
   "outputs": [],
   "source": [
    "cancer_feature_vector_validation = cancer_feature_vector_validation.fillna(0)\n",
    "cancer_matrix = cancer_feature_vector_validation.values[:,1:].astype(float32)\n",
    "neutral_feature_vector_validation = neutral_feature_vector_validation.fillna(0)\n",
    "neutral_matrix = neutral_feature_vector_validation.values[:,1:].astype(float32)\n",
    "validation_matrix = np.concatenate((cancer_matrix, neutral_matrix), axis=0)\n",
    "validation_key = [1 for gene in range(len(cancer_matrix))] + [0 for gene in range(len(neutral_matrix))]"
   ]
  },
  {
   "cell_type": "code",
   "execution_count": 7,
   "metadata": {
    "collapsed": false
   },
   "outputs": [
    {
     "name": "stdout",
     "output_type": "stream",
     "text": [
      "SNP                4\n",
      "counts             4\n",
      "Perc_Bi_Allelic    4\n",
      "Density            4\n",
      "dtype: int64\n",
      "SNP                103\n",
      "counts             103\n",
      "Perc_Bi_Allelic    103\n",
      "Density            103\n",
      "dtype: int64\n"
     ]
    }
   ],
   "source": [
    "print cancer_feature_vector_validation.count()\n",
    "print neutral_feature_vector_validation.count()"
   ]
  },
  {
   "cell_type": "code",
   "execution_count": 8,
   "metadata": {
    "collapsed": true
   },
   "outputs": [],
   "source": [
    "# create mutations array to predict upon\n",
    "tcga_feature_vector = pd.read_csv('tcga_feature_vector.csv', index_col=0)\n",
    "tcga_feature_vector = tcga_feature_vector.fillna(0)\n",
    "tcga_matrix = tcga_feature_vector.values[:,1:].astype(float32)"
   ]
  },
  {
   "cell_type": "code",
   "execution_count": 9,
   "metadata": {
    "collapsed": false,
    "scrolled": true
   },
   "outputs": [
    {
     "data": {
      "text/html": [
       "<div style=\"max-height:1000px;max-width:1500px;overflow:auto;\">\n",
       "<table border=\"1\" class=\"dataframe\">\n",
       "  <thead>\n",
       "    <tr style=\"text-align: right;\">\n",
       "      <th></th>\n",
       "      <th>SNP</th>\n",
       "      <th>counts</th>\n",
       "      <th>Perc_Bi_Allelic</th>\n",
       "      <th>Density</th>\n",
       "    </tr>\n",
       "  </thead>\n",
       "  <tbody>\n",
       "    <tr>\n",
       "      <th>0</th>\n",
       "      <td>673_140453136</td>\n",
       "      <td>480</td>\n",
       "      <td>0.508333</td>\n",
       "      <td>1298.9</td>\n",
       "    </tr>\n",
       "    <tr>\n",
       "      <th>248</th>\n",
       "      <td>673_140453135</td>\n",
       "      <td>3</td>\n",
       "      <td>0.333333</td>\n",
       "      <td>1298.9</td>\n",
       "    </tr>\n",
       "    <tr>\n",
       "      <th>249</th>\n",
       "      <td>673_140477840</td>\n",
       "      <td>2</td>\n",
       "      <td>0.500000</td>\n",
       "      <td>1298.9</td>\n",
       "    </tr>\n",
       "    <tr>\n",
       "      <th>250</th>\n",
       "      <td>673_140453193</td>\n",
       "      <td>2</td>\n",
       "      <td>0.500000</td>\n",
       "      <td>1298.9</td>\n",
       "    </tr>\n",
       "    <tr>\n",
       "      <th>251</th>\n",
       "      <td>673_140477827</td>\n",
       "      <td>2</td>\n",
       "      <td>0.500000</td>\n",
       "      <td>1298.9</td>\n",
       "    </tr>\n",
       "  </tbody>\n",
       "</table>\n",
       "</div>"
      ],
      "text/plain": [
       "               SNP  counts  Perc_Bi_Allelic  Density\n",
       "0    673_140453136     480         0.508333   1298.9\n",
       "248  673_140453135       3         0.333333   1298.9\n",
       "249  673_140477840       2         0.500000   1298.9\n",
       "250  673_140453193       2         0.500000   1298.9\n",
       "251  673_140477827       2         0.500000   1298.9"
      ]
     },
     "execution_count": 9,
     "metadata": {},
     "output_type": "execute_result"
    }
   ],
   "source": [
    "tcga_feature_vector.head()"
   ]
  },
  {
   "cell_type": "code",
   "execution_count": 10,
   "metadata": {
    "collapsed": true
   },
   "outputs": [],
   "source": [
    "mr = pd.read_csv('mr.csv', index_col=0)\n",
    "hugo_entrez = mr[['Hugo_Symbol', 'Entrez_Gene_Id']]\n",
    "hugo_entrez = hugo_entrez.drop_duplicates()"
   ]
  },
  {
   "cell_type": "markdown",
   "metadata": {},
   "source": [
    "### Random Tree Classifier"
   ]
  },
  {
   "cell_type": "code",
   "execution_count": 121,
   "metadata": {
    "collapsed": false
   },
   "outputs": [],
   "source": [
    "clf = RandomForestClassifier(n_estimators=100, min_samples_leaf=5)\n",
    "clf = clf.fit(training_matrix, training_assignments)"
   ]
  },
  {
   "cell_type": "code",
   "execution_count": 11,
   "metadata": {
    "collapsed": true
   },
   "outputs": [],
   "source": [
    "clf = joblib.load('random_forest.pkl') "
   ]
  },
  {
   "cell_type": "code",
   "execution_count": 12,
   "metadata": {
    "collapsed": false
   },
   "outputs": [],
   "source": [
    "output = clf.predict(tcga_matrix)"
   ]
  },
  {
   "cell_type": "code",
   "execution_count": 13,
   "metadata": {
    "collapsed": false
   },
   "outputs": [],
   "source": [
    "probabilities = clf.predict_proba(tcga_matrix)"
   ]
  },
  {
   "cell_type": "code",
   "execution_count": 14,
   "metadata": {
    "collapsed": false
   },
   "outputs": [
    {
     "data": {
      "text/plain": [
       "array([ 0.24751553,  0.29      ,  0.37248447])"
      ]
     },
     "execution_count": 14,
     "metadata": {},
     "output_type": "execute_result"
    }
   ],
   "source": [
    "clf.feature_importances_"
   ]
  },
  {
   "cell_type": "code",
   "execution_count": 186,
   "metadata": {
    "collapsed": false
   },
   "outputs": [
    {
     "name": "stdout",
     "output_type": "stream",
     "text": [
      "19012\n",
      "972\n"
     ]
    }
   ],
   "source": [
    "print list(output).count(0)\n",
    "print list(output).count(1)"
   ]
  },
  {
   "cell_type": "code",
   "execution_count": 170,
   "metadata": {
    "collapsed": false
   },
   "outputs": [
    {
     "name": "stdout",
     "output_type": "stream",
     "text": [
      "[1, 1, 1, 1, 0, 0, 0, 0, 0, 0, 0, 0, 0, 0, 0, 0, 0, 0, 0, 0, 0, 0, 0, 0, 0, 0, 0, 0, 0, 0, 0, 0, 0, 0, 0, 0, 0, 0, 0, 0, 0, 0, 0, 0, 0, 0, 0, 0, 0, 0, 0, 0, 0, 0, 0, 0, 0, 0, 0, 0, 0, 0, 0, 0, 0, 0, 0, 0, 0, 0, 0, 0, 0, 0, 0, 0, 0, 0, 0, 0, 0, 0, 0, 0, 0, 0, 0, 0, 0, 0, 0, 0, 0, 0, 0, 0, 0, 0, 0, 0, 0, 0, 0, 0, 0, 0, 0]\n",
      "[1, 1, 1, 1, 0, 0, 0, 0, 0, 0, 0, 0, 0, 0, 0, 0, 0, 0, 0, 0, 0, 0, 0, 0, 0, 0, 0, 0, 0, 0, 0, 0, 0, 0, 0, 0, 0, 0, 0, 0, 0, 0, 0, 0, 0, 0, 0, 0, 0, 0, 0, 0, 0, 0, 0, 0, 0, 0, 0, 0, 0, 0, 0, 0, 0, 0, 0, 0, 0, 0, 0, 0, 0, 0, 0, 0, 0, 0, 0, 0, 0, 0, 0, 0, 0, 0, 0, 0, 0, 0, 0, 0, 0, 0, 0, 0, 0, 0, 0, 0, 0, 0, 0, 0, 0, 0, 0]\n"
     ]
    }
   ],
   "source": [
    "validation_predictions = clf.predict(validation_matrix)\n",
    "print list(validation_predictions)\n",
    "print validation_key"
   ]
  },
  {
   "cell_type": "markdown",
   "metadata": {},
   "source": [
    "[1, 1, 1, 0, 1, 0, 0, 0, 1, 0, 0, 0, 1, 0, 0, 0]\n",
    "[1, 1, 1, 1, 1, 1, 1, 1, 0, 0, 0, 0, 0, 0, 0, 0]"
   ]
  },
  {
   "cell_type": "code",
   "execution_count": 171,
   "metadata": {
    "collapsed": false
   },
   "outputs": [
    {
     "name": "stdout",
     "output_type": "stream",
     "text": [
      "1.0\n"
     ]
    }
   ],
   "source": [
    "total, same = 0, 0\n",
    "for index, classification in enumerate(validation_predictions):\n",
    "    total += 1\n",
    "    if validation_key[index] == validation_predictions[index]:\n",
    "        same += 1\n",
    "print float(same)/total"
   ]
  },
  {
   "cell_type": "code",
   "execution_count": 128,
   "metadata": {
    "collapsed": false
   },
   "outputs": [
    {
     "data": {
      "text/plain": [
       "['random_forest.pkl',\n",
       " 'random_forest.pkl_01.npy',\n",
       " 'random_forest.pkl_02.npy',\n",
       " 'random_forest.pkl_03.npy',\n",
       " 'random_forest.pkl_04.npy',\n",
       " 'random_forest.pkl_05.npy',\n",
       " 'random_forest.pkl_06.npy',\n",
       " 'random_forest.pkl_07.npy',\n",
       " 'random_forest.pkl_08.npy',\n",
       " 'random_forest.pkl_09.npy',\n",
       " 'random_forest.pkl_10.npy',\n",
       " 'random_forest.pkl_11.npy',\n",
       " 'random_forest.pkl_12.npy',\n",
       " 'random_forest.pkl_13.npy',\n",
       " 'random_forest.pkl_14.npy',\n",
       " 'random_forest.pkl_15.npy',\n",
       " 'random_forest.pkl_16.npy',\n",
       " 'random_forest.pkl_17.npy',\n",
       " 'random_forest.pkl_18.npy',\n",
       " 'random_forest.pkl_19.npy',\n",
       " 'random_forest.pkl_20.npy',\n",
       " 'random_forest.pkl_21.npy',\n",
       " 'random_forest.pkl_22.npy',\n",
       " 'random_forest.pkl_23.npy',\n",
       " 'random_forest.pkl_24.npy',\n",
       " 'random_forest.pkl_25.npy',\n",
       " 'random_forest.pkl_26.npy',\n",
       " 'random_forest.pkl_27.npy',\n",
       " 'random_forest.pkl_28.npy',\n",
       " 'random_forest.pkl_29.npy',\n",
       " 'random_forest.pkl_30.npy',\n",
       " 'random_forest.pkl_31.npy',\n",
       " 'random_forest.pkl_32.npy',\n",
       " 'random_forest.pkl_33.npy',\n",
       " 'random_forest.pkl_34.npy',\n",
       " 'random_forest.pkl_35.npy',\n",
       " 'random_forest.pkl_36.npy',\n",
       " 'random_forest.pkl_37.npy',\n",
       " 'random_forest.pkl_38.npy',\n",
       " 'random_forest.pkl_39.npy',\n",
       " 'random_forest.pkl_40.npy',\n",
       " 'random_forest.pkl_41.npy',\n",
       " 'random_forest.pkl_42.npy',\n",
       " 'random_forest.pkl_43.npy',\n",
       " 'random_forest.pkl_44.npy',\n",
       " 'random_forest.pkl_45.npy',\n",
       " 'random_forest.pkl_46.npy',\n",
       " 'random_forest.pkl_47.npy',\n",
       " 'random_forest.pkl_48.npy',\n",
       " 'random_forest.pkl_49.npy',\n",
       " 'random_forest.pkl_50.npy',\n",
       " 'random_forest.pkl_51.npy',\n",
       " 'random_forest.pkl_52.npy',\n",
       " 'random_forest.pkl_53.npy',\n",
       " 'random_forest.pkl_54.npy',\n",
       " 'random_forest.pkl_55.npy',\n",
       " 'random_forest.pkl_56.npy',\n",
       " 'random_forest.pkl_57.npy',\n",
       " 'random_forest.pkl_58.npy',\n",
       " 'random_forest.pkl_59.npy',\n",
       " 'random_forest.pkl_60.npy',\n",
       " 'random_forest.pkl_61.npy',\n",
       " 'random_forest.pkl_62.npy',\n",
       " 'random_forest.pkl_63.npy',\n",
       " 'random_forest.pkl_64.npy',\n",
       " 'random_forest.pkl_65.npy',\n",
       " 'random_forest.pkl_66.npy',\n",
       " 'random_forest.pkl_67.npy',\n",
       " 'random_forest.pkl_68.npy',\n",
       " 'random_forest.pkl_69.npy',\n",
       " 'random_forest.pkl_70.npy',\n",
       " 'random_forest.pkl_71.npy',\n",
       " 'random_forest.pkl_72.npy',\n",
       " 'random_forest.pkl_73.npy',\n",
       " 'random_forest.pkl_74.npy',\n",
       " 'random_forest.pkl_75.npy',\n",
       " 'random_forest.pkl_76.npy',\n",
       " 'random_forest.pkl_77.npy',\n",
       " 'random_forest.pkl_78.npy',\n",
       " 'random_forest.pkl_79.npy',\n",
       " 'random_forest.pkl_80.npy',\n",
       " 'random_forest.pkl_81.npy',\n",
       " 'random_forest.pkl_82.npy',\n",
       " 'random_forest.pkl_83.npy',\n",
       " 'random_forest.pkl_84.npy',\n",
       " 'random_forest.pkl_85.npy',\n",
       " 'random_forest.pkl_86.npy',\n",
       " 'random_forest.pkl_87.npy',\n",
       " 'random_forest.pkl_88.npy',\n",
       " 'random_forest.pkl_89.npy',\n",
       " 'random_forest.pkl_90.npy',\n",
       " 'random_forest.pkl_91.npy',\n",
       " 'random_forest.pkl_92.npy',\n",
       " 'random_forest.pkl_93.npy',\n",
       " 'random_forest.pkl_94.npy',\n",
       " 'random_forest.pkl_95.npy',\n",
       " 'random_forest.pkl_96.npy',\n",
       " 'random_forest.pkl_97.npy',\n",
       " 'random_forest.pkl_98.npy',\n",
       " 'random_forest.pkl_99.npy',\n",
       " 'random_forest.pkl_100.npy',\n",
       " 'random_forest.pkl_101.npy',\n",
       " 'random_forest.pkl_102.npy',\n",
       " 'random_forest.pkl_103.npy',\n",
       " 'random_forest.pkl_104.npy',\n",
       " 'random_forest.pkl_105.npy',\n",
       " 'random_forest.pkl_106.npy',\n",
       " 'random_forest.pkl_107.npy',\n",
       " 'random_forest.pkl_108.npy',\n",
       " 'random_forest.pkl_109.npy',\n",
       " 'random_forest.pkl_110.npy',\n",
       " 'random_forest.pkl_111.npy',\n",
       " 'random_forest.pkl_112.npy',\n",
       " 'random_forest.pkl_113.npy',\n",
       " 'random_forest.pkl_114.npy',\n",
       " 'random_forest.pkl_115.npy',\n",
       " 'random_forest.pkl_116.npy',\n",
       " 'random_forest.pkl_117.npy',\n",
       " 'random_forest.pkl_118.npy',\n",
       " 'random_forest.pkl_119.npy',\n",
       " 'random_forest.pkl_120.npy',\n",
       " 'random_forest.pkl_121.npy',\n",
       " 'random_forest.pkl_122.npy',\n",
       " 'random_forest.pkl_123.npy',\n",
       " 'random_forest.pkl_124.npy',\n",
       " 'random_forest.pkl_125.npy',\n",
       " 'random_forest.pkl_126.npy',\n",
       " 'random_forest.pkl_127.npy',\n",
       " 'random_forest.pkl_128.npy',\n",
       " 'random_forest.pkl_129.npy',\n",
       " 'random_forest.pkl_130.npy',\n",
       " 'random_forest.pkl_131.npy',\n",
       " 'random_forest.pkl_132.npy',\n",
       " 'random_forest.pkl_133.npy',\n",
       " 'random_forest.pkl_134.npy',\n",
       " 'random_forest.pkl_135.npy',\n",
       " 'random_forest.pkl_136.npy',\n",
       " 'random_forest.pkl_137.npy',\n",
       " 'random_forest.pkl_138.npy',\n",
       " 'random_forest.pkl_139.npy',\n",
       " 'random_forest.pkl_140.npy',\n",
       " 'random_forest.pkl_141.npy',\n",
       " 'random_forest.pkl_142.npy',\n",
       " 'random_forest.pkl_143.npy',\n",
       " 'random_forest.pkl_144.npy',\n",
       " 'random_forest.pkl_145.npy',\n",
       " 'random_forest.pkl_146.npy',\n",
       " 'random_forest.pkl_147.npy',\n",
       " 'random_forest.pkl_148.npy',\n",
       " 'random_forest.pkl_149.npy',\n",
       " 'random_forest.pkl_150.npy',\n",
       " 'random_forest.pkl_151.npy',\n",
       " 'random_forest.pkl_152.npy',\n",
       " 'random_forest.pkl_153.npy',\n",
       " 'random_forest.pkl_154.npy',\n",
       " 'random_forest.pkl_155.npy',\n",
       " 'random_forest.pkl_156.npy',\n",
       " 'random_forest.pkl_157.npy',\n",
       " 'random_forest.pkl_158.npy',\n",
       " 'random_forest.pkl_159.npy',\n",
       " 'random_forest.pkl_160.npy',\n",
       " 'random_forest.pkl_161.npy',\n",
       " 'random_forest.pkl_162.npy',\n",
       " 'random_forest.pkl_163.npy',\n",
       " 'random_forest.pkl_164.npy',\n",
       " 'random_forest.pkl_165.npy',\n",
       " 'random_forest.pkl_166.npy',\n",
       " 'random_forest.pkl_167.npy',\n",
       " 'random_forest.pkl_168.npy',\n",
       " 'random_forest.pkl_169.npy',\n",
       " 'random_forest.pkl_170.npy',\n",
       " 'random_forest.pkl_171.npy',\n",
       " 'random_forest.pkl_172.npy',\n",
       " 'random_forest.pkl_173.npy',\n",
       " 'random_forest.pkl_174.npy',\n",
       " 'random_forest.pkl_175.npy',\n",
       " 'random_forest.pkl_176.npy',\n",
       " 'random_forest.pkl_177.npy',\n",
       " 'random_forest.pkl_178.npy',\n",
       " 'random_forest.pkl_179.npy',\n",
       " 'random_forest.pkl_180.npy',\n",
       " 'random_forest.pkl_181.npy',\n",
       " 'random_forest.pkl_182.npy',\n",
       " 'random_forest.pkl_183.npy',\n",
       " 'random_forest.pkl_184.npy',\n",
       " 'random_forest.pkl_185.npy',\n",
       " 'random_forest.pkl_186.npy',\n",
       " 'random_forest.pkl_187.npy',\n",
       " 'random_forest.pkl_188.npy',\n",
       " 'random_forest.pkl_189.npy',\n",
       " 'random_forest.pkl_190.npy',\n",
       " 'random_forest.pkl_191.npy',\n",
       " 'random_forest.pkl_192.npy',\n",
       " 'random_forest.pkl_193.npy',\n",
       " 'random_forest.pkl_194.npy',\n",
       " 'random_forest.pkl_195.npy',\n",
       " 'random_forest.pkl_196.npy',\n",
       " 'random_forest.pkl_197.npy',\n",
       " 'random_forest.pkl_198.npy',\n",
       " 'random_forest.pkl_199.npy',\n",
       " 'random_forest.pkl_200.npy',\n",
       " 'random_forest.pkl_201.npy',\n",
       " 'random_forest.pkl_202.npy',\n",
       " 'random_forest.pkl_203.npy',\n",
       " 'random_forest.pkl_204.npy',\n",
       " 'random_forest.pkl_205.npy',\n",
       " 'random_forest.pkl_206.npy',\n",
       " 'random_forest.pkl_207.npy',\n",
       " 'random_forest.pkl_208.npy',\n",
       " 'random_forest.pkl_209.npy',\n",
       " 'random_forest.pkl_210.npy',\n",
       " 'random_forest.pkl_211.npy',\n",
       " 'random_forest.pkl_212.npy',\n",
       " 'random_forest.pkl_213.npy',\n",
       " 'random_forest.pkl_214.npy',\n",
       " 'random_forest.pkl_215.npy',\n",
       " 'random_forest.pkl_216.npy',\n",
       " 'random_forest.pkl_217.npy',\n",
       " 'random_forest.pkl_218.npy',\n",
       " 'random_forest.pkl_219.npy',\n",
       " 'random_forest.pkl_220.npy',\n",
       " 'random_forest.pkl_221.npy',\n",
       " 'random_forest.pkl_222.npy',\n",
       " 'random_forest.pkl_223.npy',\n",
       " 'random_forest.pkl_224.npy',\n",
       " 'random_forest.pkl_225.npy',\n",
       " 'random_forest.pkl_226.npy',\n",
       " 'random_forest.pkl_227.npy',\n",
       " 'random_forest.pkl_228.npy',\n",
       " 'random_forest.pkl_229.npy',\n",
       " 'random_forest.pkl_230.npy',\n",
       " 'random_forest.pkl_231.npy',\n",
       " 'random_forest.pkl_232.npy',\n",
       " 'random_forest.pkl_233.npy',\n",
       " 'random_forest.pkl_234.npy',\n",
       " 'random_forest.pkl_235.npy',\n",
       " 'random_forest.pkl_236.npy',\n",
       " 'random_forest.pkl_237.npy',\n",
       " 'random_forest.pkl_238.npy',\n",
       " 'random_forest.pkl_239.npy',\n",
       " 'random_forest.pkl_240.npy',\n",
       " 'random_forest.pkl_241.npy',\n",
       " 'random_forest.pkl_242.npy',\n",
       " 'random_forest.pkl_243.npy',\n",
       " 'random_forest.pkl_244.npy',\n",
       " 'random_forest.pkl_245.npy',\n",
       " 'random_forest.pkl_246.npy',\n",
       " 'random_forest.pkl_247.npy',\n",
       " 'random_forest.pkl_248.npy',\n",
       " 'random_forest.pkl_249.npy',\n",
       " 'random_forest.pkl_250.npy',\n",
       " 'random_forest.pkl_251.npy',\n",
       " 'random_forest.pkl_252.npy',\n",
       " 'random_forest.pkl_253.npy',\n",
       " 'random_forest.pkl_254.npy',\n",
       " 'random_forest.pkl_255.npy',\n",
       " 'random_forest.pkl_256.npy',\n",
       " 'random_forest.pkl_257.npy',\n",
       " 'random_forest.pkl_258.npy',\n",
       " 'random_forest.pkl_259.npy',\n",
       " 'random_forest.pkl_260.npy',\n",
       " 'random_forest.pkl_261.npy',\n",
       " 'random_forest.pkl_262.npy',\n",
       " 'random_forest.pkl_263.npy',\n",
       " 'random_forest.pkl_264.npy',\n",
       " 'random_forest.pkl_265.npy',\n",
       " 'random_forest.pkl_266.npy',\n",
       " 'random_forest.pkl_267.npy',\n",
       " 'random_forest.pkl_268.npy',\n",
       " 'random_forest.pkl_269.npy',\n",
       " 'random_forest.pkl_270.npy',\n",
       " 'random_forest.pkl_271.npy',\n",
       " 'random_forest.pkl_272.npy',\n",
       " 'random_forest.pkl_273.npy',\n",
       " 'random_forest.pkl_274.npy',\n",
       " 'random_forest.pkl_275.npy',\n",
       " 'random_forest.pkl_276.npy',\n",
       " 'random_forest.pkl_277.npy',\n",
       " 'random_forest.pkl_278.npy',\n",
       " 'random_forest.pkl_279.npy',\n",
       " 'random_forest.pkl_280.npy',\n",
       " 'random_forest.pkl_281.npy',\n",
       " 'random_forest.pkl_282.npy',\n",
       " 'random_forest.pkl_283.npy',\n",
       " 'random_forest.pkl_284.npy',\n",
       " 'random_forest.pkl_285.npy',\n",
       " 'random_forest.pkl_286.npy',\n",
       " 'random_forest.pkl_287.npy',\n",
       " 'random_forest.pkl_288.npy',\n",
       " 'random_forest.pkl_289.npy',\n",
       " 'random_forest.pkl_290.npy',\n",
       " 'random_forest.pkl_291.npy',\n",
       " 'random_forest.pkl_292.npy',\n",
       " 'random_forest.pkl_293.npy',\n",
       " 'random_forest.pkl_294.npy',\n",
       " 'random_forest.pkl_295.npy',\n",
       " 'random_forest.pkl_296.npy',\n",
       " 'random_forest.pkl_297.npy',\n",
       " 'random_forest.pkl_298.npy',\n",
       " 'random_forest.pkl_299.npy',\n",
       " 'random_forest.pkl_300.npy',\n",
       " 'random_forest.pkl_301.npy',\n",
       " 'random_forest.pkl_302.npy',\n",
       " 'random_forest.pkl_303.npy',\n",
       " 'random_forest.pkl_304.npy',\n",
       " 'random_forest.pkl_305.npy',\n",
       " 'random_forest.pkl_306.npy',\n",
       " 'random_forest.pkl_307.npy',\n",
       " 'random_forest.pkl_308.npy',\n",
       " 'random_forest.pkl_309.npy',\n",
       " 'random_forest.pkl_310.npy',\n",
       " 'random_forest.pkl_311.npy',\n",
       " 'random_forest.pkl_312.npy',\n",
       " 'random_forest.pkl_313.npy',\n",
       " 'random_forest.pkl_314.npy',\n",
       " 'random_forest.pkl_315.npy',\n",
       " 'random_forest.pkl_316.npy',\n",
       " 'random_forest.pkl_317.npy',\n",
       " 'random_forest.pkl_318.npy',\n",
       " 'random_forest.pkl_319.npy',\n",
       " 'random_forest.pkl_320.npy',\n",
       " 'random_forest.pkl_321.npy',\n",
       " 'random_forest.pkl_322.npy',\n",
       " 'random_forest.pkl_323.npy',\n",
       " 'random_forest.pkl_324.npy',\n",
       " 'random_forest.pkl_325.npy',\n",
       " 'random_forest.pkl_326.npy',\n",
       " 'random_forest.pkl_327.npy',\n",
       " 'random_forest.pkl_328.npy',\n",
       " 'random_forest.pkl_329.npy',\n",
       " 'random_forest.pkl_330.npy',\n",
       " 'random_forest.pkl_331.npy',\n",
       " 'random_forest.pkl_332.npy',\n",
       " 'random_forest.pkl_333.npy',\n",
       " 'random_forest.pkl_334.npy',\n",
       " 'random_forest.pkl_335.npy',\n",
       " 'random_forest.pkl_336.npy',\n",
       " 'random_forest.pkl_337.npy',\n",
       " 'random_forest.pkl_338.npy',\n",
       " 'random_forest.pkl_339.npy',\n",
       " 'random_forest.pkl_340.npy',\n",
       " 'random_forest.pkl_341.npy',\n",
       " 'random_forest.pkl_342.npy',\n",
       " 'random_forest.pkl_343.npy',\n",
       " 'random_forest.pkl_344.npy',\n",
       " 'random_forest.pkl_345.npy',\n",
       " 'random_forest.pkl_346.npy',\n",
       " 'random_forest.pkl_347.npy',\n",
       " 'random_forest.pkl_348.npy',\n",
       " 'random_forest.pkl_349.npy',\n",
       " 'random_forest.pkl_350.npy',\n",
       " 'random_forest.pkl_351.npy',\n",
       " 'random_forest.pkl_352.npy',\n",
       " 'random_forest.pkl_353.npy',\n",
       " 'random_forest.pkl_354.npy',\n",
       " 'random_forest.pkl_355.npy',\n",
       " 'random_forest.pkl_356.npy',\n",
       " 'random_forest.pkl_357.npy',\n",
       " 'random_forest.pkl_358.npy',\n",
       " 'random_forest.pkl_359.npy',\n",
       " 'random_forest.pkl_360.npy',\n",
       " 'random_forest.pkl_361.npy',\n",
       " 'random_forest.pkl_362.npy',\n",
       " 'random_forest.pkl_363.npy',\n",
       " 'random_forest.pkl_364.npy',\n",
       " 'random_forest.pkl_365.npy',\n",
       " 'random_forest.pkl_366.npy',\n",
       " 'random_forest.pkl_367.npy',\n",
       " 'random_forest.pkl_368.npy',\n",
       " 'random_forest.pkl_369.npy',\n",
       " 'random_forest.pkl_370.npy',\n",
       " 'random_forest.pkl_371.npy',\n",
       " 'random_forest.pkl_372.npy',\n",
       " 'random_forest.pkl_373.npy',\n",
       " 'random_forest.pkl_374.npy',\n",
       " 'random_forest.pkl_375.npy',\n",
       " 'random_forest.pkl_376.npy',\n",
       " 'random_forest.pkl_377.npy',\n",
       " 'random_forest.pkl_378.npy',\n",
       " 'random_forest.pkl_379.npy',\n",
       " 'random_forest.pkl_380.npy',\n",
       " 'random_forest.pkl_381.npy',\n",
       " 'random_forest.pkl_382.npy',\n",
       " 'random_forest.pkl_383.npy',\n",
       " 'random_forest.pkl_384.npy',\n",
       " 'random_forest.pkl_385.npy',\n",
       " 'random_forest.pkl_386.npy',\n",
       " 'random_forest.pkl_387.npy',\n",
       " 'random_forest.pkl_388.npy',\n",
       " 'random_forest.pkl_389.npy',\n",
       " 'random_forest.pkl_390.npy',\n",
       " 'random_forest.pkl_391.npy',\n",
       " 'random_forest.pkl_392.npy',\n",
       " 'random_forest.pkl_393.npy',\n",
       " 'random_forest.pkl_394.npy',\n",
       " 'random_forest.pkl_395.npy',\n",
       " 'random_forest.pkl_396.npy',\n",
       " 'random_forest.pkl_397.npy',\n",
       " 'random_forest.pkl_398.npy',\n",
       " 'random_forest.pkl_399.npy',\n",
       " 'random_forest.pkl_400.npy',\n",
       " 'random_forest.pkl_401.npy',\n",
       " 'random_forest.pkl_402.npy',\n",
       " 'random_forest.pkl_403.npy',\n",
       " 'random_forest.pkl_404.npy',\n",
       " 'random_forest.pkl_405.npy',\n",
       " 'random_forest.pkl_406.npy',\n",
       " 'random_forest.pkl_407.npy',\n",
       " 'random_forest.pkl_408.npy',\n",
       " 'random_forest.pkl_409.npy',\n",
       " 'random_forest.pkl_410.npy',\n",
       " 'random_forest.pkl_411.npy',\n",
       " 'random_forest.pkl_412.npy',\n",
       " 'random_forest.pkl_413.npy',\n",
       " 'random_forest.pkl_414.npy',\n",
       " 'random_forest.pkl_415.npy',\n",
       " 'random_forest.pkl_416.npy',\n",
       " 'random_forest.pkl_417.npy',\n",
       " 'random_forest.pkl_418.npy',\n",
       " 'random_forest.pkl_419.npy',\n",
       " 'random_forest.pkl_420.npy',\n",
       " 'random_forest.pkl_421.npy',\n",
       " 'random_forest.pkl_422.npy',\n",
       " 'random_forest.pkl_423.npy',\n",
       " 'random_forest.pkl_424.npy',\n",
       " 'random_forest.pkl_425.npy',\n",
       " 'random_forest.pkl_426.npy',\n",
       " 'random_forest.pkl_427.npy',\n",
       " 'random_forest.pkl_428.npy',\n",
       " 'random_forest.pkl_429.npy',\n",
       " 'random_forest.pkl_430.npy',\n",
       " 'random_forest.pkl_431.npy',\n",
       " 'random_forest.pkl_432.npy',\n",
       " 'random_forest.pkl_433.npy',\n",
       " 'random_forest.pkl_434.npy',\n",
       " 'random_forest.pkl_435.npy',\n",
       " 'random_forest.pkl_436.npy',\n",
       " 'random_forest.pkl_437.npy',\n",
       " 'random_forest.pkl_438.npy',\n",
       " 'random_forest.pkl_439.npy',\n",
       " 'random_forest.pkl_440.npy',\n",
       " 'random_forest.pkl_441.npy',\n",
       " 'random_forest.pkl_442.npy',\n",
       " 'random_forest.pkl_443.npy',\n",
       " 'random_forest.pkl_444.npy',\n",
       " 'random_forest.pkl_445.npy',\n",
       " 'random_forest.pkl_446.npy',\n",
       " 'random_forest.pkl_447.npy',\n",
       " 'random_forest.pkl_448.npy',\n",
       " 'random_forest.pkl_449.npy',\n",
       " 'random_forest.pkl_450.npy',\n",
       " 'random_forest.pkl_451.npy',\n",
       " 'random_forest.pkl_452.npy',\n",
       " 'random_forest.pkl_453.npy',\n",
       " 'random_forest.pkl_454.npy',\n",
       " 'random_forest.pkl_455.npy',\n",
       " 'random_forest.pkl_456.npy',\n",
       " 'random_forest.pkl_457.npy',\n",
       " 'random_forest.pkl_458.npy',\n",
       " 'random_forest.pkl_459.npy',\n",
       " 'random_forest.pkl_460.npy',\n",
       " 'random_forest.pkl_461.npy',\n",
       " 'random_forest.pkl_462.npy',\n",
       " 'random_forest.pkl_463.npy',\n",
       " 'random_forest.pkl_464.npy',\n",
       " 'random_forest.pkl_465.npy',\n",
       " 'random_forest.pkl_466.npy',\n",
       " 'random_forest.pkl_467.npy',\n",
       " 'random_forest.pkl_468.npy',\n",
       " 'random_forest.pkl_469.npy',\n",
       " 'random_forest.pkl_470.npy',\n",
       " 'random_forest.pkl_471.npy',\n",
       " 'random_forest.pkl_472.npy',\n",
       " 'random_forest.pkl_473.npy',\n",
       " 'random_forest.pkl_474.npy',\n",
       " 'random_forest.pkl_475.npy',\n",
       " 'random_forest.pkl_476.npy',\n",
       " 'random_forest.pkl_477.npy',\n",
       " 'random_forest.pkl_478.npy',\n",
       " 'random_forest.pkl_479.npy',\n",
       " 'random_forest.pkl_480.npy',\n",
       " 'random_forest.pkl_481.npy',\n",
       " 'random_forest.pkl_482.npy',\n",
       " 'random_forest.pkl_483.npy',\n",
       " 'random_forest.pkl_484.npy',\n",
       " 'random_forest.pkl_485.npy',\n",
       " 'random_forest.pkl_486.npy',\n",
       " 'random_forest.pkl_487.npy',\n",
       " 'random_forest.pkl_488.npy',\n",
       " 'random_forest.pkl_489.npy',\n",
       " 'random_forest.pkl_490.npy',\n",
       " 'random_forest.pkl_491.npy',\n",
       " 'random_forest.pkl_492.npy',\n",
       " 'random_forest.pkl_493.npy',\n",
       " 'random_forest.pkl_494.npy',\n",
       " 'random_forest.pkl_495.npy',\n",
       " 'random_forest.pkl_496.npy',\n",
       " 'random_forest.pkl_497.npy',\n",
       " 'random_forest.pkl_498.npy',\n",
       " 'random_forest.pkl_499.npy',\n",
       " 'random_forest.pkl_500.npy',\n",
       " 'random_forest.pkl_501.npy']"
      ]
     },
     "execution_count": 128,
     "metadata": {},
     "output_type": "execute_result"
    }
   ],
   "source": [
    "joblib.dump(clf, 'random_forest.pkl') "
   ]
  },
  {
   "cell_type": "code",
   "execution_count": 130,
   "metadata": {
    "collapsed": false
   },
   "outputs": [],
   "source": [
    "prob_df = pd.DataFrame(probabilities)"
   ]
  },
  {
   "cell_type": "code",
   "execution_count": 30,
   "metadata": {
    "collapsed": false
   },
   "outputs": [
    {
     "data": {
      "text/plain": [
       "<matplotlib.axes._subplots.AxesSubplot at 0x4502450>"
      ]
     },
     "execution_count": 30,
     "metadata": {},
     "output_type": "execute_result"
    },
    {
     "data": {
      "image/png": "[encoded data removed]",
      "text/plain": [
       "<matplotlib.figure.Figure at 0x4502e10>"
      ]
     },
     "metadata": {},
     "output_type": "display_data"
    }
   ],
   "source": [
    "prob_df.columns = ['p_neutral', 'p_cancer']\n",
    "prob_df.head()\n",
    "prob_df.p_neutral.hist(bins=100)"
   ]
  },
  {
   "cell_type": "markdown",
   "metadata": {
    "collapsed": true
   },
   "source": [
    "###Look at difference between positive and negative features"
   ]
  },
  {
   "cell_type": "code",
   "execution_count": 31,
   "metadata": {
    "collapsed": false,
    "scrolled": true
   },
   "outputs": [
    {
     "data": {
      "text/html": [
       "<div style=\"max-height:1000px;max-width:1500px;overflow:auto;\">\n",
       "<table border=\"1\" class=\"dataframe\">\n",
       "  <thead>\n",
       "    <tr style=\"text-align: right;\">\n",
       "      <th></th>\n",
       "      <th>counts</th>\n",
       "      <th>Perc_Bi_Allelic</th>\n",
       "      <th>Density</th>\n",
       "    </tr>\n",
       "  </thead>\n",
       "  <tbody>\n",
       "    <tr>\n",
       "      <th>count</th>\n",
       "      <td>14.000000</td>\n",
       "      <td>14.000000</td>\n",
       "      <td>14.000000</td>\n",
       "    </tr>\n",
       "    <tr>\n",
       "      <th>mean</th>\n",
       "      <td>42.714286</td>\n",
       "      <td>0.432143</td>\n",
       "      <td>1604.807143</td>\n",
       "    </tr>\n",
       "    <tr>\n",
       "      <th>std</th>\n",
       "      <td>126.683997</td>\n",
       "      <td>0.183417</td>\n",
       "      <td>258.092892</td>\n",
       "    </tr>\n",
       "    <tr>\n",
       "      <th>min</th>\n",
       "      <td>1.000000</td>\n",
       "      <td>0.000000</td>\n",
       "      <td>1035.300000</td>\n",
       "    </tr>\n",
       "    <tr>\n",
       "      <th>25%</th>\n",
       "      <td>2.000000</td>\n",
       "      <td>0.500000</td>\n",
       "      <td>1388.700000</td>\n",
       "    </tr>\n",
       "    <tr>\n",
       "      <th>50%</th>\n",
       "      <td>3.000000</td>\n",
       "      <td>0.500000</td>\n",
       "      <td>1736.600000</td>\n",
       "    </tr>\n",
       "    <tr>\n",
       "      <th>75%</th>\n",
       "      <td>12.000000</td>\n",
       "      <td>0.500000</td>\n",
       "      <td>1794.800000</td>\n",
       "    </tr>\n",
       "    <tr>\n",
       "      <th>max</th>\n",
       "      <td>480.000000</td>\n",
       "      <td>0.541667</td>\n",
       "      <td>1824.500000</td>\n",
       "    </tr>\n",
       "  </tbody>\n",
       "</table>\n",
       "</div>"
      ],
      "text/plain": [
       "           counts  Perc_Bi_Allelic      Density\n",
       "count   14.000000        14.000000    14.000000\n",
       "mean    42.714286         0.432143  1604.807143\n",
       "std    126.683997         0.183417   258.092892\n",
       "min      1.000000         0.000000  1035.300000\n",
       "25%      2.000000         0.500000  1388.700000\n",
       "50%      3.000000         0.500000  1736.600000\n",
       "75%     12.000000         0.500000  1794.800000\n",
       "max    480.000000         0.541667  1824.500000"
      ]
     },
     "execution_count": 31,
     "metadata": {},
     "output_type": "execute_result"
    }
   ],
   "source": [
    "cancer_feature_vector.describe()"
   ]
  },
  {
   "cell_type": "code",
   "execution_count": 32,
   "metadata": {
    "collapsed": false
   },
   "outputs": [
    {
     "data": {
      "text/html": [
       "<div style=\"max-height:1000px;max-width:1500px;overflow:auto;\">\n",
       "<table border=\"1\" class=\"dataframe\">\n",
       "  <thead>\n",
       "    <tr style=\"text-align: right;\">\n",
       "      <th></th>\n",
       "      <th>counts</th>\n",
       "      <th>Perc_Bi_Allelic</th>\n",
       "      <th>Density</th>\n",
       "    </tr>\n",
       "  </thead>\n",
       "  <tbody>\n",
       "    <tr>\n",
       "      <th>count</th>\n",
       "      <td>113.000000</td>\n",
       "      <td>113.000000</td>\n",
       "      <td>113.000000</td>\n",
       "    </tr>\n",
       "    <tr>\n",
       "      <th>mean</th>\n",
       "      <td>1.477876</td>\n",
       "      <td>0.969027</td>\n",
       "      <td>152.095575</td>\n",
       "    </tr>\n",
       "    <tr>\n",
       "      <th>std</th>\n",
       "      <td>0.877266</td>\n",
       "      <td>0.167481</td>\n",
       "      <td>290.008532</td>\n",
       "    </tr>\n",
       "    <tr>\n",
       "      <th>min</th>\n",
       "      <td>1.000000</td>\n",
       "      <td>0.000000</td>\n",
       "      <td>0.000000</td>\n",
       "    </tr>\n",
       "    <tr>\n",
       "      <th>25%</th>\n",
       "      <td>1.000000</td>\n",
       "      <td>1.000000</td>\n",
       "      <td>0.000000</td>\n",
       "    </tr>\n",
       "    <tr>\n",
       "      <th>50%</th>\n",
       "      <td>1.000000</td>\n",
       "      <td>1.000000</td>\n",
       "      <td>0.000000</td>\n",
       "    </tr>\n",
       "    <tr>\n",
       "      <th>75%</th>\n",
       "      <td>2.000000</td>\n",
       "      <td>1.000000</td>\n",
       "      <td>178.600000</td>\n",
       "    </tr>\n",
       "    <tr>\n",
       "      <th>max</th>\n",
       "      <td>6.000000</td>\n",
       "      <td>1.000000</td>\n",
       "      <td>1296.600000</td>\n",
       "    </tr>\n",
       "  </tbody>\n",
       "</table>\n",
       "</div>"
      ],
      "text/plain": [
       "           counts  Perc_Bi_Allelic      Density\n",
       "count  113.000000       113.000000   113.000000\n",
       "mean     1.477876         0.969027   152.095575\n",
       "std      0.877266         0.167481   290.008532\n",
       "min      1.000000         0.000000     0.000000\n",
       "25%      1.000000         1.000000     0.000000\n",
       "50%      1.000000         1.000000     0.000000\n",
       "75%      2.000000         1.000000   178.600000\n",
       "max      6.000000         1.000000  1296.600000"
      ]
     },
     "execution_count": 32,
     "metadata": {},
     "output_type": "execute_result"
    }
   ],
   "source": [
    "neutral_feature_vector.describe()"
   ]
  },
  {
   "cell_type": "code",
   "execution_count": 41,
   "metadata": {
    "collapsed": false
   },
   "outputs": [
    {
     "data": {
      "text/plain": [
       "<matplotlib.axes._subplots.AxesSubplot at 0x70df850>"
      ]
     },
     "execution_count": 41,
     "metadata": {},
     "output_type": "execute_result"
    },
    {
     "data": {
      "image/png": "[encoded data removed]",
      "text/plain": [
       "<matplotlib.figure.Figure at 0x6a17150>"
      ]
     },
     "metadata": {},
     "output_type": "display_data"
    }
   ],
   "source": [
    "cancer_feature_vector.counts.plot(alpha=0.3)\n",
    "neutral_feature_vector.counts.plot(alpha=0.3)"
   ]
  },
  {
   "cell_type": "code",
   "execution_count": 145,
   "metadata": {
    "collapsed": false
   },
   "outputs": [
    {
     "data": {
      "text/plain": [
       "<matplotlib.axes._subplots.AxesSubplot at 0x6141c50>"
      ]
     },
     "execution_count": 145,
     "metadata": {},
     "output_type": "execute_result"
    },
    {
     "data": {
      "image/png": "[encoded data removed]",
      "text/plain": [
       "<matplotlib.figure.Figure at 0x6126a90>"
      ]
     },
     "metadata": {},
     "output_type": "display_data"
    }
   ],
   "source": [
    "cancer_feature_vector.Perc_Bi_Allelic.hist(normed=True, alpha=0.3, bins=100)\n",
    "neutral_feature_vector.Perc_Bi_Allelic.hist(normed=True, alpha=0.3, bins=100)"
   ]
  },
  {
   "cell_type": "code",
   "execution_count": 16,
   "metadata": {
    "collapsed": false
   },
   "outputs": [
    {
     "name": "stderr",
     "output_type": "stream",
     "text": [
      "/usr/lib64/python2.7/site-packages/matplotlib/axes/_axes.py:475: UserWarning: No labelled objects found. Use label='...' kwarg on individual plots.\n",
      "  warnings.warn(\"No labelled objects found. \"\n"
     ]
    },
    {
     "data": {
      "image/png": "[encoded data removed]",
      "text/plain": [
       "<matplotlib.figure.Figure at 0x60430d0>"
      ]
     },
     "metadata": {},
     "output_type": "display_data"
    }
   ],
   "source": [
    "ax = cancer_feature_vector.Density.hist(normed=True, alpha=0.3)\n",
    "neutral_feature_vector.Density.hist(normed=True, alpha=0.3, ax=ax)\n",
    "ax.set_xlabel(\"Density\")\n",
    "ax.set_ylabel(\"Frequency\")"
   ]
  },
  {
   "cell_type": "code",
   "execution_count": 156,
   "metadata": {
    "collapsed": false
   },
   "outputs": [
    {
     "data": {
      "text/plain": [
       "<matplotlib.legend.Legend at 0x927c090>"
      ]
     },
     "execution_count": 156,
     "metadata": {},
     "output_type": "execute_result"
    },
    {
     "data": {
      "image/png": "[encoded data removed]",
      "text/plain": [
       "<matplotlib.figure.Figure at 0x8d04050>"
      ]
     },
     "metadata": {},
     "output_type": "display_data"
    }
   ],
   "source": [
    "ax = cancer_feature_vector.plot(kind='scatter', y='Perc_Bi_Allelic', x='Density',\n",
    "                                        color='DarkBlue', label='Cancer Causing')\n",
    "\n",
    "neutral_feature_vector.plot(kind='scatter', y='Perc_Bi_Allelic', x='Density',\n",
    "                                        color='LightGreen', label='Neutral', ax=ax)\n",
    "#neutral_feature_vector_training.plot(kind='scatter', y='Perc_Bi_Allelic', x='Density',\n",
    "#                                        color='DarkGreen', label='Neutral training', ax=ax)\n",
    "#cancer_feature_vector_validation.plot(kind='scatter', y='Perc_Bi_Allelic', x='Density',\n",
    "#                                        color='LightBlue', label='Cancer validation', ax=ax)\n",
    "patches, labels = ax.get_legend_handles_labels()\n",
    "ax.legend(patches, labels, loc=3)"
   ]
  },
  {
   "cell_type": "code",
   "execution_count": 44,
   "metadata": {
    "collapsed": false
   },
   "outputs": [
    {
     "data": {
      "text/plain": [
       "<matplotlib.axes._subplots.AxesSubplot at 0x55d3a10>"
      ]
     },
     "execution_count": 44,
     "metadata": {},
     "output_type": "execute_result"
    },
    {
     "data": {
      "image/png": "[encoded data removed]",
      "text/plain": [
       "<matplotlib.figure.Figure at 0x653c8d0>"
      ]
     },
     "metadata": {},
     "output_type": "display_data"
    }
   ],
   "source": [
    "ax = cancer_feature_vector_training.plot(kind='scatter', x='counts', y='Density',\n",
    "                                        color='DarkBlue', label='Cancer traning')\n",
    "neutral_feature_vector_training.plot(kind='scatter', x='counts', y='Density',\n",
    "                                        color='LightGreen', label='Neutral training', ax=ax)\n",
    "neutral_feature_vector_validation.plot(kind='scatter', x='Perc_Bi_Allelic', y='Density',\n",
    "                                        color='LightGreen', label='Neutral validation', ax=ax)\n",
    "cancer_feature_vector_validation.plot(kind='scatter', x='Perc_Bi_Allelic', y='Density',\n",
    "                                        color='DarkBlue', label='Cancer validation', ax=ax)"
   ]
  },
  {
   "cell_type": "code",
   "execution_count": 45,
   "metadata": {
    "collapsed": false,
    "scrolled": true
   },
   "outputs": [
    {
     "data": {
      "text/plain": [
       "<matplotlib.axes._subplots.AxesSubplot at 0x693d590>"
      ]
     },
     "execution_count": 45,
     "metadata": {},
     "output_type": "execute_result"
    },
    {
     "data": {
      "image/png": "[encoded data removed]",
      "text/plain": [
       "<matplotlib.figure.Figure at 0x59a8750>"
      ]
     },
     "metadata": {},
     "output_type": "display_data"
    }
   ],
   "source": [
    "ax = cancer_feature_vector.plot(kind='scatter', x='Perc_Bi_Allelic', y='counts',\n",
    "                                        color='DarkBlue', label='Cancer', alpha=0.3)\n",
    "neutral_feature_vector.plot(kind='scatter', x='Perc_Bi_Allelic', y='counts',\n",
    "                                        color='LightGreen', label='Neutral', ax=ax, alpha=0.3)\n",
    "#cancer_feature_vector.plot(kind='scatter', x='Perc_Bi_Allelic', y='counts',\n",
    "#                                        color='DarkBlue', label='Cancer', ax=ax)\n",
    "#neutral_feature_vector_validation.plot(kind='scatter', x='Perc_Bi_Allelic', y='counts',\n",
    "#                                        color='LightGreen', label='Neutral', ax=ax)\n",
    "#cancer_feature_vector_validation.plot(kind='scatter', x='Perc_Bi_Allelic', y='counts',\n",
    "#                                        color='LightBlue', label='Cancer', ax=ax)"
   ]
  },
  {
   "cell_type": "code",
   "execution_count": 131,
   "metadata": {
    "collapsed": true
   },
   "outputs": [],
   "source": [
    "def simplify(x):\n",
    "    a = x.split(\"_\")\n",
    "    return a[0]\n",
    "def get_loc(x):\n",
    "    c = x.split(\":\")\n",
    "    s = c[1].split(\"-\")\n",
    "    return s[0]\n",
    "def combine(x):\n",
    "    gene = x[0]\n",
    "    loc = x[1]\n",
    "    return str(int(gene)) + \"_\" + str(loc)"
   ]
  },
  {
   "cell_type": "code",
   "execution_count": 132,
   "metadata": {
    "collapsed": false
   },
   "outputs": [],
   "source": [
    "tcga_feature_vector['output'] = pd.Series(output)"
   ]
  },
  {
   "cell_type": "code",
   "execution_count": 133,
   "metadata": {
    "collapsed": false,
    "scrolled": true
   },
   "outputs": [
    {
     "data": {
      "text/html": [
       "<div style=\"max-height:1000px;max-width:1500px;overflow:auto;\">\n",
       "<table border=\"1\" class=\"dataframe\">\n",
       "  <thead>\n",
       "    <tr style=\"text-align: right;\">\n",
       "      <th></th>\n",
       "      <th>SNP</th>\n",
       "      <th>counts</th>\n",
       "      <th>Perc_Bi_Allelic</th>\n",
       "      <th>Density</th>\n",
       "      <th>output</th>\n",
       "    </tr>\n",
       "  </thead>\n",
       "  <tbody>\n",
       "    <tr>\n",
       "      <th>0</th>\n",
       "      <td>673_140453136</td>\n",
       "      <td>480</td>\n",
       "      <td>0.508333</td>\n",
       "      <td>1298.9</td>\n",
       "      <td>1</td>\n",
       "    </tr>\n",
       "    <tr>\n",
       "      <th>386</th>\n",
       "      <td>115294_52733143</td>\n",
       "      <td>8</td>\n",
       "      <td>1.000000</td>\n",
       "      <td>201.6</td>\n",
       "      <td>1</td>\n",
       "    </tr>\n",
       "    <tr>\n",
       "      <th>527</th>\n",
       "      <td>996_45214726</td>\n",
       "      <td>1</td>\n",
       "      <td>1.000000</td>\n",
       "      <td>1030.3</td>\n",
       "      <td>1</td>\n",
       "    </tr>\n",
       "    <tr>\n",
       "      <th>529</th>\n",
       "      <td>996_45214603</td>\n",
       "      <td>1</td>\n",
       "      <td>1.000000</td>\n",
       "      <td>1030.3</td>\n",
       "      <td>1</td>\n",
       "    </tr>\n",
       "    <tr>\n",
       "      <th>530</th>\n",
       "      <td>996_45234287</td>\n",
       "      <td>1</td>\n",
       "      <td>0.000000</td>\n",
       "      <td>1030.3</td>\n",
       "      <td>1</td>\n",
       "    </tr>\n",
       "  </tbody>\n",
       "</table>\n",
       "</div>"
      ],
      "text/plain": [
       "                 SNP  counts  Perc_Bi_Allelic  Density  output\n",
       "0      673_140453136     480         0.508333   1298.9       1\n",
       "386  115294_52733143       8         1.000000    201.6       1\n",
       "527     996_45214726       1         1.000000   1030.3       1\n",
       "529     996_45214603       1         1.000000   1030.3       1\n",
       "530     996_45234287       1         0.000000   1030.3       1"
      ]
     },
     "execution_count": 133,
     "metadata": {},
     "output_type": "execute_result"
    }
   ],
   "source": [
    "tcga_feature_vector[tcga_feature_vector['output'] == 1].head()"
   ]
  },
  {
   "cell_type": "code",
   "execution_count": 134,
   "metadata": {
    "collapsed": false
   },
   "outputs": [],
   "source": [
    "tcga_feature_vector['Entrez_Gene_Id'] = tcga_feature_vector['SNP'].apply(simplify)\n",
    "tcga_feature_vector['Entrez_Gene_Id'] = tcga_feature_vector['Entrez_Gene_Id'].astype(int)"
   ]
  },
  {
   "cell_type": "code",
   "execution_count": 135,
   "metadata": {
    "collapsed": false
   },
   "outputs": [
    {
     "data": {
      "text/plain": [
       "SNP                 object\n",
       "counts             float64\n",
       "Perc_Bi_Allelic    float64\n",
       "Density            float64\n",
       "output             float64\n",
       "Entrez_Gene_Id       int64\n",
       "dtype: object"
      ]
     },
     "execution_count": 135,
     "metadata": {},
     "output_type": "execute_result"
    }
   ],
   "source": [
    "tcga_feature_vector.dtypes"
   ]
  },
  {
   "cell_type": "code",
   "execution_count": 136,
   "metadata": {
    "collapsed": false
   },
   "outputs": [
    {
     "data": {
      "text/plain": [
       "Hugo_Symbol       object\n",
       "Entrez_Gene_Id     int64\n",
       "dtype: object"
      ]
     },
     "execution_count": 136,
     "metadata": {},
     "output_type": "execute_result"
    }
   ],
   "source": [
    "hugo_entrez.dtypes"
   ]
  },
  {
   "cell_type": "code",
   "execution_count": 137,
   "metadata": {
    "collapsed": false
   },
   "outputs": [
    {
     "data": {
      "text/html": [
       "<div style=\"max-height:1000px;max-width:1500px;overflow:auto;\">\n",
       "<table border=\"1\" class=\"dataframe\">\n",
       "  <thead>\n",
       "    <tr style=\"text-align: right;\">\n",
       "      <th></th>\n",
       "      <th>SNP</th>\n",
       "      <th>counts</th>\n",
       "      <th>Perc_Bi_Allelic</th>\n",
       "      <th>Density</th>\n",
       "      <th>output</th>\n",
       "      <th>Entrez_Gene_Id</th>\n",
       "    </tr>\n",
       "  </thead>\n",
       "  <tbody>\n",
       "    <tr>\n",
       "      <th>0</th>\n",
       "      <td>673_140453136</td>\n",
       "      <td>480</td>\n",
       "      <td>0.508333</td>\n",
       "      <td>1298.9</td>\n",
       "      <td>1</td>\n",
       "      <td>673</td>\n",
       "    </tr>\n",
       "    <tr>\n",
       "      <th>248</th>\n",
       "      <td>673_140453135</td>\n",
       "      <td>3</td>\n",
       "      <td>0.333333</td>\n",
       "      <td>1298.9</td>\n",
       "      <td>0</td>\n",
       "      <td>673</td>\n",
       "    </tr>\n",
       "    <tr>\n",
       "      <th>249</th>\n",
       "      <td>673_140477840</td>\n",
       "      <td>2</td>\n",
       "      <td>0.500000</td>\n",
       "      <td>1298.9</td>\n",
       "      <td>0</td>\n",
       "      <td>673</td>\n",
       "    </tr>\n",
       "    <tr>\n",
       "      <th>250</th>\n",
       "      <td>673_140453193</td>\n",
       "      <td>2</td>\n",
       "      <td>0.500000</td>\n",
       "      <td>1298.9</td>\n",
       "      <td>0</td>\n",
       "      <td>673</td>\n",
       "    </tr>\n",
       "    <tr>\n",
       "      <th>251</th>\n",
       "      <td>673_140477827</td>\n",
       "      <td>2</td>\n",
       "      <td>0.500000</td>\n",
       "      <td>1298.9</td>\n",
       "      <td>0</td>\n",
       "      <td>673</td>\n",
       "    </tr>\n",
       "  </tbody>\n",
       "</table>\n",
       "</div>"
      ],
      "text/plain": [
       "               SNP  counts  Perc_Bi_Allelic  Density  output  Entrez_Gene_Id\n",
       "0    673_140453136     480         0.508333   1298.9       1             673\n",
       "248  673_140453135       3         0.333333   1298.9       0             673\n",
       "249  673_140477840       2         0.500000   1298.9       0             673\n",
       "250  673_140453193       2         0.500000   1298.9       0             673\n",
       "251  673_140477827       2         0.500000   1298.9       0             673"
      ]
     },
     "execution_count": 137,
     "metadata": {},
     "output_type": "execute_result"
    }
   ],
   "source": [
    "tcga_feature_vector.head()"
   ]
  },
  {
   "cell_type": "code",
   "execution_count": 138,
   "metadata": {
    "collapsed": true
   },
   "outputs": [],
   "source": [
    "tcga_feature_vector = pd.merge(tcga_feature_vector, hugo_entrez, on=\"Entrez_Gene_Id\", how=\"inner\")"
   ]
  },
  {
   "cell_type": "code",
   "execution_count": 139,
   "metadata": {
    "collapsed": false
   },
   "outputs": [
    {
     "data": {
      "text/html": [
       "<div style=\"max-height:1000px;max-width:1500px;overflow:auto;\">\n",
       "<table border=\"1\" class=\"dataframe\">\n",
       "  <thead>\n",
       "    <tr style=\"text-align: right;\">\n",
       "      <th></th>\n",
       "      <th>SNP</th>\n",
       "      <th>counts</th>\n",
       "      <th>Perc_Bi_Allelic</th>\n",
       "      <th>Density</th>\n",
       "      <th>output</th>\n",
       "      <th>Entrez_Gene_Id</th>\n",
       "      <th>Hugo_Symbol</th>\n",
       "    </tr>\n",
       "  </thead>\n",
       "  <tbody>\n",
       "    <tr>\n",
       "      <th>0</th>\n",
       "      <td>673_140453136</td>\n",
       "      <td>480</td>\n",
       "      <td>0.508333</td>\n",
       "      <td>1298.9</td>\n",
       "      <td>1</td>\n",
       "      <td>673</td>\n",
       "      <td>BRAF</td>\n",
       "    </tr>\n",
       "    <tr>\n",
       "      <th>1</th>\n",
       "      <td>673_140453135</td>\n",
       "      <td>3</td>\n",
       "      <td>0.333333</td>\n",
       "      <td>1298.9</td>\n",
       "      <td>0</td>\n",
       "      <td>673</td>\n",
       "      <td>BRAF</td>\n",
       "    </tr>\n",
       "    <tr>\n",
       "      <th>2</th>\n",
       "      <td>673_140477840</td>\n",
       "      <td>2</td>\n",
       "      <td>0.500000</td>\n",
       "      <td>1298.9</td>\n",
       "      <td>0</td>\n",
       "      <td>673</td>\n",
       "      <td>BRAF</td>\n",
       "    </tr>\n",
       "    <tr>\n",
       "      <th>3</th>\n",
       "      <td>673_140453193</td>\n",
       "      <td>2</td>\n",
       "      <td>0.500000</td>\n",
       "      <td>1298.9</td>\n",
       "      <td>0</td>\n",
       "      <td>673</td>\n",
       "      <td>BRAF</td>\n",
       "    </tr>\n",
       "    <tr>\n",
       "      <th>4</th>\n",
       "      <td>673_140477827</td>\n",
       "      <td>2</td>\n",
       "      <td>0.500000</td>\n",
       "      <td>1298.9</td>\n",
       "      <td>0</td>\n",
       "      <td>673</td>\n",
       "      <td>BRAF</td>\n",
       "    </tr>\n",
       "  </tbody>\n",
       "</table>\n",
       "</div>"
      ],
      "text/plain": [
       "             SNP  counts  Perc_Bi_Allelic  Density  output  Entrez_Gene_Id  \\\n",
       "0  673_140453136     480         0.508333   1298.9       1             673   \n",
       "1  673_140453135       3         0.333333   1298.9       0             673   \n",
       "2  673_140477840       2         0.500000   1298.9       0             673   \n",
       "3  673_140453193       2         0.500000   1298.9       0             673   \n",
       "4  673_140477827       2         0.500000   1298.9       0             673   \n",
       "\n",
       "  Hugo_Symbol  \n",
       "0        BRAF  \n",
       "1        BRAF  \n",
       "2        BRAF  \n",
       "3        BRAF  \n",
       "4        BRAF  "
      ]
     },
     "execution_count": 139,
     "metadata": {},
     "output_type": "execute_result"
    }
   ],
   "source": [
    "tcga_feature_vector.head()"
   ]
  },
  {
   "cell_type": "code",
   "execution_count": 140,
   "metadata": {
    "collapsed": false
   },
   "outputs": [],
   "source": [
    "tcga_cancer = tcga_feature_vector[tcga_feature_vector.output == 1]"
   ]
  },
  {
   "cell_type": "code",
   "execution_count": 141,
   "metadata": {
    "collapsed": true
   },
   "outputs": [],
   "source": [
    "tcga_neutral = tcga_feature_vector[tcga_feature_vector.output == 0]"
   ]
  },
  {
   "cell_type": "code",
   "execution_count": 179,
   "metadata": {
    "collapsed": false
   },
   "outputs": [],
   "source": [
    "tcga_cancer[\"Occurances\"] = tcga_cancer.counts"
   ]
  },
  {
   "cell_type": "code",
   "execution_count": 182,
   "metadata": {
    "collapsed": false
   },
   "outputs": [
    {
     "data": {
      "text/html": [
       "<div style=\"max-height:1000px;max-width:1500px;overflow:auto;\">\n",
       "<table border=\"1\" class=\"dataframe\">\n",
       "  <thead>\n",
       "    <tr style=\"text-align: right;\">\n",
       "      <th></th>\n",
       "      <th>Hugo_Symbol</th>\n",
       "      <th>Occurances</th>\n",
       "      <th>Perc_Bi_Allelic</th>\n",
       "      <th>Density</th>\n",
       "    </tr>\n",
       "  </thead>\n",
       "  <tbody>\n",
       "    <tr>\n",
       "      <th>1424</th>\n",
       "      <td>AGPAT6</td>\n",
       "      <td>2</td>\n",
       "      <td>0.500000</td>\n",
       "      <td>130.6</td>\n",
       "    </tr>\n",
       "    <tr>\n",
       "      <th>1425</th>\n",
       "      <td>USP5</td>\n",
       "      <td>3</td>\n",
       "      <td>0.333333</td>\n",
       "      <td>576.3</td>\n",
       "    </tr>\n",
       "    <tr>\n",
       "      <th>1426</th>\n",
       "      <td>USP5</td>\n",
       "      <td>2</td>\n",
       "      <td>1.000000</td>\n",
       "      <td>576.3</td>\n",
       "    </tr>\n",
       "  </tbody>\n",
       "</table>\n",
       "</div>"
      ],
      "text/plain": [
       "     Hugo_Symbol  Occurances  Perc_Bi_Allelic  Density\n",
       "1424      AGPAT6           2         0.500000    130.6\n",
       "1425        USP5           3         0.333333    576.3\n",
       "1426        USP5           2         1.000000    576.3"
      ]
     },
     "execution_count": 182,
     "metadata": {},
     "output_type": "execute_result"
    }
   ],
   "source": [
    "tcga_cancer[['Hugo_Symbol', 'Occurances', 'Perc_Bi_Allelic', 'Density']][100:103]"
   ]
  },
  {
   "cell_type": "markdown",
   "metadata": {},
   "source": [
    "Can use a fasta file to get gene length measurements.. but would have to re-run everything! gahhh"
   ]
  },
  {
   "cell_type": "code",
   "execution_count": 143,
   "metadata": {
    "collapsed": false
   },
   "outputs": [
    {
     "data": {
      "text/html": [
       "<div style=\"max-height:1000px;max-width:1500px;overflow:auto;\">\n",
       "<table border=\"1\" class=\"dataframe\">\n",
       "  <thead>\n",
       "    <tr style=\"text-align: right;\">\n",
       "      <th></th>\n",
       "      <th>SNP</th>\n",
       "      <th>counts</th>\n",
       "      <th>Perc_Bi_Allelic</th>\n",
       "      <th>Density</th>\n",
       "      <th>output</th>\n",
       "      <th>Entrez_Gene_Id</th>\n",
       "      <th>Hugo_Symbol</th>\n",
       "    </tr>\n",
       "  </thead>\n",
       "  <tbody>\n",
       "    <tr>\n",
       "      <th>0</th>\n",
       "      <td>673_140453136</td>\n",
       "      <td>480</td>\n",
       "      <td>0.508333</td>\n",
       "      <td>1298.9</td>\n",
       "      <td>1</td>\n",
       "      <td>673</td>\n",
       "      <td>BRAF</td>\n",
       "    </tr>\n",
       "    <tr>\n",
       "      <th>90</th>\n",
       "      <td>115294_52733143</td>\n",
       "      <td>8</td>\n",
       "      <td>1.000000</td>\n",
       "      <td>201.6</td>\n",
       "      <td>1</td>\n",
       "      <td>115294</td>\n",
       "      <td>PCMTD1</td>\n",
       "    </tr>\n",
       "    <tr>\n",
       "      <th>226</th>\n",
       "      <td>996_45214726</td>\n",
       "      <td>1</td>\n",
       "      <td>1.000000</td>\n",
       "      <td>1030.3</td>\n",
       "      <td>1</td>\n",
       "      <td>996</td>\n",
       "      <td>CDC27</td>\n",
       "    </tr>\n",
       "    <tr>\n",
       "      <th>228</th>\n",
       "      <td>996_45214603</td>\n",
       "      <td>1</td>\n",
       "      <td>1.000000</td>\n",
       "      <td>1030.3</td>\n",
       "      <td>1</td>\n",
       "      <td>996</td>\n",
       "      <td>CDC27</td>\n",
       "    </tr>\n",
       "    <tr>\n",
       "      <th>229</th>\n",
       "      <td>996_45234287</td>\n",
       "      <td>1</td>\n",
       "      <td>0.000000</td>\n",
       "      <td>1030.3</td>\n",
       "      <td>1</td>\n",
       "      <td>996</td>\n",
       "      <td>CDC27</td>\n",
       "    </tr>\n",
       "  </tbody>\n",
       "</table>\n",
       "</div>"
      ],
      "text/plain": [
       "                 SNP  counts  Perc_Bi_Allelic  Density  output  \\\n",
       "0      673_140453136     480         0.508333   1298.9       1   \n",
       "90   115294_52733143       8         1.000000    201.6       1   \n",
       "226     996_45214726       1         1.000000   1030.3       1   \n",
       "228     996_45214603       1         1.000000   1030.3       1   \n",
       "229     996_45234287       1         0.000000   1030.3       1   \n",
       "\n",
       "     Entrez_Gene_Id Hugo_Symbol  \n",
       "0               673        BRAF  \n",
       "90           115294      PCMTD1  \n",
       "226             996       CDC27  \n",
       "228             996       CDC27  \n",
       "229             996       CDC27  "
      ]
     },
     "execution_count": 143,
     "metadata": {},
     "output_type": "execute_result"
    }
   ],
   "source": [
    "tcga_cancer.head()"
   ]
  },
  {
   "cell_type": "code",
   "execution_count": 144,
   "metadata": {
    "collapsed": true
   },
   "outputs": [],
   "source": [
    "tcga_cancer.to_csv('tcga_cancerous_mutations.csv')"
   ]
  },
  {
   "cell_type": "code",
   "execution_count": null,
   "metadata": {
    "collapsed": true
   },
   "outputs": [],
   "source": []
  }
 ],
 "metadata": {
  "kernelspec": {
   "display_name": "Python 2",
   "language": "python",
   "name": "python2"
  },
  "language_info": {
   "codemirror_mode": {
    "name": "ipython",
    "version": 2
   },
   "file_extension": ".py",
   "mimetype": "text/x-python",
   "name": "python",
   "nbconvert_exporter": "python",
   "pygments_lexer": "ipython2",
   "version": "2.7.7"
  }
 },
 "nbformat": 4,
 "nbformat_minor": 0
}
