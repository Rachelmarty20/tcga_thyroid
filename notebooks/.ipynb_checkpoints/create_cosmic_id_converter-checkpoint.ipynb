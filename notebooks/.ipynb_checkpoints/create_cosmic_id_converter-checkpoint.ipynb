{
 "cells": [
  {
   "cell_type": "markdown",
   "metadata": {},
   "source": [
    "#Create Cosmic Id Converter"
   ]
  },
  {
   "cell_type": "markdown",
   "metadata": {},
   "source": [
    "We needed a way to map between tcga and comsic data because they are given on different reference genomes. This is the best solution we found. It doesn't get all of the mutations, but it gets some. It returns a data frame containing converting information."
   ]
  },
  {
   "cell_type": "code",
   "execution_count": 1,
   "metadata": {
    "collapsed": false
   },
   "outputs": [],
   "source": [
    "import os\n",
    "import pandas as pd"
   ]
  },
  {
   "cell_type": "code",
   "execution_count": 27,
   "metadata": {
    "collapsed": false
   },
   "outputs": [],
   "source": [
    "cosmic_raw = pd.read_csv('cosmicRaw.txt', sep='\\t', header=None)\n",
    "cancer = pd.read_csv('thyr.uniq_cancer_SNPs.abrvCosmic.csv')\n",
    "neutral = pd.read_csv('thyr.uniq_neutral_SNPs.abrvCosmic.csv')"
   ]
  },
  {
   "cell_type": "code",
   "execution_count": 28,
   "metadata": {
    "collapsed": false
   },
   "outputs": [
    {
     "data": {
      "text/html": [
       "<div style=\"max-height:1000px;max-width:1500px;overflow:auto;\">\n",
       "<table border=\"1\" class=\"dataframe\">\n",
       "  <thead>\n",
       "    <tr style=\"text-align: right;\">\n",
       "      <th></th>\n",
       "      <th>0</th>\n",
       "      <th>1</th>\n",
       "      <th>2</th>\n",
       "      <th>3</th>\n",
       "      <th>4</th>\n",
       "      <th>5</th>\n",
       "      <th>6</th>\n",
       "      <th>7</th>\n",
       "      <th>8</th>\n",
       "      <th>9</th>\n",
       "      <th>10</th>\n",
       "      <th>11</th>\n",
       "      <th>12</th>\n",
       "      <th>13</th>\n",
       "      <th>14</th>\n",
       "      <th>15</th>\n",
       "    </tr>\n",
       "  </thead>\n",
       "  <tbody>\n",
       "    <tr>\n",
       "      <th>0</th>\n",
       "      <td> COSMIC v68</td>\n",
       "      <td> COSM1627234</td>\n",
       "      <td> 39340</td>\n",
       "      <td> ENST00000401030</td>\n",
       "      <td>      Substitution - Missense</td>\n",
       "      <td>      c.205G&gt;T</td>\n",
       "      <td>    p.D69Y</td>\n",
       "      <td> 1</td>\n",
       "      <td> 87369011</td>\n",
       "      <td> 87369011</td>\n",
       "      <td>   g&gt;t</td>\n",
       "      <td> D&gt;Y</td>\n",
       "      <td>         liver</td>\n",
       "      <td> 1</td>\n",
       "      <td> 1</td>\n",
       "      <td> 100</td>\n",
       "    </tr>\n",
       "    <tr>\n",
       "      <th>1</th>\n",
       "      <td> COSMIC v68</td>\n",
       "      <td>  COSM383711</td>\n",
       "      <td> 39340</td>\n",
       "      <td> ENST00000401030</td>\n",
       "      <td>      Substitution - Nonsense</td>\n",
       "      <td>      c.115G&gt;T</td>\n",
       "      <td>    p.E39*</td>\n",
       "      <td> 1</td>\n",
       "      <td> 87369101</td>\n",
       "      <td> 87369101</td>\n",
       "      <td>   g&gt;t</td>\n",
       "      <td> E&gt;*</td>\n",
       "      <td>          lung</td>\n",
       "      <td> 1</td>\n",
       "      <td> 1</td>\n",
       "      <td> 100</td>\n",
       "    </tr>\n",
       "    <tr>\n",
       "      <th>2</th>\n",
       "      <td> COSMIC v68</td>\n",
       "      <td> COSM1735538</td>\n",
       "      <td> 39340</td>\n",
       "      <td> ENST00000401030</td>\n",
       "      <td>          Deletion - In frame</td>\n",
       "      <td> c.64_66delTTG</td>\n",
       "      <td> p.L22delL</td>\n",
       "      <td> 1</td>\n",
       "      <td> 87379729</td>\n",
       "      <td> 87379731</td>\n",
       "      <td> ttg&gt;-</td>\n",
       "      <td> L&gt;-</td>\n",
       "      <td>      pancreas</td>\n",
       "      <td> 1</td>\n",
       "      <td> 1</td>\n",
       "      <td> 100</td>\n",
       "    </tr>\n",
       "    <tr>\n",
       "      <th>3</th>\n",
       "      <td> COSMIC v68</td>\n",
       "      <td>  COSM912846</td>\n",
       "      <td> 39340</td>\n",
       "      <td> ENST00000401030</td>\n",
       "      <td> Substitution - coding silent</td>\n",
       "      <td>       c.34C&gt;T</td>\n",
       "      <td>    p.L12L</td>\n",
       "      <td> 1</td>\n",
       "      <td> 87379761</td>\n",
       "      <td> 87379761</td>\n",
       "      <td>   c&gt;t</td>\n",
       "      <td> L&gt;L</td>\n",
       "      <td>   endometrium</td>\n",
       "      <td> 1</td>\n",
       "      <td> 1</td>\n",
       "      <td> 100</td>\n",
       "    </tr>\n",
       "    <tr>\n",
       "      <th>4</th>\n",
       "      <td> COSMIC v68</td>\n",
       "      <td> COSM1296755</td>\n",
       "      <td> 39340</td>\n",
       "      <td> ENST00000401030</td>\n",
       "      <td> Substitution - coding silent</td>\n",
       "      <td>       c.24G&gt;C</td>\n",
       "      <td>     p.P8P</td>\n",
       "      <td> 1</td>\n",
       "      <td> 87379771</td>\n",
       "      <td> 87379771</td>\n",
       "      <td>   g&gt;c</td>\n",
       "      <td> P&gt;P</td>\n",
       "      <td> urinary_tract</td>\n",
       "      <td> 1</td>\n",
       "      <td> 1</td>\n",
       "      <td> 100</td>\n",
       "    </tr>\n",
       "  </tbody>\n",
       "</table>\n",
       "</div>"
      ],
      "text/plain": [
       "           0            1      2                3   \\\n",
       "0  COSMIC v68  COSM1627234  39340  ENST00000401030   \n",
       "1  COSMIC v68   COSM383711  39340  ENST00000401030   \n",
       "2  COSMIC v68  COSM1735538  39340  ENST00000401030   \n",
       "3  COSMIC v68   COSM912846  39340  ENST00000401030   \n",
       "4  COSMIC v68  COSM1296755  39340  ENST00000401030   \n",
       "\n",
       "                             4              5          6   7         8   \\\n",
       "0       Substitution - Missense       c.205G>T     p.D69Y   1  87369011   \n",
       "1       Substitution - Nonsense       c.115G>T     p.E39*   1  87369101   \n",
       "2           Deletion - In frame  c.64_66delTTG  p.L22delL   1  87379729   \n",
       "3  Substitution - coding silent        c.34C>T     p.L12L   1  87379761   \n",
       "4  Substitution - coding silent        c.24G>C      p.P8P   1  87379771   \n",
       "\n",
       "         9      10   11             12  13  14   15  \n",
       "0  87369011    g>t  D>Y          liver   1   1  100  \n",
       "1  87369101    g>t  E>*           lung   1   1  100  \n",
       "2  87379731  ttg>-  L>-       pancreas   1   1  100  \n",
       "3  87379761    c>t  L>L    endometrium   1   1  100  \n",
       "4  87379771    g>c  P>P  urinary_tract   1   1  100  "
      ]
     },
     "execution_count": 28,
     "metadata": {},
     "output_type": "execute_result"
    }
   ],
   "source": [
    "cosmic_raw.head()"
   ]
  },
  {
   "cell_type": "code",
   "execution_count": 29,
   "metadata": {
    "collapsed": false
   },
   "outputs": [],
   "source": [
    "cosmic_raw.columns = [\"A\", \"Mutation ID\", \"Entrez_Gene_Id\", \"ENST\", \"B\", \"C\", \"c\", \"Chromosome\", \"Location\", \"e\", \"f\",\"g\", \"h\", \"i\", \"j\", \"k\"]"
   ]
  },
  {
   "cell_type": "code",
   "execution_count": 30,
   "metadata": {
    "collapsed": false
   },
   "outputs": [],
   "source": [
    "cosmic_raw = cosmic_raw[[\"Mutation ID\", \"Entrez_Gene_Id\", \"Chromosome\", \"Location\"]]"
   ]
  },
  {
   "cell_type": "code",
   "execution_count": 31,
   "metadata": {
    "collapsed": false
   },
   "outputs": [
    {
     "data": {
      "text/html": [
       "<div style=\"max-height:1000px;max-width:1500px;overflow:auto;\">\n",
       "<table border=\"1\" class=\"dataframe\">\n",
       "  <thead>\n",
       "    <tr style=\"text-align: right;\">\n",
       "      <th></th>\n",
       "      <th>Mutation ID</th>\n",
       "      <th>Entrez_Gene_Id</th>\n",
       "      <th>Chromosome</th>\n",
       "      <th>Location</th>\n",
       "    </tr>\n",
       "  </thead>\n",
       "  <tbody>\n",
       "    <tr>\n",
       "      <th>0</th>\n",
       "      <td> COSM1627234</td>\n",
       "      <td> 39340</td>\n",
       "      <td> 1</td>\n",
       "      <td> 87369011</td>\n",
       "    </tr>\n",
       "    <tr>\n",
       "      <th>1</th>\n",
       "      <td>  COSM383711</td>\n",
       "      <td> 39340</td>\n",
       "      <td> 1</td>\n",
       "      <td> 87369101</td>\n",
       "    </tr>\n",
       "    <tr>\n",
       "      <th>2</th>\n",
       "      <td> COSM1735538</td>\n",
       "      <td> 39340</td>\n",
       "      <td> 1</td>\n",
       "      <td> 87379729</td>\n",
       "    </tr>\n",
       "    <tr>\n",
       "      <th>3</th>\n",
       "      <td>  COSM912846</td>\n",
       "      <td> 39340</td>\n",
       "      <td> 1</td>\n",
       "      <td> 87379761</td>\n",
       "    </tr>\n",
       "    <tr>\n",
       "      <th>4</th>\n",
       "      <td> COSM1296755</td>\n",
       "      <td> 39340</td>\n",
       "      <td> 1</td>\n",
       "      <td> 87379771</td>\n",
       "    </tr>\n",
       "  </tbody>\n",
       "</table>\n",
       "</div>"
      ],
      "text/plain": [
       "   Mutation ID Entrez_Gene_Id  Chromosome  Location\n",
       "0  COSM1627234          39340           1  87369011\n",
       "1   COSM383711          39340           1  87369101\n",
       "2  COSM1735538          39340           1  87379729\n",
       "3   COSM912846          39340           1  87379761\n",
       "4  COSM1296755          39340           1  87379771"
      ]
     },
     "execution_count": 31,
     "metadata": {},
     "output_type": "execute_result"
    }
   ],
   "source": [
    "cosmic_raw.head()"
   ]
  },
  {
   "cell_type": "code",
   "execution_count": 37,
   "metadata": {
    "collapsed": false
   },
   "outputs": [],
   "source": [
    "def simplify(x):\n",
    "    a = x.split(\"_\")\n",
    "    return a[0]\n",
    "cosmic_raw[\"Hugo_Name\"] = cosmic_raw[\"Entrez_Gene_Id\"].apply(simplify)"
   ]
  },
  {
   "cell_type": "code",
   "execution_count": 40,
   "metadata": {
    "collapsed": false
   },
   "outputs": [],
   "source": [
    "cosmic_raw = cosmic_raw[[\"Mutation ID\", \"Hugo_Name\", \"Location\"]]"
   ]
  },
  {
   "cell_type": "code",
   "execution_count": 41,
   "metadata": {
    "collapsed": false
   },
   "outputs": [],
   "source": [
    "cosmic_raw.to_csv('cosmic_raw_mut_id.csv')"
   ]
  },
  {
   "cell_type": "code",
   "execution_count": null,
   "metadata": {
    "collapsed": false
   },
   "outputs": [],
   "source": []
  }
 ],
 "metadata": {
  "kernelspec": {
   "display_name": "Python 2",
   "language": "python",
   "name": "python2"
  },
  "language_info": {
   "codemirror_mode": {
    "name": "ipython",
    "version": 2
   },
   "file_extension": ".py",
   "mimetype": "text/x-python",
   "name": "python",
   "nbconvert_exporter": "python",
   "pygments_lexer": "ipython2",
   "version": "2.7.7"
  }
 },
 "nbformat": 4,
 "nbformat_minor": 0
}
