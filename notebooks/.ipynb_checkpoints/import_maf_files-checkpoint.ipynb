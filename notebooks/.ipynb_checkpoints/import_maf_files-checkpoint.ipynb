{
 "cells": [
  {
   "cell_type": "markdown",
   "metadata": {},
   "source": [
    "# Import Maf Files"
   ]
  },
  {
   "cell_type": "markdown",
   "metadata": {},
   "source": [
    "This script imports somatic mutations from a local maf file and creates a d"
   ]
  },
  {
   "cell_type": "markdown",
   "metadata": {},
   "source": [
    "Import necessary modules"
   ]
  },
  {
   "cell_type": "code",
   "execution_count": 1,
   "metadata": {
    "collapsed": false
   },
   "outputs": [
    {
     "name": "stdout",
     "output_type": "stream",
     "text": [
      "Populating the interactive namespace from numpy and matplotlib\n"
     ]
    }
   ],
   "source": [
    "%pylab inline\n",
    "import pandas as pd\n",
    "import numpy as np\n",
    "import os\n",
    "import sklearn as sk\n",
    "from sklearn.cluster import AffinityPropagation\n",
    "from sklearn import datasets\n",
    "from sklearn import metrics\n",
    "from multiprocessing import Pool\n",
    "import pickle"
   ]
  },
  {
   "cell_type": "markdown",
   "metadata": {},
   "source": [
    "## Somatic Mutations from TCGA"
   ]
  },
  {
   "cell_type": "markdown",
   "metadata": {},
   "source": [
    "Read maf files. Originally downloaded from tcga website. No special access was necessary."
   ]
  },
  {
   "cell_type": "code",
   "execution_count": 2,
   "metadata": {
    "collapsed": false
   },
   "outputs": [],
   "source": [
    "data_dir = 'maf_files_thyroid/'\n",
    "maf_files = os.listdir(data_dir)\n",
    "maf = {}\n",
    "for f in maf_files:\n",
    "    input_file = open(data_dir+f, 'r')\n",
    "    maf[f] = pd.read_csv(input_file, sep='\\t', header=0, index_col=0, low_memory=True)"
   ]
  },
  {
   "cell_type": "code",
   "execution_count": 3,
   "metadata": {
    "collapsed": false
   },
   "outputs": [
    {
     "name": "stdout",
     "output_type": "stream",
     "text": [
      "Index([u'Entrez_Gene_Id', u'Center', u'Ncbi_Build', u'Chrom',\n",
      "       u'Start_Position', u'End_Position', u'Strand',\n",
      "       u'Variant_Classification', u'Variant_Type', u'Reference_Allele',\n",
      "       u'Tumor_Seq_Allele1', u'Tumor_Seq_Allele2', u'Dbsnp_Rs',\n",
      "       u'Dbsnp_Val_Status', u'Tumor_Sample_Barcode',\n",
      "       u'Matched_Norm_Sample_Barcode', u'Match_Norm_Seq_Allele1',\n",
      "       u'Match_Norm_Seq_Allele2', u'Tumor_Validation_Allele1',\n",
      "       u'Tumor_Validation_Allele2', u'Match_Norm_Validation_Allele1',\n",
      "       u'Match_Norm_Validation_Allele2', u'Verification_Status',\n",
      "       u'Validation_Status', u'Mutation_Status', u'Sequencing_Phase',\n",
      "       u'Sequence_Source', u'Validation_Method', u'Score', u'Bam_File',\n",
      "       u'Sequencer', u'Tumor_Sample_UUID', u'Matched_Norm_Sample_UUID',\n",
      "       u'File_Name', u'Archive_Name', u'Line_Number'],\n",
      "      dtype='object')\n"
     ]
    }
   ],
   "source": [
    "m = pd.concat(maf)\n",
    "m = m.dropna(axis=1, how='all')\n",
    "print m.columns\n",
    "cols = ['Ncbi_Build', 'Chrom', 'Start_Position', \n",
    "         'End_Position', 'Strand', 'Reference_Allele', \n",
    "         'Tumor_Seq_Allele1', 'Tumor_Seq_Allele2',\n",
    "         'Tumor_Sample_Barcode', 'Entrez_Gene_Id',\n",
    "         'Variant_Classification','Variant_Type']\n",
    "m = m[cols]\n",
    "m = m.reset_index()\n",
    "m = m[m.Entrez_Gene_Id != 0]"
   ]
  },
  {
   "cell_type": "code",
   "execution_count": 4,
   "metadata": {
    "collapsed": false
   },
   "outputs": [
    {
     "data": {
      "text/html": [
       "<div style=\"max-height:1000px;max-width:1500px;overflow:auto;\">\n",
       "<table border=\"1\" class=\"dataframe\">\n",
       "  <thead>\n",
       "    <tr style=\"text-align: right;\">\n",
       "      <th></th>\n",
       "      <th>level_0</th>\n",
       "      <th>Hugo_Symbol</th>\n",
       "      <th>Ncbi_Build</th>\n",
       "      <th>Chrom</th>\n",
       "      <th>Start_Position</th>\n",
       "      <th>End_Position</th>\n",
       "      <th>Strand</th>\n",
       "      <th>Reference_Allele</th>\n",
       "      <th>Tumor_Seq_Allele1</th>\n",
       "      <th>Tumor_Seq_Allele2</th>\n",
       "      <th>Tumor_Sample_Barcode</th>\n",
       "      <th>Entrez_Gene_Id</th>\n",
       "      <th>Variant_Classification</th>\n",
       "      <th>Variant_Type</th>\n",
       "    </tr>\n",
       "  </thead>\n",
       "  <tbody>\n",
       "    <tr>\n",
       "      <th>0</th>\n",
       "      <td>bcgsc.ca__IlluminaHiSeq_automated_DNA_sequenci...</td>\n",
       "      <td>A1CF</td>\n",
       "      <td>hg19</td>\n",
       "      <td>10</td>\n",
       "      <td>52576034</td>\n",
       "      <td>52576034</td>\n",
       "      <td>+</td>\n",
       "      <td>C</td>\n",
       "      <td>A</td>\n",
       "      <td>A</td>\n",
       "      <td>TCGA-ET-A39P-01A-21D-A19J-08</td>\n",
       "      <td>29974</td>\n",
       "      <td>Silent</td>\n",
       "      <td>SNP</td>\n",
       "    </tr>\n",
       "    <tr>\n",
       "      <th>1</th>\n",
       "      <td>bcgsc.ca__IlluminaHiSeq_automated_DNA_sequenci...</td>\n",
       "      <td>A2M</td>\n",
       "      <td>hg19</td>\n",
       "      <td>12</td>\n",
       "      <td>9264798</td>\n",
       "      <td>9264798</td>\n",
       "      <td>+</td>\n",
       "      <td>C</td>\n",
       "      <td>T</td>\n",
       "      <td>T</td>\n",
       "      <td>TCGA-BJ-A0ZB-01A-11D-A10S-08</td>\n",
       "      <td>2</td>\n",
       "      <td>Missense_Mutation</td>\n",
       "      <td>SNP</td>\n",
       "    </tr>\n",
       "    <tr>\n",
       "      <th>2</th>\n",
       "      <td>bcgsc.ca__IlluminaHiSeq_automated_DNA_sequenci...</td>\n",
       "      <td>A2ML1</td>\n",
       "      <td>hg19</td>\n",
       "      <td>12</td>\n",
       "      <td>8990110</td>\n",
       "      <td>8990111</td>\n",
       "      <td>+</td>\n",
       "      <td>GA</td>\n",
       "      <td>-</td>\n",
       "      <td>-</td>\n",
       "      <td>TCGA-ET-A40S-01A-11D-A23M-08</td>\n",
       "      <td>144568</td>\n",
       "      <td>Frame_Shift_Del</td>\n",
       "      <td>DEL</td>\n",
       "    </tr>\n",
       "    <tr>\n",
       "      <th>3</th>\n",
       "      <td>bcgsc.ca__IlluminaHiSeq_automated_DNA_sequenci...</td>\n",
       "      <td>A2ML1</td>\n",
       "      <td>hg19</td>\n",
       "      <td>12</td>\n",
       "      <td>8995756</td>\n",
       "      <td>8995756</td>\n",
       "      <td>+</td>\n",
       "      <td>A</td>\n",
       "      <td>G</td>\n",
       "      <td>G</td>\n",
       "      <td>TCGA-E8-A413-01A-21D-A23M-08</td>\n",
       "      <td>144568</td>\n",
       "      <td>Silent</td>\n",
       "      <td>SNP</td>\n",
       "    </tr>\n",
       "    <tr>\n",
       "      <th>4</th>\n",
       "      <td>bcgsc.ca__IlluminaHiSeq_automated_DNA_sequenci...</td>\n",
       "      <td>A2ML1</td>\n",
       "      <td>hg19</td>\n",
       "      <td>12</td>\n",
       "      <td>9009820</td>\n",
       "      <td>9009820</td>\n",
       "      <td>+</td>\n",
       "      <td>G</td>\n",
       "      <td>A</td>\n",
       "      <td>A</td>\n",
       "      <td>TCGA-DJ-A4UT-01A-11D-A257-08</td>\n",
       "      <td>144568</td>\n",
       "      <td>Missense_Mutation</td>\n",
       "      <td>SNP</td>\n",
       "    </tr>\n",
       "  </tbody>\n",
       "</table>\n",
       "</div>"
      ],
      "text/plain": [
       "                                             level_0 Hugo_Symbol Ncbi_Build  \\\n",
       "0  bcgsc.ca__IlluminaHiSeq_automated_DNA_sequenci...        A1CF       hg19   \n",
       "1  bcgsc.ca__IlluminaHiSeq_automated_DNA_sequenci...         A2M       hg19   \n",
       "2  bcgsc.ca__IlluminaHiSeq_automated_DNA_sequenci...       A2ML1       hg19   \n",
       "3  bcgsc.ca__IlluminaHiSeq_automated_DNA_sequenci...       A2ML1       hg19   \n",
       "4  bcgsc.ca__IlluminaHiSeq_automated_DNA_sequenci...       A2ML1       hg19   \n",
       "\n",
       "  Chrom  Start_Position  End_Position Strand Reference_Allele  \\\n",
       "0    10        52576034      52576034      +                C   \n",
       "1    12         9264798       9264798      +                C   \n",
       "2    12         8990110       8990111      +               GA   \n",
       "3    12         8995756       8995756      +                A   \n",
       "4    12         9009820       9009820      +                G   \n",
       "\n",
       "  Tumor_Seq_Allele1 Tumor_Seq_Allele2          Tumor_Sample_Barcode  \\\n",
       "0                 A                 A  TCGA-ET-A39P-01A-21D-A19J-08   \n",
       "1                 T                 T  TCGA-BJ-A0ZB-01A-11D-A10S-08   \n",
       "2                 -                 -  TCGA-ET-A40S-01A-11D-A23M-08   \n",
       "3                 G                 G  TCGA-E8-A413-01A-21D-A23M-08   \n",
       "4                 A                 A  TCGA-DJ-A4UT-01A-11D-A257-08   \n",
       "\n",
       "   Entrez_Gene_Id Variant_Classification Variant_Type  \n",
       "0           29974                 Silent          SNP  \n",
       "1               2      Missense_Mutation          SNP  \n",
       "2          144568        Frame_Shift_Del          DEL  \n",
       "3          144568                 Silent          SNP  \n",
       "4          144568      Missense_Mutation          SNP  "
      ]
     },
     "execution_count": 4,
     "metadata": {},
     "output_type": "execute_result"
    }
   ],
   "source": [
    "m.head()"
   ]
  },
  {
   "cell_type": "markdown",
   "metadata": {},
   "source": [
    "Organize pandas data frame."
   ]
  },
  {
   "cell_type": "markdown",
   "metadata": {},
   "source": [
    "#### Adding useful columns"
   ]
  },
  {
   "cell_type": "markdown",
   "metadata": {},
   "source": [
    "Boolean for both alleles being mutated"
   ]
  },
  {
   "cell_type": "code",
   "execution_count": 5,
   "metadata": {
    "collapsed": false
   },
   "outputs": [],
   "source": [
    "def check_bi_allelic(x):\n",
    "    if x[0] == x[1]:\n",
    "        return True\n",
    "    else:\n",
    "        return False\n",
    "m[\"Both_Alleles\"] = m[['Tumor_Seq_Allele1', 'Tumor_Seq_Allele2']].apply(check_bi_allelic, axis=1)"
   ]
  },
  {
   "cell_type": "markdown",
   "metadata": {},
   "source": [
    "Constructing 10 digit patieng barcode"
   ]
  },
  {
   "cell_type": "code",
   "execution_count": 6,
   "metadata": {
    "collapsed": false
   },
   "outputs": [],
   "source": [
    "m['Patient_Barcode'] = m.Tumor_Sample_Barcode.str[:12]"
   ]
  },
  {
   "cell_type": "markdown",
   "metadata": {},
   "source": [
    "Creating a numerical identifier for patients; will be helpful for visualizations."
   ]
  },
  {
   "cell_type": "code",
   "execution_count": 7,
   "metadata": {
    "collapsed": false
   },
   "outputs": [],
   "source": [
    "unique_patient_identifiers = list(m.Patient_Barcode.unique())\n",
    "all_patient_rows = list(m.Patient_Barcode)\n",
    "all_unique_identifiers = []\n",
    "for p_id in all_patient_rows:\n",
    "    all_unique_identifiers.append(unique_patient_identifiers.index(p_id))\n",
    "m['Patient_Number'] = pd.Series(all_unique_identifiers)"
   ]
  },
  {
   "cell_type": "markdown",
   "metadata": {},
   "source": [
    "Creating a numerical identifier for genes; will be helpful for visualizations also."
   ]
  },
  {
   "cell_type": "code",
   "execution_count": 8,
   "metadata": {
    "collapsed": false
   },
   "outputs": [],
   "source": [
    "unique_gene_identifier = list(m.Entrez_Gene_Id.unique())\n",
    "all_entrez = list(m.Entrez_Gene_Id)\n",
    "Seq_Gene_Id = []\n",
    "for gene in all_entrez:\n",
    "    Seq_Gene_Id.append(unique_gene_identifier.index(gene))\n",
    "m['Seq_Gene_Id'] = pd.Series(Seq_Gene_Id)"
   ]
  },
  {
   "cell_type": "markdown",
   "metadata": {},
   "source": [
    "Reducing data frame to relevant rows."
   ]
  },
  {
   "cell_type": "code",
   "execution_count": 9,
   "metadata": {
    "collapsed": false
   },
   "outputs": [],
   "source": [
    "mr = m[['Hugo_Symbol', 'Entrez_Gene_Id', 'Patient_Barcode', 'Variant_Classification', 'Both_Alleles', 'Start_Position']]"
   ]
  },
  {
   "cell_type": "code",
   "execution_count": 10,
   "metadata": {
    "collapsed": false
   },
   "outputs": [
    {
     "data": {
      "text/html": [
       "<div style=\"max-height:1000px;max-width:1500px;overflow:auto;\">\n",
       "<table border=\"1\" class=\"dataframe\">\n",
       "  <thead>\n",
       "    <tr style=\"text-align: right;\">\n",
       "      <th></th>\n",
       "      <th>Hugo_Symbol</th>\n",
       "      <th>Entrez_Gene_Id</th>\n",
       "      <th>Patient_Barcode</th>\n",
       "      <th>Variant_Classification</th>\n",
       "      <th>Both_Alleles</th>\n",
       "      <th>Start_Position</th>\n",
       "    </tr>\n",
       "  </thead>\n",
       "  <tbody>\n",
       "    <tr>\n",
       "      <th>0</th>\n",
       "      <td>A1CF</td>\n",
       "      <td>29974</td>\n",
       "      <td>TCGA-ET-A39P</td>\n",
       "      <td>Silent</td>\n",
       "      <td>True</td>\n",
       "      <td>52576034</td>\n",
       "    </tr>\n",
       "    <tr>\n",
       "      <th>1</th>\n",
       "      <td>A2M</td>\n",
       "      <td>2</td>\n",
       "      <td>TCGA-BJ-A0ZB</td>\n",
       "      <td>Missense_Mutation</td>\n",
       "      <td>True</td>\n",
       "      <td>9264798</td>\n",
       "    </tr>\n",
       "    <tr>\n",
       "      <th>2</th>\n",
       "      <td>A2ML1</td>\n",
       "      <td>144568</td>\n",
       "      <td>TCGA-ET-A40S</td>\n",
       "      <td>Frame_Shift_Del</td>\n",
       "      <td>True</td>\n",
       "      <td>8990110</td>\n",
       "    </tr>\n",
       "    <tr>\n",
       "      <th>3</th>\n",
       "      <td>A2ML1</td>\n",
       "      <td>144568</td>\n",
       "      <td>TCGA-E8-A413</td>\n",
       "      <td>Silent</td>\n",
       "      <td>True</td>\n",
       "      <td>8995756</td>\n",
       "    </tr>\n",
       "    <tr>\n",
       "      <th>4</th>\n",
       "      <td>A2ML1</td>\n",
       "      <td>144568</td>\n",
       "      <td>TCGA-DJ-A4UT</td>\n",
       "      <td>Missense_Mutation</td>\n",
       "      <td>True</td>\n",
       "      <td>9009820</td>\n",
       "    </tr>\n",
       "  </tbody>\n",
       "</table>\n",
       "</div>"
      ],
      "text/plain": [
       "  Hugo_Symbol  Entrez_Gene_Id Patient_Barcode Variant_Classification  \\\n",
       "0        A1CF           29974    TCGA-ET-A39P                 Silent   \n",
       "1         A2M               2    TCGA-BJ-A0ZB      Missense_Mutation   \n",
       "2       A2ML1          144568    TCGA-ET-A40S        Frame_Shift_Del   \n",
       "3       A2ML1          144568    TCGA-E8-A413                 Silent   \n",
       "4       A2ML1          144568    TCGA-DJ-A4UT      Missense_Mutation   \n",
       "\n",
       "  Both_Alleles  Start_Position  \n",
       "0         True        52576034  \n",
       "1         True         9264798  \n",
       "2         True         8990110  \n",
       "3         True         8995756  \n",
       "4         True         9009820  "
      ]
     },
     "execution_count": 10,
     "metadata": {},
     "output_type": "execute_result"
    }
   ],
   "source": [
    "mr.head()"
   ]
  },
  {
   "cell_type": "code",
   "execution_count": 11,
   "metadata": {
    "collapsed": false,
    "scrolled": true
   },
   "outputs": [],
   "source": [
    "mr = mr.drop_duplicates()"
   ]
  },
  {
   "cell_type": "code",
   "execution_count": 12,
   "metadata": {
    "collapsed": false
   },
   "outputs": [
    {
     "data": {
      "text/plain": [
       "Hugo_Symbol               27116\n",
       "Entrez_Gene_Id            27116\n",
       "Patient_Barcode           27116\n",
       "Variant_Classification    27116\n",
       "Both_Alleles              27116\n",
       "Start_Position            27116\n",
       "dtype: int64"
      ]
     },
     "execution_count": 12,
     "metadata": {},
     "output_type": "execute_result"
    }
   ],
   "source": [
    "mr.count()"
   ]
  },
  {
   "cell_type": "code",
   "execution_count": 13,
   "metadata": {
    "collapsed": false,
    "scrolled": true
   },
   "outputs": [
    {
     "data": {
      "text/html": [
       "<div style=\"max-height:1000px;max-width:1500px;overflow:auto;\">\n",
       "<table border=\"1\" class=\"dataframe\">\n",
       "  <thead>\n",
       "    <tr style=\"text-align: right;\">\n",
       "      <th></th>\n",
       "      <th>Hugo_Symbol</th>\n",
       "      <th>Entrez_Gene_Id</th>\n",
       "      <th>Patient_Barcode</th>\n",
       "      <th>Variant_Classification</th>\n",
       "      <th>Both_Alleles</th>\n",
       "      <th>Start_Position</th>\n",
       "    </tr>\n",
       "  </thead>\n",
       "  <tbody>\n",
       "    <tr>\n",
       "      <th>1972</th>\n",
       "      <td>BRAF</td>\n",
       "      <td>673</td>\n",
       "      <td>TCGA-DJ-A2PU</td>\n",
       "      <td>Missense_Mutation</td>\n",
       "      <td>True</td>\n",
       "      <td>140453136</td>\n",
       "    </tr>\n",
       "    <tr>\n",
       "      <th>20498</th>\n",
       "      <td>BRAF</td>\n",
       "      <td>673</td>\n",
       "      <td>TCGA-DJ-A2PU</td>\n",
       "      <td>Missense_Mutation</td>\n",
       "      <td>False</td>\n",
       "      <td>140453136</td>\n",
       "    </tr>\n",
       "  </tbody>\n",
       "</table>\n",
       "</div>"
      ],
      "text/plain": [
       "      Hugo_Symbol  Entrez_Gene_Id Patient_Barcode Variant_Classification  \\\n",
       "1972         BRAF             673    TCGA-DJ-A2PU      Missense_Mutation   \n",
       "20498        BRAF             673    TCGA-DJ-A2PU      Missense_Mutation   \n",
       "\n",
       "      Both_Alleles  Start_Position  \n",
       "1972          True       140453136  \n",
       "20498        False       140453136  "
      ]
     },
     "execution_count": 13,
     "metadata": {},
     "output_type": "execute_result"
    }
   ],
   "source": [
    "mr[(mr['Start_Position'] == 140453136) & (mr['Patient_Barcode'] == 'TCGA-DJ-A2PU')]"
   ]
  },
  {
   "cell_type": "code",
   "execution_count": 48,
   "metadata": {
    "collapsed": true
   },
   "outputs": [],
   "source": [
    "mr.to_csv('mr.csv')"
   ]
  },
  {
   "cell_type": "code",
   "execution_count": 49,
   "metadata": {
    "collapsed": true
   },
   "outputs": [],
   "source": [
    "mr = pd.read_csv('mr.csv', index_col=0)"
   ]
  },
  {
   "cell_type": "markdown",
   "metadata": {},
   "source": [
    "#### Getting a feel for the data"
   ]
  },
  {
   "cell_type": "markdown",
   "metadata": {},
   "source": [
    "How many patients are we working with?"
   ]
  },
  {
   "cell_type": "code",
   "execution_count": 50,
   "metadata": {
    "collapsed": false
   },
   "outputs": [
    {
     "data": {
      "text/plain": [
       "441"
      ]
     },
     "execution_count": 50,
     "metadata": {},
     "output_type": "execute_result"
    }
   ],
   "source": [
    "len(m.Patient_Barcode.unique())"
   ]
  },
  {
   "cell_type": "markdown",
   "metadata": {},
   "source": [
    "How many mutations do each of the patients have?"
   ]
  },
  {
   "cell_type": "code",
   "execution_count": 18,
   "metadata": {
    "collapsed": false
   },
   "outputs": [
    {
     "data": {
      "text/plain": [
       "<matplotlib.text.Text at 0x66d8450>"
      ]
     },
     "execution_count": 18,
     "metadata": {},
     "output_type": "execute_result"
    },
    {
     "data": {
      "image/png": "[encoded data removed]",
      "text/plain": [
       "<matplotlib.figure.Figure at 0x664e2d0>"
      ]
     },
     "metadata": {},
     "output_type": "display_data"
    }
   ],
   "source": [
    "ax = m.Patient_Barcode.value_counts().hist()\n",
    "ax.set_xlabel(\"Number of Mutations per Patient\")\n",
    "ax.set_ylabel(\"Number of Patients\")"
   ]
  },
  {
   "cell_type": "markdown",
   "metadata": {},
   "source": [
    "What kinds of mutations are we dealing with?"
   ]
  },
  {
   "cell_type": "code",
   "execution_count": 19,
   "metadata": {
    "collapsed": false
   },
   "outputs": [
    {
     "data": {
      "text/plain": [
       "<matplotlib.text.Text at 0x668b1d0>"
      ]
     },
     "execution_count": 19,
     "metadata": {},
     "output_type": "execute_result"
    },
    {
     "data": {
      "image/png": "[encoded data removed]",
      "text/plain": [
       "<matplotlib.figure.Figure at 0x6c298d0>"
      ]
     },
     "metadata": {},
     "output_type": "display_data"
    }
   ],
   "source": [
    "ax = m.Variant_Classification.value_counts().plot(kind='bar')\n",
    "ax.set_ylabel(\"Number of Mutations\")"
   ]
  },
  {
   "cell_type": "markdown",
   "metadata": {},
   "source": [
    "How are the mutations distributed among the patients?"
   ]
  },
  {
   "cell_type": "code",
   "execution_count": 20,
   "metadata": {
    "collapsed": false
   },
   "outputs": [
    {
     "data": {
      "text/plain": [
       "<matplotlib.text.Text at 0x6c41810>"
      ]
     },
     "execution_count": 20,
     "metadata": {},
     "output_type": "execute_result"
    },
    {
     "data": {
      "image/png": "[encoded data removed]",
      "text/plain": [
       "<matplotlib.figure.Figure at 0x6e814d0>"
      ]
     },
     "metadata": {},
     "output_type": "display_data"
    }
   ],
   "source": [
    "ax = m.plot(kind='scatter', y='Patient_Number', x='Seq_Gene_Id', s=0.05)\n",
    "ax.set_ylabel(\"Patient\")\n",
    "ax.set_xlabel(\"Mutation\")"
   ]
  },
  {
   "cell_type": "markdown",
   "metadata": {},
   "source": [
    "Let's look a little more concretely. How many mutations do we see per gene?"
   ]
  },
  {
   "cell_type": "code",
   "execution_count": 21,
   "metadata": {
    "collapsed": false
   },
   "outputs": [
    {
     "data": {
      "text/plain": [
       "<matplotlib.text.Text at 0x7087dd0>"
      ]
     },
     "execution_count": 21,
     "metadata": {},
     "output_type": "execute_result"
    },
    {
     "data": {
      "image/png": "[encoded data removed]",
      "text/plain": [
       "<matplotlib.figure.Figure at 0x75cfed0>"
      ]
     },
     "metadata": {},
     "output_type": "display_data"
    }
   ],
   "source": [
    "ax = m['Hugo_Symbol'].value_counts()[:30].plot(kind='bar')\n",
    "ax.set_xlabel(\"Mutated Gene\")\n",
    "ax.set_ylabel(\"Number of Times Mutated\")"
   ]
  },
  {
   "cell_type": "markdown",
   "metadata": {},
   "source": [
    "Interesting. It looks like BRAF is mutated a TON while all of the other mutations have low frequency and are spread throughout many genes. What percentage of patients have a mutation in BRAF? Do some patients have multiple while others have none? Or are they evenly distributed? Do some only have BRAF?"
   ]
  },
  {
   "cell_type": "code",
   "execution_count": 23,
   "metadata": {
    "collapsed": false
   },
   "outputs": [
    {
     "name": "stdout",
     "output_type": "stream",
     "text": [
      "Percentage of patients with BRAF mutation:  0.596371882086\n",
      "Percentage of BRAF mutations that are bi-allelic:  0.342780026991\n",
      "Average number of mutations in patients with BRAF:  73.1064638783\n",
      "Average number of mutations in pations without BRAF:  70.1814058957\n"
     ]
    },
    {
     "data": {
      "image/png": "[encoded data removed]",
      "text/plain": [
       "<matplotlib.figure.Figure at 0x7b28910>"
      ]
     },
     "metadata": {},
     "output_type": "display_data"
    }
   ],
   "source": [
    "braf_mutations = m[m['Hugo_Symbol'] == 'BRAF']\n",
    "num_patients_with_BRAF = len(braf_mutations.Patient_Barcode.unique())\n",
    "num_patients = len(m.Patient_Barcode.unique())\n",
    "print \"Percentage of patients with BRAF mutation: \", float(num_patients_with_BRAF)/num_patients\n",
    "num_BRAF_mutations = len(braf_mutations)\n",
    "num_BRAF_mutations_biallelic = len(braf_mutations[braf_mutations['Both_Alleles'] == True])\n",
    "print \"Percentage of BRAF mutations that are bi-allelic: \", float(num_BRAF_mutations_biallelic)/num_BRAF_mutations\n",
    "# create df that only includes patients with braf\n",
    "patients_with_BRAF = braf_mutations.Patient_Barcode.unique()\n",
    "df_patients_with_BRAF = m[m['Patient_Barcode'].isin(patients_with_BRAF)]\n",
    "avg_num_mutations_per_patient_BRAF = np.mean(df_patients_with_BRAF.Patient_Barcode.value_counts())\n",
    "avg_num_mutations_per_patient = np.mean(m.Patient_Barcode.value_counts())\n",
    "df_patients_with_BRAF.Patient_Barcode.value_counts().plot()\n",
    "m.Patient_Barcode.value_counts().plot()\n",
    "print \"Average number of mutations in patients with BRAF: \", avg_num_mutations_per_patient_BRAF\n",
    "print \"Average number of mutations in pations without BRAF: \", avg_num_mutations_per_patient"
   ]
  },
  {
   "cell_type": "code",
   "execution_count": null,
   "metadata": {
    "collapsed": true
   },
   "outputs": [],
   "source": []
  }
 ],
 "metadata": {
  "kernelspec": {
   "display_name": "Python 2",
   "language": "python",
   "name": "python2"
  },
  "language_info": {
   "codemirror_mode": {
    "name": "ipython",
    "version": 2
   },
   "file_extension": ".py",
   "mimetype": "text/x-python",
   "name": "python",
   "nbconvert_exporter": "python",
   "pygments_lexer": "ipython2",
   "version": "2.7.7"
  }
 },
 "nbformat": 4,
 "nbformat_minor": 0
}
