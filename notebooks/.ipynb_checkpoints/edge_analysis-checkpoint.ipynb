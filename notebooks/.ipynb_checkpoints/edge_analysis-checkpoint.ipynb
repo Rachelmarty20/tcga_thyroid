{
 "cells": [
  {
   "cell_type": "code",
   "execution_count": 16,
   "metadata": {
    "collapsed": false
   },
   "outputs": [
    {
     "name": "stdout",
     "output_type": "stream",
     "text": [
      "Populating the interactive namespace from numpy and matplotlib\n"
     ]
    }
   ],
   "source": [
    "%pylab inline\n",
    "import pandas as pd\n",
    "import numpy as np\n",
    "import os\n",
    "import sklearn as sk\n",
    "import pickle\n",
    "from sklearn.cluster import AffinityPropagation\n",
    "from sklearn import datasets\n",
    "from sklearn import metrics\n",
    "from multiprocessing import Pool\n",
    "from sklearn.ensemble import RandomForestClassifier\n",
    "from sklearn.externals import joblib\n",
    "from sklearn.decomposition import PCA"
   ]
  },
  {
   "cell_type": "markdown",
   "metadata": {},
   "source": [
    "Import cancer feature vector, neutral feature vector. Import edges dictionary. Map mutation to genes to find number of edges per mutation."
   ]
  },
  {
   "cell_type": "code",
   "execution_count": 17,
   "metadata": {
    "collapsed": false
   },
   "outputs": [],
   "source": [
    "cancer_feature_vector = pd.read_csv('../data_frames/cancer_feature_vector_tcga.csv', index_col=0)\n",
    "neutral_feature_vector = pd.read_csv('../data_frames/neutral_feature_vector_tcga.csv', index_col=0)\n",
    "edges = pickle.load(open(\"../data_frames/edges.p\", 'rb'))"
   ]
  },
  {
   "cell_type": "code",
   "execution_count": 18,
   "metadata": {
    "collapsed": true
   },
   "outputs": [],
   "source": [
    "def get_entrez(x):\n",
    "    c = x.split(\"_\")\n",
    "    return c[0]"
   ]
  },
  {
   "cell_type": "code",
   "execution_count": 19,
   "metadata": {
    "collapsed": true
   },
   "outputs": [],
   "source": [
    "cancer_genes = list(cancer_feature_vector.SNP.map(get_entrez).astype(int))\n",
    "neutral_genes = list(neutral_feature_vector.SNP.map(get_entrez).astype(int))"
   ]
  },
  {
   "cell_type": "code",
   "execution_count": 44,
   "metadata": {
    "collapsed": false
   },
   "outputs": [],
   "source": [
    "cancer_connections, neutral_connections = [], []\n",
    "for gene in cancer_genes:\n",
    "    cancer_connections.append(len(edges[gene]))\n",
    "for gene in neutral_genes:\n",
    "    try:\n",
    "        neutral_connections.append(len(edges[gene]))\n",
    "    except:\n",
    "        neutral_connections.append(0)"
   ]
  },
  {
   "cell_type": "code",
   "execution_count": 45,
   "metadata": {
    "collapsed": false
   },
   "outputs": [],
   "source": [
    "cancer_connections_df = pd.DataFrame(cancer_connections)\n",
    "cancer_connections_df.columns = ['num_of_edges']\n",
    "neutral_connections_df = pd.DataFrame(neutral_connections)\n",
    "neutral_connections_df.columns = ['num_of_edges']"
   ]
  },
  {
   "cell_type": "code",
   "execution_count": 46,
   "metadata": {
    "collapsed": false
   },
   "outputs": [
    {
     "data": {
      "text/html": [
       "<div style=\"max-height:1000px;max-width:1500px;overflow:auto;\">\n",
       "<table border=\"1\" class=\"dataframe\">\n",
       "  <thead>\n",
       "    <tr style=\"text-align: right;\">\n",
       "      <th></th>\n",
       "      <th>num_of_edges</th>\n",
       "    </tr>\n",
       "  </thead>\n",
       "  <tbody>\n",
       "    <tr>\n",
       "      <th>0</th>\n",
       "      <td> 213</td>\n",
       "    </tr>\n",
       "    <tr>\n",
       "      <th>1</th>\n",
       "      <td> 213</td>\n",
       "    </tr>\n",
       "    <tr>\n",
       "      <th>2</th>\n",
       "      <td> 448</td>\n",
       "    </tr>\n",
       "    <tr>\n",
       "      <th>3</th>\n",
       "      <td> 448</td>\n",
       "    </tr>\n",
       "    <tr>\n",
       "      <th>4</th>\n",
       "      <td> 486</td>\n",
       "    </tr>\n",
       "  </tbody>\n",
       "</table>\n",
       "</div>"
      ],
      "text/plain": [
       "   num_of_edges\n",
       "0           213\n",
       "1           213\n",
       "2           448\n",
       "3           448\n",
       "4           486"
      ]
     },
     "execution_count": 46,
     "metadata": {},
     "output_type": "execute_result"
    }
   ],
   "source": [
    "cancer_connections_df.head()"
   ]
  },
  {
   "cell_type": "code",
   "execution_count": 47,
   "metadata": {
    "collapsed": false
   },
   "outputs": [
    {
     "data": {
      "text/plain": [
       "<matplotlib.legend.Legend at 0x10e40bed0>"
      ]
     },
     "execution_count": 47,
     "metadata": {},
     "output_type": "execute_result"
    },
    {
     "data": {
      "image/png": "[encoded data removed]",
      "text/plain": [
       "<matplotlib.figure.Figure at 0x10e434b50>"
      ]
     },
     "metadata": {},
     "output_type": "display_data"
    }
   ],
   "source": [
    "ax = cancer_connections_df.num_of_edges.hist(normed=True, alpha=0.5, color='b', label='Driver')\n",
    "neutral_connections_df.num_of_edges.hist(normed=True, alpha=0.5, ax=ax, color='g', label='Passenger')\n",
    "ax.set_xlabel(\"Number Of Edges\")\n",
    "ax.set_ylabel(\"Frequency\")\n",
    "patches, labels = ax.get_legend_handles_labels()\n",
    "ax.legend(patches, labels, loc=9)"
   ]
  },
  {
   "cell_type": "markdown",
   "metadata": {},
   "source": [
    "Should create another figure with the (density)/(number of edges)"
   ]
  },
  {
   "cell_type": "code",
   "execution_count": 54,
   "metadata": {
    "collapsed": false
   },
   "outputs": [],
   "source": [
    "cancer_feature_vector['num_of_edges'] = list(cancer_connections_df.num_of_edges)\n",
    "neutral_feature_vector['num_of_edges'] = list(neutral_connections_df.num_of_edges)"
   ]
  },
  {
   "cell_type": "code",
   "execution_count": 57,
   "metadata": {
    "collapsed": false
   },
   "outputs": [],
   "source": [
    "cancer_feature_vector['d_over_e'] = cancer_feature_vector.Density/cancer_feature_vector.num_of_edges\n",
    "neutral_feature_vector['d_over_e'] = neutral_feature_vector.Density/neutral_feature_vector.num_of_edges"
   ]
  },
  {
   "cell_type": "code",
   "execution_count": 64,
   "metadata": {
    "collapsed": false
   },
   "outputs": [
    {
     "data": {
      "text/plain": [
       "<matplotlib.legend.Legend at 0x10f093d10>"
      ]
     },
     "execution_count": 64,
     "metadata": {},
     "output_type": "execute_result"
    },
    {
     "data": {
      "image/png": "[encoded data removed]",
      "text/plain": [
       "<matplotlib.figure.Figure at 0x10ef7e250>"
      ]
     },
     "metadata": {},
     "output_type": "display_data"
    }
   ],
   "source": [
    "ax = cancer_feature_vector.d_over_e.hist(normed=True, alpha=0.5, color='b', label='Driver', bins=3)\n",
    "neutral_feature_vector.d_over_e.hist(normed=True, alpha=0.5, ax=ax, color='g', label='Passenger', bins=40)\n",
    "ax.set_xlabel(\"Density/Number Of Edges\")\n",
    "ax.set_ylabel(\"Frequency\")\n",
    "patches, labels = ax.get_legend_handles_labels()\n",
    "ax.legend(patches, labels, loc=9)"
   ]
  },
  {
   "cell_type": "code",
   "execution_count": null,
   "metadata": {
    "collapsed": true
   },
   "outputs": [],
   "source": []
  }
 ],
 "metadata": {
  "kernelspec": {
   "display_name": "Python 2",
   "language": "python",
   "name": "python2"
  },
  "language_info": {
   "codemirror_mode": {
    "name": "ipython",
    "version": 2
   },
   "file_extension": ".py",
   "mimetype": "text/x-python",
   "name": "python",
   "nbconvert_exporter": "python",
   "pygments_lexer": "ipython2",
   "version": "2.7.7"
  }
 },
 "nbformat": 4,
 "nbformat_minor": 0
}
