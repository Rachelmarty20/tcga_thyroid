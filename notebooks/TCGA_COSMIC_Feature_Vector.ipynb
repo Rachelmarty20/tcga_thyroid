{
 "cells": [
  {
   "cell_type": "code",
   "execution_count": 2,
   "metadata": {
    "collapsed": false
   },
   "outputs": [
    {
     "name": "stdout",
     "output_type": "stream",
     "text": [
      "Populating the interactive namespace from numpy and matplotlib\n"
     ]
    }
   ],
   "source": [
    "%pylab inline\n",
    "import pandas as pd\n",
    "import numpy as np\n",
    "import os\n",
    "import sklearn as sk\n",
    "from sklearn.cluster import AffinityPropagation\n",
    "from sklearn import datasets\n",
    "from sklearn import metrics\n",
    "from multiprocessing import Pool\n",
    "import pickle"
   ]
  },
  {
   "cell_type": "code",
   "execution_count": 3,
   "metadata": {
    "collapsed": true
   },
   "outputs": [],
   "source": [
    "def simplify(x):\n",
    "    a = x.split(\"_\")\n",
    "    return a[0]\n",
    "def get_loc(x):\n",
    "    c = x.split(\":\")\n",
    "    s = c[1].split(\"-\")\n",
    "    return s[0]\n",
    "def combine(x):\n",
    "    gene = x[0]\n",
    "    loc = x[1]\n",
    "    return str(int(gene)) + \"_\" + str(loc)"
   ]
  },
  {
   "cell_type": "code",
   "execution_count": 4,
   "metadata": {
    "collapsed": false
   },
   "outputs": [
    {
     "data": {
      "text/plain": [
       "Gene name                   6100\n",
       "Accession Number            6100\n",
       "Gene CDS length             6100\n",
       "HGNC ID                     6100\n",
       "Sample name                 6100\n",
       "ID_sample                   6100\n",
       "ID_tumour                   6100\n",
       "Primary site                6100\n",
       "Site subtype                6100\n",
       "Primary histology           6100\n",
       "Histology subtype           6100\n",
       "Genome-wide screen          6100\n",
       "Mutation ID                 6100\n",
       "Mutation CDS                6100\n",
       "Mutation AA                 6100\n",
       "Mutation Description        6100\n",
       "Mutation zygosity              0\n",
       "GRCh                        6100\n",
       "Mutation genome position    6100\n",
       "Mutation strand             6100\n",
       "SNP                         6100\n",
       "FATHMM prediction            489\n",
       "Mutation somatic status     6100\n",
       "Pubmed_PMID                    0\n",
       "ID_STUDY                    6100\n",
       "Sample source               6100\n",
       "Tumour origin               6100\n",
       "Age                         6100\n",
       "Comments                       0\n",
       "Start_Position              6100\n",
       "dtype: int64"
      ]
     },
     "execution_count": 4,
     "metadata": {},
     "output_type": "execute_result"
    }
   ],
   "source": [
    "tcga_all = pd.read_csv(open('tcga_thyroid_cosmic.csv', 'r'))\n",
    "tcga_all['Gene name'] = tcga_all['Gene name'].map(simplify)\n",
    "tcga_all['Start_Position'] = tcga_all['Mutation genome position'].map(get_loc)\n",
    "tcga_all = tcga_all[pd.notnull(tcga_all['Mutation genome position'])]\n",
    "#tcga_all = tcga_all[pd.notnull(tcga_all['Mutation zygosity'])]\n",
    "tcga_all = tcga_all[pd.notnull(tcga_all['Mutation Description'])]\n",
    "tcga_all.count()"
   ]
  },
  {
   "cell_type": "code",
   "execution_count": null,
   "metadata": {
    "collapsed": true
   },
   "outputs": [],
   "source": []
  }
 ],
 "metadata": {
  "kernelspec": {
   "display_name": "Python 2",
   "language": "python",
   "name": "python2"
  },
  "language_info": {
   "codemirror_mode": {
    "name": "ipython",
    "version": 2
   },
   "file_extension": ".py",
   "mimetype": "text/x-python",
   "name": "python",
   "nbconvert_exporter": "python",
   "pygments_lexer": "ipython2",
   "version": "2.7.5"
  }
 },
 "nbformat": 4,
 "nbformat_minor": 0
}
