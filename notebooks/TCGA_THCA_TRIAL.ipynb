{
 "cells": [
  {
   "cell_type": "code",
   "execution_count": 1,
   "metadata": {
    "collapsed": false
   },
   "outputs": [
    {
     "name": "stdout",
     "output_type": "stream",
     "text": [
      "Populating the interactive namespace from numpy and matplotlib\n"
     ]
    }
   ],
   "source": [
    "%pylab inline\n",
    "import pandas as pd\n",
    "import numpy as np\n",
    "import os\n",
    "import sklearn as sk\n",
    "from sklearn.cluster import AffinityPropagation\n",
    "from sklearn import datasets\n",
    "from sklearn import metrics\n",
    "from multiprocessing import Pool\n",
    "import pickle"
   ]
  },
  {
   "cell_type": "code",
   "execution_count": 31,
   "metadata": {
    "collapsed": false
   },
   "outputs": [],
   "source": [
    "thca = pd.read_csv('thca_maf_no_head.txt', sep='\\t')"
   ]
  },
  {
   "cell_type": "code",
   "execution_count": 37,
   "metadata": {
    "collapsed": false
   },
   "outputs": [
    {
     "name": "stdout",
     "output_type": "stream",
     "text": [
      "super weird that there are no bi-allelic mutations...\n"
     ]
    }
   ],
   "source": [
    "thca.columns\n",
    "thca[['Reference_Allele', 'Tumor_Seq_Allele1', 'Tumor_Seq_Allele2']].head(100)\n",
    "print \"super weird that there are no bi-allelic mutations...\""
   ]
  },
  {
   "cell_type": "code",
   "execution_count": 26,
   "metadata": {
    "collapsed": false
   },
   "outputs": [],
   "source": [
    "def check_bi_allelic(x):\n",
    "    if x[0] == x[1]:\n",
    "        return True\n",
    "    else:\n",
    "        return False\n",
    "thca[\"Bi_Allelic\"] = thca[['Tumor_Seq_Allele1', 'Tumor_Seq_Allele2']].apply(check_bi_allelic, axis=1)\n",
    "thca['Patient_Barcode'] = thca.Tumor_Sample_Barcode.str[:12]"
   ]
  },
  {
   "cell_type": "code",
   "execution_count": 27,
   "metadata": {
    "collapsed": false
   },
   "outputs": [],
   "source": [
    "columns = [\"Hugo_Symbol\", \"Entrez_Gene_Id\", \"Chromosome\", \"Start_position\", \"Variant_Classification\", \"Bi_Allelic\", \"Patient_Barcode\", \"Protein_Change\"]\n",
    "thca = thca[columns]"
   ]
  },
  {
   "cell_type": "code",
   "execution_count": 28,
   "metadata": {
    "collapsed": false
   },
   "outputs": [
    {
     "data": {
      "text/html": [
       "<div style=\"max-height:1000px;max-width:1500px;overflow:auto;\">\n",
       "<table border=\"1\" class=\"dataframe\">\n",
       "  <thead>\n",
       "    <tr style=\"text-align: right;\">\n",
       "      <th></th>\n",
       "      <th>Hugo_Symbol</th>\n",
       "      <th>Entrez_Gene_Id</th>\n",
       "      <th>Chromosome</th>\n",
       "      <th>Start_position</th>\n",
       "      <th>Variant_Classification</th>\n",
       "      <th>Bi_Allelic</th>\n",
       "      <th>Patient_Barcode</th>\n",
       "      <th>Protein_Change</th>\n",
       "    </tr>\n",
       "  </thead>\n",
       "  <tbody>\n",
       "    <tr>\n",
       "      <th>0</th>\n",
       "      <td>ZNF677</td>\n",
       "      <td>342926</td>\n",
       "      <td>19</td>\n",
       "      <td>53740670</td>\n",
       "      <td>Missense_Mutation</td>\n",
       "      <td>False</td>\n",
       "      <td>TCGA-CE-A27D</td>\n",
       "      <td>p.G437D</td>\n",
       "    </tr>\n",
       "    <tr>\n",
       "      <th>1</th>\n",
       "      <td>MCMBP</td>\n",
       "      <td>79892</td>\n",
       "      <td>10</td>\n",
       "      <td>121612707</td>\n",
       "      <td>Splice_Site</td>\n",
       "      <td>False</td>\n",
       "      <td>TCGA-CE-A27D</td>\n",
       "      <td>p.A144_splice</td>\n",
       "    </tr>\n",
       "    <tr>\n",
       "      <th>2</th>\n",
       "      <td>CYP2U1</td>\n",
       "      <td>113612</td>\n",
       "      <td>4</td>\n",
       "      <td>108866315</td>\n",
       "      <td>Missense_Mutation</td>\n",
       "      <td>False</td>\n",
       "      <td>TCGA-CE-A27D</td>\n",
       "      <td>p.A227V</td>\n",
       "    </tr>\n",
       "    <tr>\n",
       "      <th>3</th>\n",
       "      <td>CCDC89</td>\n",
       "      <td>220388</td>\n",
       "      <td>11</td>\n",
       "      <td>85396623</td>\n",
       "      <td>Missense_Mutation</td>\n",
       "      <td>False</td>\n",
       "      <td>TCGA-CE-A27D</td>\n",
       "      <td>p.E184G</td>\n",
       "    </tr>\n",
       "    <tr>\n",
       "      <th>4</th>\n",
       "      <td>ANKRD17</td>\n",
       "      <td>26057</td>\n",
       "      <td>4</td>\n",
       "      <td>73957562</td>\n",
       "      <td>Missense_Mutation</td>\n",
       "      <td>False</td>\n",
       "      <td>TCGA-CE-A27D</td>\n",
       "      <td>p.P1928L</td>\n",
       "    </tr>\n",
       "  </tbody>\n",
       "</table>\n",
       "</div>"
      ],
      "text/plain": [
       "  Hugo_Symbol  Entrez_Gene_Id Chromosome  Start_position  \\\n",
       "0      ZNF677          342926         19        53740670   \n",
       "1       MCMBP           79892         10       121612707   \n",
       "2      CYP2U1          113612          4       108866315   \n",
       "3      CCDC89          220388         11        85396623   \n",
       "4     ANKRD17           26057          4        73957562   \n",
       "\n",
       "  Variant_Classification Bi_Allelic Patient_Barcode Protein_Change  \n",
       "0      Missense_Mutation      False    TCGA-CE-A27D        p.G437D  \n",
       "1            Splice_Site      False    TCGA-CE-A27D  p.A144_splice  \n",
       "2      Missense_Mutation      False    TCGA-CE-A27D        p.A227V  \n",
       "3      Missense_Mutation      False    TCGA-CE-A27D        p.E184G  \n",
       "4      Missense_Mutation      False    TCGA-CE-A27D       p.P1928L  "
      ]
     },
     "execution_count": 28,
     "metadata": {},
     "output_type": "execute_result"
    }
   ],
   "source": [
    "thca.head()"
   ]
  },
  {
   "cell_type": "code",
   "execution_count": 30,
   "metadata": {
    "collapsed": false
   },
   "outputs": [
    {
     "data": {
      "text/plain": [
       "False    7458\n",
       "dtype: int64"
      ]
     },
     "execution_count": 30,
     "metadata": {},
     "output_type": "execute_result"
    }
   ],
   "source": [
    "thca.Bi_Allelic.value_counts()"
   ]
  },
  {
   "cell_type": "code",
   "execution_count": 19,
   "metadata": {
    "collapsed": false
   },
   "outputs": [
    {
     "data": {
      "text/plain": [
       "405"
      ]
     },
     "execution_count": 19,
     "metadata": {},
     "output_type": "execute_result"
    }
   ],
   "source": [
    "len(thca.Tumor_Sample_Barcode.unique())"
   ]
  },
  {
   "cell_type": "code",
   "execution_count": 40,
   "metadata": {
    "collapsed": false
   },
   "outputs": [],
   "source": [
    "def combine(x):\n",
    "    gene = x[0]\n",
    "    loc = x[1]\n",
    "    return str(gene) + \"_\" + str(loc)\n",
    "thca['SNP'] = thca[['Entrez_Gene_Id', 'Start_position']].apply(combine, axis=1)\n",
    "thca.to_csv('thca.csv')"
   ]
  },
  {
   "cell_type": "code",
   "execution_count": 41,
   "metadata": {
    "collapsed": false
   },
   "outputs": [
    {
     "data": {
      "text/html": [
       "<div style=\"max-height:1000px;max-width:1500px;overflow:auto;\">\n",
       "<table border=\"1\" class=\"dataframe\">\n",
       "  <thead>\n",
       "    <tr style=\"text-align: right;\">\n",
       "      <th></th>\n",
       "      <th>SNP</th>\n",
       "      <th>counts</th>\n",
       "    </tr>\n",
       "  </thead>\n",
       "  <tbody>\n",
       "    <tr>\n",
       "      <th>0</th>\n",
       "      <td>673_140453136</td>\n",
       "      <td>248</td>\n",
       "    </tr>\n",
       "    <tr>\n",
       "      <th>1</th>\n",
       "      <td>4893_115256529</td>\n",
       "      <td>31</td>\n",
       "    </tr>\n",
       "    <tr>\n",
       "      <th>2</th>\n",
       "      <td>3265_533874</td>\n",
       "      <td>12</td>\n",
       "    </tr>\n",
       "    <tr>\n",
       "      <th>3</th>\n",
       "      <td>4893_115256530</td>\n",
       "      <td>7</td>\n",
       "    </tr>\n",
       "    <tr>\n",
       "      <th>4</th>\n",
       "      <td>54726_146059006</td>\n",
       "      <td>6</td>\n",
       "    </tr>\n",
       "  </tbody>\n",
       "</table>\n",
       "</div>"
      ],
      "text/plain": [
       "               SNP  counts\n",
       "0    673_140453136     248\n",
       "1   4893_115256529      31\n",
       "2      3265_533874      12\n",
       "3   4893_115256530       7\n",
       "4  54726_146059006       6"
      ]
     },
     "execution_count": 41,
     "metadata": {},
     "output_type": "execute_result"
    }
   ],
   "source": [
    "muts = pd.DataFrame(thca.SNP.value_counts())\n",
    "muts = muts.reset_index()\n",
    "muts.columns = ['SNP', 'counts']\n",
    "muts.head()"
   ]
  },
  {
   "cell_type": "code",
   "execution_count": 42,
   "metadata": {
    "collapsed": false
   },
   "outputs": [
    {
     "name": "stdout",
     "output_type": "stream",
     "text": [
      "It might make more sense to just create a SNP/Protein change table and add the protein changes to the old table?\n"
     ]
    }
   ],
   "source": [
    "print \"It might make more sense to just create a SNP/Protein change table and add the protein changes to the old table?\""
   ]
  },
  {
   "cell_type": "code",
   "execution_count": 45,
   "metadata": {
    "collapsed": false
   },
   "outputs": [
    {
     "name": "stdout",
     "output_type": "stream",
     "text": [
      "SNP               7458\n",
      "Protein_Change    7372\n",
      "dtype: int64\n",
      "SNP               6755\n",
      "Protein_Change    6672\n",
      "dtype: int64\n"
     ]
    }
   ],
   "source": [
    "pc = thca[['SNP', 'Protein_Change']]\n",
    "print pc.count()\n",
    "print pc.drop_duplicates().count()"
   ]
  },
  {
   "cell_type": "code",
   "execution_count": 46,
   "metadata": {
    "collapsed": true
   },
   "outputs": [],
   "source": [
    "pc.to_csv('pc.csv')"
   ]
  },
  {
   "cell_type": "code",
   "execution_count": null,
   "metadata": {
    "collapsed": true
   },
   "outputs": [],
   "source": []
  }
 ],
 "metadata": {
  "kernelspec": {
   "display_name": "Python 2",
   "language": "python",
   "name": "python2"
  },
  "language_info": {
   "codemirror_mode": {
    "name": "ipython",
    "version": 2
   },
   "file_extension": ".py",
   "mimetype": "text/x-python",
   "name": "python",
   "nbconvert_exporter": "python",
   "pygments_lexer": "ipython2",
   "version": "2.7.5"
  }
 },
 "nbformat": 4,
 "nbformat_minor": 0
}
