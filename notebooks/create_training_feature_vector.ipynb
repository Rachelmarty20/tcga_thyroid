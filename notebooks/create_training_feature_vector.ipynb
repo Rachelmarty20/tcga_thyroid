{
 "cells": [
  {
   "cell_type": "markdown",
   "metadata": {},
   "source": [
    "#Create Training Feature Vector"
   ]
  },
  {
   "cell_type": "markdown",
   "metadata": {},
   "source": [
    "This script takes data from the cosmic database about cancer mutations and creates feature vectors on the mutations that will be used for both training and validation."
   ]
  },
  {
   "cell_type": "code",
   "execution_count": 77,
   "metadata": {
    "collapsed": false,
    "scrolled": true
   },
   "outputs": [
    {
     "name": "stdout",
     "output_type": "stream",
     "text": [
      "Populating the interactive namespace from numpy and matplotlib\n"
     ]
    }
   ],
   "source": [
    "%pylab inline\n",
    "import pandas as pd\n",
    "import numpy as np\n",
    "import os\n",
    "import sklearn as sk\n",
    "from sklearn.cluster import AffinityPropagation\n",
    "from sklearn import datasets\n",
    "from sklearn import metrics\n",
    "from multiprocessing import Pool\n",
    "import pickle"
   ]
  },
  {
   "cell_type": "markdown",
   "metadata": {},
   "source": [
    "##Import and clean up whole data set - Use COSMIC"
   ]
  },
  {
   "cell_type": "markdown",
   "metadata": {},
   "source": [
    "Helper methods."
   ]
  },
  {
   "cell_type": "code",
   "execution_count": 78,
   "metadata": {
    "collapsed": false
   },
   "outputs": [],
   "source": [
    "def simplify(x):\n",
    "    a = x.split(\"_\")\n",
    "    return a[0]\n",
    "def get_loc(x):\n",
    "    c = x.split(\":\")\n",
    "    s = c[1].split(\"-\")\n",
    "    return s[0]\n",
    "def combine(x):\n",
    "    gene = x[0]\n",
    "    loc = x[1]\n",
    "    return str(int(gene)) + \"_\" + str(loc)"
   ]
  },
  {
   "cell_type": "markdown",
   "metadata": {},
   "source": [
    "Import cosmic data (excluding tcga mutations). Perform merge to add entrez ids. This may be unnecessary?"
   ]
  },
  {
   "cell_type": "code",
   "execution_count": 79,
   "metadata": {
    "collapsed": false,
    "scrolled": true
   },
   "outputs": [],
   "source": [
    "cosmic_all = pd.read_csv(open('../raw_data/THYROIDonly_noTCGA_uniqMutationID.csv', 'r'))\n",
    "cosmic_all['Gene name'] = cosmic_all['Gene name'].map(simplify)\n",
    "cosmic_all['Start_Position'] = cosmic_all['Mutation genome position'].map(get_loc)\n",
    "#cosmic_all.head()"
   ]
  },
  {
   "cell_type": "code",
   "execution_count": 80,
   "metadata": {
    "collapsed": false
   },
   "outputs": [],
   "source": [
    "cosmic_all = cosmic_all[pd.notnull(cosmic_all['Mutation genome position'])]"
   ]
  },
  {
   "cell_type": "code",
   "execution_count": 81,
   "metadata": {
    "collapsed": false
   },
   "outputs": [],
   "source": [
    "mr = pd.read_csv('../data_frames/mr.csv', index_col=0)\n",
    "hugo_entrez = mr[['Hugo_Symbol', 'Entrez_Gene_Id']]\n",
    "hugo_entrez.columns = ['Gene name', 'Entrez_Gene_Id']\n",
    "hugo_entrez = hugo_entrez.drop_duplicates()"
   ]
  },
  {
   "cell_type": "code",
   "execution_count": 82,
   "metadata": {
    "collapsed": false
   },
   "outputs": [],
   "source": [
    "cosmic_all = pd.merge(cosmic_all, hugo_entrez, on='Gene name', how='outer')\n",
    "#cosmic_all.head()"
   ]
  },
  {
   "cell_type": "code",
   "execution_count": 83,
   "metadata": {
    "collapsed": false
   },
   "outputs": [
    {
     "data": {
      "text/plain": [
       "het    1372\n",
       "hom      87\n",
       "dtype: int64"
      ]
     },
     "execution_count": 83,
     "metadata": {},
     "output_type": "execute_result"
    }
   ],
   "source": [
    "cosmic = pd.DataFrame(cosmic_all[\"Gene name\"].value_counts())\n",
    "cosmic = cosmic.reset_index()\n",
    "cosmic.columns = ['Gene_Name', 'counts']\n",
    "cosmic.head()\n",
    "cosmic_all['Mutation zygosity'].isnull().sum()\n",
    "cosmic_all['Mutation zygosity'].value_counts()"
   ]
  },
  {
   "cell_type": "markdown",
   "metadata": {},
   "source": [
    "Create table with mutation information and cosmic mutation id. This is necessary for mapping with TCGA data."
   ]
  },
  {
   "cell_type": "code",
   "execution_count": 85,
   "metadata": {
    "collapsed": true
   },
   "outputs": [],
   "source": [
    "cosmic_raw = pd.read_csv('../data_frames/cosmic_raw_mut_id.csv', index_col=0)\n",
    "cosmic_raw.columns = [\"Mutation ID\", \"Gene name\", \"Location\"]"
   ]
  },
  {
   "cell_type": "code",
   "execution_count": 86,
   "metadata": {
    "collapsed": false
   },
   "outputs": [
    {
     "data": {
      "text/html": [
       "<div style=\"max-height:1000px;max-width:1500px;overflow:auto;\">\n",
       "<table border=\"1\" class=\"dataframe\">\n",
       "  <thead>\n",
       "    <tr style=\"text-align: right;\">\n",
       "      <th></th>\n",
       "      <th>Mutation ID</th>\n",
       "      <th>Gene name</th>\n",
       "      <th>Location</th>\n",
       "      <th>Entrez_Gene_Id</th>\n",
       "    </tr>\n",
       "  </thead>\n",
       "  <tbody>\n",
       "    <tr>\n",
       "      <th>0</th>\n",
       "      <td>  COSM318402</td>\n",
       "      <td> A1CF</td>\n",
       "      <td> 52566499</td>\n",
       "      <td> 29974</td>\n",
       "    </tr>\n",
       "    <tr>\n",
       "      <th>1</th>\n",
       "      <td> COSM1702376</td>\n",
       "      <td> A1CF</td>\n",
       "      <td> 52566505</td>\n",
       "      <td> 29974</td>\n",
       "    </tr>\n",
       "    <tr>\n",
       "      <th>2</th>\n",
       "      <td>  COSM191228</td>\n",
       "      <td> A1CF</td>\n",
       "      <td> 52566514</td>\n",
       "      <td> 29974</td>\n",
       "    </tr>\n",
       "    <tr>\n",
       "      <th>3</th>\n",
       "      <td>  COSM191228</td>\n",
       "      <td> A1CF</td>\n",
       "      <td> 52566514</td>\n",
       "      <td> 29974</td>\n",
       "    </tr>\n",
       "    <tr>\n",
       "      <th>4</th>\n",
       "      <td>  COSM918820</td>\n",
       "      <td> A1CF</td>\n",
       "      <td> 52566549</td>\n",
       "      <td> 29974</td>\n",
       "    </tr>\n",
       "  </tbody>\n",
       "</table>\n",
       "</div>"
      ],
      "text/plain": [
       "   Mutation ID Gene name  Location  Entrez_Gene_Id\n",
       "0   COSM318402      A1CF  52566499           29974\n",
       "1  COSM1702376      A1CF  52566505           29974\n",
       "2   COSM191228      A1CF  52566514           29974\n",
       "3   COSM191228      A1CF  52566514           29974\n",
       "4   COSM918820      A1CF  52566549           29974"
      ]
     },
     "execution_count": 86,
     "metadata": {},
     "output_type": "execute_result"
    }
   ],
   "source": [
    "# add entrez_id, create snp\n",
    "cosmic_raw = pd.merge(cosmic_raw, hugo_entrez, on='Gene name', how='inner')\n",
    "cosmic_raw.head()"
   ]
  },
  {
   "cell_type": "markdown",
   "metadata": {},
   "source": [
    "SNP2 is the cosmic reference version?"
   ]
  },
  {
   "cell_type": "code",
   "execution_count": 87,
   "metadata": {
    "collapsed": false
   },
   "outputs": [],
   "source": [
    "cosmic_raw['SNP2'] = cosmic_raw[['Entrez_Gene_Id', 'Location']].apply(combine, axis=1)"
   ]
  },
  {
   "cell_type": "code",
   "execution_count": 88,
   "metadata": {
    "collapsed": false
   },
   "outputs": [],
   "source": [
    "cosmic_raw = cosmic_raw[['Mutation ID', 'SNP2']]\n",
    "cosmic_raw.to_csv('../data_frames/mut_id.csv')"
   ]
  },
  {
   "cell_type": "markdown",
   "metadata": {},
   "source": [
    "##Using Cosmic Mutation Ids to Map between TCGA and Cosmic data"
   ]
  },
  {
   "cell_type": "code",
   "execution_count": 89,
   "metadata": {
    "collapsed": true
   },
   "outputs": [],
   "source": [
    "with open('../raw_data/thyr.uniq_cancer_SNPs.abrvCosmic.csv', 'r') as cosmic:\n",
    "    cancer = pd.read_csv(cosmic, sep=',')\n",
    "cancer['Gene name'] = cancer['Gene name'].map(simplify)\n",
    "cancer['Start_Position'] = cancer['Mutation genome position'].map(get_loc)\n",
    "cancer = pd.merge(cancer, hugo_entrez, on='Gene name', how='outer')\n",
    "cancer = cancer[pd.notnull(cancer['Entrez_Gene_Id'])]\n",
    "cancer['SNP'] = cancer[['Entrez_Gene_Id', 'Start_Position']].apply(combine, axis=1)\n",
    "cancer = cancer.drop_duplicates()"
   ]
  },
  {
   "cell_type": "code",
   "execution_count": 90,
   "metadata": {
    "collapsed": false
   },
   "outputs": [],
   "source": [
    "with open('../raw_data/thyr.uniq_neutral_SNPs.abrvCosmic.csv', 'r') as cosmic:\n",
    "    neutral = pd.read_csv(cosmic, sep=',')\n",
    "neutral['Gene name'] = neutral['Gene name'].map(simplify)\n",
    "neutral['Start_Position'] = neutral['Mutation genome position'].map(get_loc)\n",
    "neutral = pd.merge(neutral, hugo_entrez, on='Gene name', how='outer')\n",
    "neutral = neutral[pd.notnull(neutral['Entrez_Gene_Id'])]\n",
    "neutral['SNP'] = neutral[['Entrez_Gene_Id', 'Start_Position']].apply(combine, axis=1)\n",
    "# total of 826 neutral genes\n",
    "neutral_df = pd.DataFrame(neutral['SNP'].value_counts()) #where you would add constraints\n",
    "neutral_df.reset_index(level=0, inplace=True)\n",
    "neutral_to_be_used = list(neutral_df['index'])\n",
    "neutral = neutral[neutral['SNP'].isin(neutral_to_be_used)]"
   ]
  },
  {
   "cell_type": "code",
   "execution_count": 91,
   "metadata": {
    "collapsed": false
   },
   "outputs": [],
   "source": [
    "mut_id = pd.read_csv('../data_frames/mut_id.csv', index_col=0)"
   ]
  },
  {
   "cell_type": "code",
   "execution_count": 92,
   "metadata": {
    "collapsed": false,
    "scrolled": true
   },
   "outputs": [],
   "source": [
    "cancer = pd.merge(cancer, mut_id, on=\"Mutation ID\", how=\"inner\")"
   ]
  },
  {
   "cell_type": "code",
   "execution_count": 93,
   "metadata": {
    "collapsed": false
   },
   "outputs": [],
   "source": [
    "neutral = pd.merge(neutral, mut_id, on=\"Mutation ID\", how=\"inner\")"
   ]
  },
  {
   "cell_type": "code",
   "execution_count": 94,
   "metadata": {
    "collapsed": false
   },
   "outputs": [
    {
     "name": "stdout",
     "output_type": "stream",
     "text": [
      "259\n",
      "889\n",
      "['673_140453136' '673_140453134' '673_140453142' '673_140481403'\n",
      " '673_140453143' '673_140453157' '5290_178936107' '5290_178936082'\n",
      " '5290_178952090' '5290_178952085']\n"
     ]
    }
   ],
   "source": [
    "cancer_genes = cancer['SNP2'].unique()\n",
    "print len(cancer_genes)\n",
    "neutral_genes = neutral['SNP2'].unique()\n",
    "print len(neutral_genes)\n",
    "print cancer_genes[:10]"
   ]
  },
  {
   "cell_type": "code",
   "execution_count": 95,
   "metadata": {
    "collapsed": false,
    "scrolled": true
   },
   "outputs": [
    {
     "data": {
      "text/html": [
       "<div style=\"max-height:1000px;max-width:1500px;overflow:auto;\">\n",
       "<table border=\"1\" class=\"dataframe\">\n",
       "  <thead>\n",
       "    <tr style=\"text-align: right;\">\n",
       "      <th></th>\n",
       "      <th>SNP</th>\n",
       "      <th>counts</th>\n",
       "      <th>Perc_Bi_Allelic</th>\n",
       "      <th>Density</th>\n",
       "    </tr>\n",
       "  </thead>\n",
       "  <tbody>\n",
       "    <tr>\n",
       "      <th>0  </th>\n",
       "      <td> 673_140453136</td>\n",
       "      <td> 480</td>\n",
       "      <td> 0.508333</td>\n",
       "      <td> 1298.9</td>\n",
       "    </tr>\n",
       "    <tr>\n",
       "      <th>248</th>\n",
       "      <td> 673_140453135</td>\n",
       "      <td>   3</td>\n",
       "      <td> 0.333333</td>\n",
       "      <td> 1298.9</td>\n",
       "    </tr>\n",
       "    <tr>\n",
       "      <th>249</th>\n",
       "      <td> 673_140477840</td>\n",
       "      <td>   2</td>\n",
       "      <td> 0.500000</td>\n",
       "      <td> 1298.9</td>\n",
       "    </tr>\n",
       "    <tr>\n",
       "      <th>250</th>\n",
       "      <td> 673_140453193</td>\n",
       "      <td>   2</td>\n",
       "      <td> 0.500000</td>\n",
       "      <td> 1298.9</td>\n",
       "    </tr>\n",
       "    <tr>\n",
       "      <th>251</th>\n",
       "      <td> 673_140477827</td>\n",
       "      <td>   2</td>\n",
       "      <td> 0.500000</td>\n",
       "      <td> 1298.9</td>\n",
       "    </tr>\n",
       "  </tbody>\n",
       "</table>\n",
       "</div>"
      ],
      "text/plain": [
       "               SNP  counts  Perc_Bi_Allelic  Density\n",
       "0    673_140453136     480         0.508333   1298.9\n",
       "248  673_140453135       3         0.333333   1298.9\n",
       "249  673_140477840       2         0.500000   1298.9\n",
       "250  673_140453193       2         0.500000   1298.9\n",
       "251  673_140477827       2         0.500000   1298.9"
      ]
     },
     "execution_count": 95,
     "metadata": {},
     "output_type": "execute_result"
    }
   ],
   "source": [
    "tcga_feature_vector.head()"
   ]
  },
  {
   "cell_type": "code",
   "execution_count": 96,
   "metadata": {
    "collapsed": false
   },
   "outputs": [],
   "source": [
    "all_genes = tcga_feature_vector.SNP.unique()\n",
    "cancer_set = [gene for gene in all_genes if gene in cancer_genes]\n",
    "neutral_set = [gene for gene in all_genes if gene in neutral_genes]"
   ]
  },
  {
   "cell_type": "code",
   "execution_count": 97,
   "metadata": {
    "collapsed": false
   },
   "outputs": [
    {
     "name": "stdout",
     "output_type": "stream",
     "text": [
      "['673_140453136', '673_140453134', '4893_115256529', '4893_115256530', '3265_533874', '3265_533875', '3845_25380277', '3845_25380276', '3845_25398284', '3845_25398228', '207_105246551', '5290_178952074', '5728_89692941', '23405_95557629']\n",
      "['2312_152283862', '285464_1388508', '285464_1388757', '996_45219311', '85301_116931099', '4261_11000848', '113146_105411781', '113146_105406238', '113146_105411700', '113146_105418344', '113146_105418391', '143_25021323', '388646_89599084', '5545_11461549', '58508_151970877', '128372_158735740', '1114_5903067', '3566_27374180', '10395_12957475', '84951_38645125', '393046_143748257', '100132386_39261693', '2074_50667105', '284348_44302624', '23177_65296798', '4666_57111948', '119180_30918549', '3683_30518041', '135114_126278230', '3911_60899206', '9611_16068463', '176_89415247', '114770_15587185', '84432_110998854', '1816_9784542', '93035_110455184', '343169_247875415', '9790_43318589', '653247_11546314', '219417_56143125', '219417_56143592', '675_32906729', '284018_65988049', '4588_1027811', '4125_12772090', '345193_110790911', '284443_21607526', '3105_29911296', '3105_29911306', '4135_75378674', '2327_171168584', '65268_96021312', '7455_100350474', '161176_95906321', '26140_9871030', '1118_203186947', '5190_42932200', '10948_37814080', '3123_32557449', '3802_55281315', '79698_40438757', '339184_20768763', '4585_195513173', '85481_87076520', '3115_33048599', '5542_11506211', '58189_84351893', '55876_38062217', '7177_1291160', '6289_18267478', '23572_186276229', '23572_186276661', '56140_140222641', '643905_240982173', '643905_240982131', '643905_240982129', '3064_3234980', '57707_84522897', '26047_147183121', '364_33385690', '364_33386510', '364_33385852', '89858_52004743', '341567_48723324', '9058_26824156', '23430_1306973', '145748_100269749', '23325_105521009', '23386_44444122', '6699_153004853', '340745_85981801', '400713_52888049', '9394_129025860', '79573_231114465', '56673_8942942', '57693_9267319', '23630_108868163', '3889_52710721', '6570_20036827', '728224_39254054', '55118_99625319', '115265_101108877', '10241_46926615', '83858_1431165', '653240_39274364', '8174_501738', '765_9009444', '2569_89926962', '84272_32515694', '348303_40009396', '66000_133098806', '374454_53091566', '27242_47200703']\n"
     ]
    }
   ],
   "source": [
    "print cancer_set\n",
    "print neutral_set"
   ]
  },
  {
   "cell_type": "markdown",
   "metadata": {},
   "source": [
    "##Complete feature vectors"
   ]
  },
  {
   "cell_type": "code",
   "execution_count": 98,
   "metadata": {
    "collapsed": true
   },
   "outputs": [],
   "source": [
    "tcga_feature_vector = pd.read_csv('../data_frames/tcga_feature_vector.csv', index_col=0)"
   ]
  },
  {
   "cell_type": "code",
   "execution_count": 99,
   "metadata": {
    "collapsed": false
   },
   "outputs": [
    {
     "data": {
      "text/html": [
       "<div style=\"max-height:1000px;max-width:1500px;overflow:auto;\">\n",
       "<table border=\"1\" class=\"dataframe\">\n",
       "  <thead>\n",
       "    <tr style=\"text-align: right;\">\n",
       "      <th></th>\n",
       "      <th>SNP</th>\n",
       "      <th>counts</th>\n",
       "      <th>Perc_Bi_Allelic</th>\n",
       "      <th>Density</th>\n",
       "    </tr>\n",
       "  </thead>\n",
       "  <tbody>\n",
       "    <tr>\n",
       "      <th>0  </th>\n",
       "      <td> 673_140453136</td>\n",
       "      <td> 480</td>\n",
       "      <td> 0.508333</td>\n",
       "      <td> 1298.9</td>\n",
       "    </tr>\n",
       "    <tr>\n",
       "      <th>248</th>\n",
       "      <td> 673_140453135</td>\n",
       "      <td>   3</td>\n",
       "      <td> 0.333333</td>\n",
       "      <td> 1298.9</td>\n",
       "    </tr>\n",
       "    <tr>\n",
       "      <th>249</th>\n",
       "      <td> 673_140477840</td>\n",
       "      <td>   2</td>\n",
       "      <td> 0.500000</td>\n",
       "      <td> 1298.9</td>\n",
       "    </tr>\n",
       "    <tr>\n",
       "      <th>250</th>\n",
       "      <td> 673_140453193</td>\n",
       "      <td>   2</td>\n",
       "      <td> 0.500000</td>\n",
       "      <td> 1298.9</td>\n",
       "    </tr>\n",
       "    <tr>\n",
       "      <th>251</th>\n",
       "      <td> 673_140477827</td>\n",
       "      <td>   2</td>\n",
       "      <td> 0.500000</td>\n",
       "      <td> 1298.9</td>\n",
       "    </tr>\n",
       "  </tbody>\n",
       "</table>\n",
       "</div>"
      ],
      "text/plain": [
       "               SNP  counts  Perc_Bi_Allelic  Density\n",
       "0    673_140453136     480         0.508333   1298.9\n",
       "248  673_140453135       3         0.333333   1298.9\n",
       "249  673_140477840       2         0.500000   1298.9\n",
       "250  673_140453193       2         0.500000   1298.9\n",
       "251  673_140477827       2         0.500000   1298.9"
      ]
     },
     "execution_count": 99,
     "metadata": {},
     "output_type": "execute_result"
    }
   ],
   "source": [
    "tcga_feature_vector.head()"
   ]
  },
  {
   "cell_type": "code",
   "execution_count": 100,
   "metadata": {
    "collapsed": false
   },
   "outputs": [],
   "source": [
    "cancer_feature_vector = tcga_feature_vector[tcga_feature_vector[\"SNP\"].isin(cancer_set)]\n",
    "neutral_feature_vector = tcga_feature_vector[tcga_feature_vector[\"SNP\"].isin(neutral_set)]"
   ]
  },
  {
   "cell_type": "code",
   "execution_count": 101,
   "metadata": {
    "collapsed": false,
    "scrolled": false
   },
   "outputs": [
    {
     "name": "stdout",
     "output_type": "stream",
     "text": [
      "SNP                14\n",
      "counts             14\n",
      "Perc_Bi_Allelic    14\n",
      "Density            14\n",
      "dtype: int64\n",
      "SNP                113\n",
      "counts             113\n",
      "Perc_Bi_Allelic    113\n",
      "Density             45\n",
      "dtype: int64\n"
     ]
    },
    {
     "data": {
      "text/html": [
       "<div style=\"max-height:1000px;max-width:1500px;overflow:auto;\">\n",
       "<table border=\"1\" class=\"dataframe\">\n",
       "  <thead>\n",
       "    <tr style=\"text-align: right;\">\n",
       "      <th></th>\n",
       "      <th>SNP</th>\n",
       "      <th>counts</th>\n",
       "      <th>Perc_Bi_Allelic</th>\n",
       "      <th>Density</th>\n",
       "    </tr>\n",
       "  </thead>\n",
       "  <tbody>\n",
       "    <tr>\n",
       "      <th>0  </th>\n",
       "      <td>  673_140453136</td>\n",
       "      <td> 480</td>\n",
       "      <td> 0.508333</td>\n",
       "      <td> 1298.9</td>\n",
       "    </tr>\n",
       "    <tr>\n",
       "      <th>252</th>\n",
       "      <td>  673_140453134</td>\n",
       "      <td>   2</td>\n",
       "      <td> 0.500000</td>\n",
       "      <td> 1298.9</td>\n",
       "    </tr>\n",
       "    <tr>\n",
       "      <th>259</th>\n",
       "      <td> 4893_115256529</td>\n",
       "      <td>  54</td>\n",
       "      <td> 0.500000</td>\n",
       "      <td> 1736.6</td>\n",
       "    </tr>\n",
       "    <tr>\n",
       "      <th>290</th>\n",
       "      <td> 4893_115256530</td>\n",
       "      <td>  14</td>\n",
       "      <td> 0.500000</td>\n",
       "      <td> 1736.6</td>\n",
       "    </tr>\n",
       "    <tr>\n",
       "      <th>297</th>\n",
       "      <td>    3265_533874</td>\n",
       "      <td>  24</td>\n",
       "      <td> 0.541667</td>\n",
       "      <td> 1824.5</td>\n",
       "    </tr>\n",
       "  </tbody>\n",
       "</table>\n",
       "</div>"
      ],
      "text/plain": [
       "                SNP  counts  Perc_Bi_Allelic  Density\n",
       "0     673_140453136     480         0.508333   1298.9\n",
       "252   673_140453134       2         0.500000   1298.9\n",
       "259  4893_115256529      54         0.500000   1736.6\n",
       "290  4893_115256530      14         0.500000   1736.6\n",
       "297     3265_533874      24         0.541667   1824.5"
      ]
     },
     "execution_count": 101,
     "metadata": {},
     "output_type": "execute_result"
    }
   ],
   "source": [
    "print cancer_feature_vector.count()\n",
    "print neutral_feature_vector.count()\n",
    "cancer_feature_vector.head()"
   ]
  },
  {
   "cell_type": "code",
   "execution_count": 102,
   "metadata": {
    "collapsed": false
   },
   "outputs": [],
   "source": [
    "# restrict the cancer and neutral feature vectors\n",
    "cancer_feature_vector = cancer_feature_vector[['SNP', 'counts', 'Perc_Bi_Allelic', 'Density']]\n",
    "neutral_feature_vector = neutral_feature_vector[['SNP', 'counts', 'Perc_Bi_Allelic', 'Density']]"
   ]
  },
  {
   "cell_type": "code",
   "execution_count": 103,
   "metadata": {
    "collapsed": true
   },
   "outputs": [],
   "source": [
    "cancer_feature_vector.to_csv('../data_frames/cancer_feature_vector_tcga.csv')\n",
    "neutral_feature_vector.to_csv('../data_frames/neutral_feature_vector_tcga.csv')"
   ]
  },
  {
   "cell_type": "code",
   "execution_count": 106,
   "metadata": {
    "collapsed": true
   },
   "outputs": [],
   "source": [
    "cancer_feature_vector[10:14].to_csv('../data_frames/cancer_feature_vector_tcga_validation.csv')\n",
    "neutral_feature_vector[10:103].to_csv('../data_frames/neutral_feature_vector_tcga_validation.csv')"
   ]
  },
  {
   "cell_type": "code",
   "execution_count": 107,
   "metadata": {
    "collapsed": false
   },
   "outputs": [],
   "source": [
    "cancer_feature_vector[:10].to_csv('../data_frames/cancer_feature_vector_tcga_training.csv')\n",
    "neutral_feature_vector[:10].to_csv('../data_frames/neutral_feature_vector_tcga_training.csv')"
   ]
  },
  {
   "cell_type": "code",
   "execution_count": null,
   "metadata": {
    "collapsed": true
   },
   "outputs": [],
   "source": []
  }
 ],
 "metadata": {
  "kernelspec": {
   "display_name": "Python 2",
   "language": "python",
   "name": "python2"
  },
  "language_info": {
   "codemirror_mode": {
    "name": "ipython",
    "version": 2
   },
   "file_extension": ".py",
   "mimetype": "text/x-python",
   "name": "python",
   "nbconvert_exporter": "python",
   "pygments_lexer": "ipython2",
   "version": "2.7.7"
  }
 },
 "nbformat": 4,
 "nbformat_minor": 0
}
