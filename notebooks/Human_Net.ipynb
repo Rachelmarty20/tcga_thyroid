{
 "cells": [
  {
   "cell_type": "code",
   "execution_count": 1,
   "metadata": {
    "collapsed": false
   },
   "outputs": [
    {
     "name": "stdout",
     "output_type": "stream",
     "text": [
      "Populating the interactive namespace from numpy and matplotlib\n"
     ]
    }
   ],
   "source": [
    "%pylab inline\n",
    "import pandas as pd\n",
    "import numpy as np\n",
    "import os\n",
    "import sklearn as sk\n",
    "from sklearn.cluster import AffinityPropagation\n",
    "from sklearn import datasets\n",
    "from sklearn import metrics\n",
    "from multiprocessing import Pool\n",
    "import pickle"
   ]
  },
  {
   "cell_type": "markdown",
   "metadata": {},
   "source": [
    "### Getting Gene Interactions from HumanNet"
   ]
  },
  {
   "cell_type": "code",
   "execution_count": null,
   "metadata": {
    "collapsed": true
   },
   "outputs": [],
   "source": [
    "edges = {}\n",
    "keys = []\n",
    "with open('HumanNet.v1.join.txt', 'r') as human_net:\n",
    "    for line in human_net:\n",
    "        c = [x for x in line.strip().split(\"\\t\")]\n",
    "        one = int(c[0])\n",
    "        two = int(c[1])\n",
    "        if one in keys:\n",
    "            edges[one].append(two)\n",
    "        else:\n",
    "            edges[one] = [two]\n",
    "            keys.append(one)\n",
    "        if two in keys:\n",
    "            edges[two].append(one)\n",
    "        else:\n",
    "            edges[two] = [one]\n",
    "            keys.append(two)"
   ]
  },
  {
   "cell_type": "code",
   "execution_count": 2,
   "metadata": {
    "collapsed": false
   },
   "outputs": [
    {
     "ename": "NameError",
     "evalue": "name 'edges' is not defined",
     "output_type": "error",
     "traceback": [
      "\u001b[1;31m---------------------------------------------------------------------------\u001b[0m",
      "\u001b[1;31mNameError\u001b[0m                                 Traceback (most recent call last)",
      "\u001b[1;32m<ipython-input-2-3a9232825011>\u001b[0m in \u001b[0;36m<module>\u001b[1;34m()\u001b[0m\n\u001b[1;32m----> 1\u001b[1;33m \u001b[0mpickle\u001b[0m\u001b[1;33m.\u001b[0m\u001b[0mdump\u001b[0m\u001b[1;33m(\u001b[0m\u001b[0medges\u001b[0m\u001b[1;33m,\u001b[0m \u001b[0mopen\u001b[0m\u001b[1;33m(\u001b[0m\u001b[1;34m\"edges.p\"\u001b[0m\u001b[1;33m,\u001b[0m \u001b[1;34m'wb'\u001b[0m\u001b[1;33m)\u001b[0m\u001b[1;33m)\u001b[0m\u001b[1;33m\u001b[0m\u001b[0m\n\u001b[0m",
      "\u001b[1;31mNameError\u001b[0m: name 'edges' is not defined"
     ]
    }
   ],
   "source": [
    "pickle.dump(edges, open(\"edges.p\", 'wb'))"
   ]
  },
  {
   "cell_type": "markdown",
   "metadata": {},
   "source": [
    "Messing around to better understand the properties of HumanNet"
   ]
  },
  {
   "cell_type": "code",
   "execution_count": 8,
   "metadata": {
    "collapsed": false
   },
   "outputs": [
    {
     "data": {
      "text/plain": [
       "<matplotlib.text.Text at 0x7baa290>"
      ]
     },
     "execution_count": 8,
     "metadata": {},
     "output_type": "execute_result"
    },
    {
     "data": {
      "image/png": "[encoded data removed]",
      "text/plain": [
       "<matplotlib.figure.Figure at 0x7c9bfd0>"
      ]
     },
     "metadata": {},
     "output_type": "display_data"
    }
   ],
   "source": [
    "connect = []\n",
    "keys = edges.keys()\n",
    "for key in keys:\n",
    "    connect.append(len(edges[key]))\n",
    "connections = {\"Gene_id\": pd.Series(keys),\n",
    "               \"Number_of_Connections\": pd.Series(connect)}\n",
    "connectionsdf = pd.DataFrame(connections)\n",
    "ax = connectionsdf['Number_of_Connections'].hist(bins=100)\n",
    "ax.set_xlabel(\"Number of Connections\")\n",
    "ax.set_ylabel(\"Number of Genes\")"
   ]
  },
  {
   "cell_type": "code",
   "execution_count": 4,
   "metadata": {
    "collapsed": false
   },
   "outputs": [
    {
     "name": "stdout",
     "output_type": "stream",
     "text": [
      "16243\n"
     ]
    }
   ],
   "source": [
    "print len(edges.keys())"
   ]
  },
  {
   "cell_type": "code",
   "execution_count": 5,
   "metadata": {
    "collapsed": false
   },
   "outputs": [
    {
     "ename": "NameError",
     "evalue": "name 'connectionsdf' is not defined",
     "output_type": "error",
     "traceback": [
      "\u001b[1;31m---------------------------------------------------------------------------\u001b[0m",
      "\u001b[1;31mNameError\u001b[0m                                 Traceback (most recent call last)",
      "\u001b[1;32m<ipython-input-5-ffab46540f8c>\u001b[0m in \u001b[0;36m<module>\u001b[1;34m()\u001b[0m\n\u001b[1;32m----> 1\u001b[1;33m \u001b[0mconnectionsdf\u001b[0m\u001b[1;33m.\u001b[0m\u001b[0mtail\u001b[0m\u001b[1;33m(\u001b[0m\u001b[1;33m)\u001b[0m\u001b[1;33m\u001b[0m\u001b[0m\n\u001b[0m\u001b[0;32m      2\u001b[0m \u001b[0mconnectionsdf\u001b[0m\u001b[1;33m[\u001b[0m\u001b[0mconnectionsdf\u001b[0m\u001b[1;33m[\u001b[0m\u001b[1;34m'Gene_id'\u001b[0m\u001b[1;33m]\u001b[0m \u001b[1;33m==\u001b[0m \u001b[1;36m5116\u001b[0m\u001b[1;33m]\u001b[0m\u001b[1;33m\u001b[0m\u001b[0m\n",
      "\u001b[1;31mNameError\u001b[0m: name 'connectionsdf' is not defined"
     ]
    }
   ],
   "source": [
    "connectionsdf.tail()\n",
    "connectionsdf[connectionsdf['Gene_id'] == 5116]"
   ]
  },
  {
   "cell_type": "code",
   "execution_count": 8,
   "metadata": {
    "collapsed": false
   },
   "outputs": [
    {
     "data": {
      "text/plain": [
       "Gene_id                  16243\n",
       "Number_of_Connections    16243\n",
       "dtype: int64"
      ]
     },
     "execution_count": 8,
     "metadata": {},
     "output_type": "execute_result"
    }
   ],
   "source": [
    "connectionsdf.count()"
   ]
  },
  {
   "cell_type": "code",
   "execution_count": 9,
   "metadata": {
    "collapsed": false
   },
   "outputs": [
    {
     "data": {
      "text/html": [
       "<div style=\"max-height:1000px;max-width:1500px;overflow:auto;\">\n",
       "<table border=\"1\" class=\"dataframe\">\n",
       "  <thead>\n",
       "    <tr style=\"text-align: right;\">\n",
       "      <th></th>\n",
       "      <th>Gene_id</th>\n",
       "      <th>Number_of_Connections</th>\n",
       "    </tr>\n",
       "  </thead>\n",
       "  <tbody>\n",
       "    <tr>\n",
       "      <th>3335</th>\n",
       "      <td>4893</td>\n",
       "      <td>448</td>\n",
       "    </tr>\n",
       "  </tbody>\n",
       "</table>\n",
       "</div>"
      ],
      "text/plain": [
       "      Gene_id  Number_of_Connections\n",
       "3335     4893                    448"
      ]
     },
     "execution_count": 9,
     "metadata": {},
     "output_type": "execute_result"
    }
   ],
   "source": [
    "connectionsdf[connectionsdf['Gene_id'] == 4893]"
   ]
  },
  {
   "cell_type": "code",
   "execution_count": 10,
   "metadata": {
    "collapsed": true
   },
   "outputs": [],
   "source": [
    "def find_distance(graph, start_node, end_node):\n",
    "    nodes = graph.keys()\n",
    "    discovered = [0 for x in range(len(graph.keys()))]\n",
    "    distance = [0 for x in range(len(graph.keys()))]\n",
    "    queue = [start_node]\n",
    "    discovered[nodes.index(start_node)] = 1\n",
    "    while queue is not empty:\n",
    "        curr = queue.pop(0)\n",
    "        # check if item is end node, if yes then break\n",
    "        if curr == end_node:\n",
    "            print \"SUCCESS\", distance[nodes.index(curr)]\n",
    "            return distance[nodes.index(curr)]\n",
    "        # otherwise \n",
    "        else:\n",
    "            for neighbor in graph[curr]:\n",
    "                if discovered[nodes.index(neighbor)] == 0:\n",
    "                    distance[nodes.index(neighbor)] = distance[nodes.index(curr)] + 1\n",
    "                    queue.extend(graph[neighbor])\n",
    "                    discovered[nodes.index(neighbor)] = 1"
   ]
  },
  {
   "cell_type": "code",
   "execution_count": 3,
   "metadata": {
    "collapsed": true
   },
   "outputs": [],
   "source": [
    "edges = pickle.load(open(\"edges.p\", 'rb'))"
   ]
  },
  {
   "cell_type": "code",
   "execution_count": null,
   "metadata": {
    "collapsed": true
   },
   "outputs": [],
   "source": []
  }
 ],
 "metadata": {
  "kernelspec": {
   "display_name": "Python 2",
   "language": "python",
   "name": "python2"
  },
  "language_info": {
   "codemirror_mode": {
    "name": "ipython",
    "version": 2
   },
   "file_extension": ".py",
   "mimetype": "text/x-python",
   "name": "python",
   "nbconvert_exporter": "python",
   "pygments_lexer": "ipython2",
   "version": "2.7.5"
  }
 },
 "nbformat": 4,
 "nbformat_minor": 0
}
