{
 "cells": [
  {
   "cell_type": "code",
   "execution_count": 1,
   "metadata": {
    "collapsed": false,
    "scrolled": true
   },
   "outputs": [
    {
     "name": "stdout",
     "output_type": "stream",
     "text": [
      "Populating the interactive namespace from numpy and matplotlib\n"
     ]
    }
   ],
   "source": [
    "%pylab inline\n",
    "import pandas as pd\n",
    "import numpy as np\n",
    "import os\n",
    "import sklearn as sk\n",
    "from sklearn.cluster import AffinityPropagation\n",
    "from sklearn import datasets\n",
    "from sklearn import metrics\n",
    "from multiprocessing import Pool\n",
    "import pickle"
   ]
  },
  {
   "cell_type": "code",
   "execution_count": 3,
   "metadata": {
    "collapsed": true
   },
   "outputs": [],
   "source": [
    "mr = pd.read_csv('mr.csv', index_col=0)\n",
    "edges = pickle.load(open(\"edges.p\", 'rb'))"
   ]
  },
  {
   "cell_type": "code",
   "execution_count": 4,
   "metadata": {
    "collapsed": false
   },
   "outputs": [
    {
     "name": "stdout",
     "output_type": "stream",
     "text": [
      "Index([u'Hugo_Symbol', u'Entrez_Gene_Id', u'Patient_Barcode',\n",
      "       u'Variant_Classification', u'Both_Alleles', u'Start_Position', u'SNP'],\n",
      "      dtype='object')\n"
     ]
    },
    {
     "data": {
      "text/plain": [
       "Missense_Mutation         15831\n",
       "Silent                     9067\n",
       "RNA                         821\n",
       "Splice_Site                 500\n",
       "Frame_Shift_Del             404\n",
       "Nonsense_Mutation           274\n",
       "Frame_Shift_Ins              97\n",
       "In_Frame_Del                 88\n",
       "Translation_Start_Site       21\n",
       "In_Frame_Ins                  8\n",
       "Nonstop_Mutation              5\n",
       "dtype: int64"
      ]
     },
     "execution_count": 4,
     "metadata": {},
     "output_type": "execute_result"
    }
   ],
   "source": [
    "mr.head()\n",
    "print mr.columns\n",
    "mr.Variant_Classification.value_counts()"
   ]
  },
  {
   "cell_type": "code",
   "execution_count": 5,
   "metadata": {
    "collapsed": false
   },
   "outputs": [],
   "source": [
    "def combine(x):\n",
    "    gene = x[0]\n",
    "    loc = x[1]\n",
    "    return str(gene) + \"_\" + str(loc)"
   ]
  },
  {
   "cell_type": "code",
   "execution_count": 6,
   "metadata": {
    "collapsed": false
   },
   "outputs": [],
   "source": [
    "mr['SNP'] = mr[['Entrez_Gene_Id', 'Start_Position']].apply(combine, axis=1)\n",
    "mr.to_csv('mr.csv')"
   ]
  },
  {
   "cell_type": "code",
   "execution_count": 7,
   "metadata": {
    "collapsed": false
   },
   "outputs": [
    {
     "data": {
      "text/html": [
       "<div style=\"max-height:1000px;max-width:1500px;overflow:auto;\">\n",
       "<table border=\"1\" class=\"dataframe\">\n",
       "  <thead>\n",
       "    <tr style=\"text-align: right;\">\n",
       "      <th></th>\n",
       "      <th>SNP</th>\n",
       "      <th>counts</th>\n",
       "    </tr>\n",
       "  </thead>\n",
       "  <tbody>\n",
       "    <tr>\n",
       "      <th>0</th>\n",
       "      <td>673_140453136</td>\n",
       "      <td>480</td>\n",
       "    </tr>\n",
       "    <tr>\n",
       "      <th>1</th>\n",
       "      <td>4893_115256529</td>\n",
       "      <td>54</td>\n",
       "    </tr>\n",
       "    <tr>\n",
       "      <th>2</th>\n",
       "      <td>3265_533874</td>\n",
       "      <td>24</td>\n",
       "    </tr>\n",
       "    <tr>\n",
       "      <th>3</th>\n",
       "      <td>2312_152280782</td>\n",
       "      <td>17</td>\n",
       "    </tr>\n",
       "    <tr>\n",
       "      <th>4</th>\n",
       "      <td>4893_115256530</td>\n",
       "      <td>14</td>\n",
       "    </tr>\n",
       "  </tbody>\n",
       "</table>\n",
       "</div>"
      ],
      "text/plain": [
       "              SNP  counts\n",
       "0   673_140453136     480\n",
       "1  4893_115256529      54\n",
       "2     3265_533874      24\n",
       "3  2312_152280782      17\n",
       "4  4893_115256530      14"
      ]
     },
     "execution_count": 7,
     "metadata": {},
     "output_type": "execute_result"
    }
   ],
   "source": [
    "mutations = pd.DataFrame(mr.SNP.value_counts())\n",
    "mutations = mutations.reset_index()\n",
    "mutations.columns = ['SNP', 'counts']\n",
    "mutations.head()"
   ]
  },
  {
   "cell_type": "code",
   "execution_count": 103,
   "metadata": {
    "collapsed": false
   },
   "outputs": [],
   "source": [
    "bi_all, missense, nonsense, silent, total = [], [], [], [], []\n",
    "for gene in mutations.SNP:\n",
    "    bi_all.append(mr[(mr['SNP'] == gene) & mr['Both_Alleles'] == True].count()[0])\n",
    "    missense.append(mr[(mr['SNP'] == gene) & (mr['Variant_Classification'] == 'Missense_Mutation')].count()[0])\n",
    "    nonsense.append(mr[(mr['SNP'] == gene) & (mr['Variant_Classification'] == 'Nonsense_Mutation')].count()[0])\n",
    "    silent.append(mr[(mr['SNP'] == gene) & (mr['Variant_Classification'] == 'Silent')].count()[0])\n",
    "    total.append(mr[mr['SNP'] == gene].count()[0])"
   ]
  },
  {
   "cell_type": "code",
   "execution_count": 104,
   "metadata": {
    "collapsed": false,
    "scrolled": true
   },
   "outputs": [
    {
     "name": "stdout",
     "output_type": "stream",
     "text": [
      "[244, 27, 13, 17, 7, 12, 11, 11, 10, 6]\n",
      "[480, 54, 24, 17, 14, 12, 11, 11, 10, 9]\n",
      "[480, 54, 24, 17, 14, 12, 11, 0, 0, 0]\n",
      "[0, 0, 0, 0, 0, 0, 0, 0, 0, 0]\n"
     ]
    },
    {
     "data": {
      "text/html": [
       "<div style=\"max-height:1000px;max-width:1500px;overflow:auto;\">\n",
       "<table border=\"1\" class=\"dataframe\">\n",
       "  <thead>\n",
       "    <tr style=\"text-align: right;\">\n",
       "      <th></th>\n",
       "      <th>SNP</th>\n",
       "      <th>counts</th>\n",
       "      <th>Perc_Silent</th>\n",
       "      <th>Perc_Nonsense</th>\n",
       "      <th>Perc_Bi_Allelic</th>\n",
       "      <th>Perc_Missense</th>\n",
       "    </tr>\n",
       "  </thead>\n",
       "  <tbody>\n",
       "    <tr>\n",
       "      <th>0</th>\n",
       "      <td>673_140453136</td>\n",
       "      <td>480</td>\n",
       "      <td>0</td>\n",
       "      <td>0</td>\n",
       "      <td>0.508333</td>\n",
       "      <td>1</td>\n",
       "    </tr>\n",
       "    <tr>\n",
       "      <th>1</th>\n",
       "      <td>4893_115256529</td>\n",
       "      <td>54</td>\n",
       "      <td>0</td>\n",
       "      <td>0</td>\n",
       "      <td>0.500000</td>\n",
       "      <td>1</td>\n",
       "    </tr>\n",
       "    <tr>\n",
       "      <th>2</th>\n",
       "      <td>3265_533874</td>\n",
       "      <td>24</td>\n",
       "      <td>0</td>\n",
       "      <td>0</td>\n",
       "      <td>0.541667</td>\n",
       "      <td>1</td>\n",
       "    </tr>\n",
       "    <tr>\n",
       "      <th>3</th>\n",
       "      <td>2312_152280782</td>\n",
       "      <td>17</td>\n",
       "      <td>0</td>\n",
       "      <td>0</td>\n",
       "      <td>1.000000</td>\n",
       "      <td>1</td>\n",
       "    </tr>\n",
       "    <tr>\n",
       "      <th>4</th>\n",
       "      <td>4893_115256530</td>\n",
       "      <td>14</td>\n",
       "      <td>0</td>\n",
       "      <td>0</td>\n",
       "      <td>0.500000</td>\n",
       "      <td>1</td>\n",
       "    </tr>\n",
       "    <tr>\n",
       "      <th>5</th>\n",
       "      <td>5781_112892407</td>\n",
       "      <td>12</td>\n",
       "      <td>0</td>\n",
       "      <td>0</td>\n",
       "      <td>1.000000</td>\n",
       "      <td>1</td>\n",
       "    </tr>\n",
       "    <tr>\n",
       "      <th>6</th>\n",
       "      <td>2312_152281479</td>\n",
       "      <td>11</td>\n",
       "      <td>0</td>\n",
       "      <td>0</td>\n",
       "      <td>1.000000</td>\n",
       "      <td>1</td>\n",
       "    </tr>\n",
       "    <tr>\n",
       "      <th>7</th>\n",
       "      <td>2051_142562074</td>\n",
       "      <td>11</td>\n",
       "      <td>1</td>\n",
       "      <td>0</td>\n",
       "      <td>1.000000</td>\n",
       "      <td>0</td>\n",
       "    </tr>\n",
       "    <tr>\n",
       "      <th>8</th>\n",
       "      <td>7716_56056604</td>\n",
       "      <td>10</td>\n",
       "      <td>1</td>\n",
       "      <td>0</td>\n",
       "      <td>1.000000</td>\n",
       "      <td>0</td>\n",
       "    </tr>\n",
       "    <tr>\n",
       "      <th>9</th>\n",
       "      <td>1176_115238635</td>\n",
       "      <td>9</td>\n",
       "      <td>1</td>\n",
       "      <td>0</td>\n",
       "      <td>0.666667</td>\n",
       "      <td>0</td>\n",
       "    </tr>\n",
       "  </tbody>\n",
       "</table>\n",
       "</div>"
      ],
      "text/plain": [
       "              SNP  counts  Perc_Silent  Perc_Nonsense  Perc_Bi_Allelic  \\\n",
       "0   673_140453136     480            0              0         0.508333   \n",
       "1  4893_115256529      54            0              0         0.500000   \n",
       "2     3265_533874      24            0              0         0.541667   \n",
       "3  2312_152280782      17            0              0         1.000000   \n",
       "4  4893_115256530      14            0              0         0.500000   \n",
       "5  5781_112892407      12            0              0         1.000000   \n",
       "6  2312_152281479      11            0              0         1.000000   \n",
       "7  2051_142562074      11            1              0         1.000000   \n",
       "8   7716_56056604      10            1              0         1.000000   \n",
       "9  1176_115238635       9            1              0         0.666667   \n",
       "\n",
       "   Perc_Missense  \n",
       "0              1  \n",
       "1              1  \n",
       "2              1  \n",
       "3              1  \n",
       "4              1  \n",
       "5              1  \n",
       "6              1  \n",
       "7              0  \n",
       "8              0  \n",
       "9              0  "
      ]
     },
     "execution_count": 104,
     "metadata": {},
     "output_type": "execute_result"
    }
   ],
   "source": [
    "print bi_all[:10]\n",
    "print total[:10]\n",
    "print missense[:10]\n",
    "print nonsense[:10]\n",
    "mutations['Perc_Silent'] = pd.Series(silent)/pd.Series(total)\n",
    "mutations['Perc_Nonsense'] = pd.Series(nonsense)/pd.Series(total)\n",
    "mutations['Perc_Bi_Allelic'] = pd.Series(bi_all)/pd.Series(total)\n",
    "mutations['Perc_Missense'] = pd.Series(missense)/pd.Series(total)\n",
    "mutations.head(10)"
   ]
  },
  {
   "cell_type": "code",
   "execution_count": 105,
   "metadata": {
    "collapsed": true
   },
   "outputs": [],
   "source": [
    "def get_entrez(x):\n",
    "    c = x.split(\"_\")\n",
    "    return c[0]"
   ]
  },
  {
   "cell_type": "code",
   "execution_count": 106,
   "metadata": {
    "collapsed": false
   },
   "outputs": [],
   "source": [
    "# add a column for entrez gene id\n",
    "mutations['Entrez_Gene_Id'] = mutations['SNP'].map(get_entrez)\n",
    "# re-arrange columns\n",
    "mutations = mutations[['SNP', 'counts', 'Entrez_Gene_Id', 'Perc_Bi_Allelic', 'Perc_Missense', 'Perc_Silent', 'Perc_Nonsense']]"
   ]
  },
  {
   "cell_type": "code",
   "execution_count": 107,
   "metadata": {
    "collapsed": true
   },
   "outputs": [],
   "source": [
    "mutations.to_csv('mutations.csv')"
   ]
  },
  {
   "cell_type": "code",
   "execution_count": 8,
   "metadata": {
    "collapsed": false
   },
   "outputs": [
    {
     "data": {
      "text/html": [
       "<div style=\"max-height:1000px;max-width:1500px;overflow:auto;\">\n",
       "<table border=\"1\" class=\"dataframe\">\n",
       "  <thead>\n",
       "    <tr style=\"text-align: right;\">\n",
       "      <th></th>\n",
       "      <th>SNP</th>\n",
       "      <th>counts</th>\n",
       "      <th>Entrez_Gene_Id</th>\n",
       "      <th>Perc_Bi_Allelic</th>\n",
       "      <th>Perc_Missense</th>\n",
       "      <th>Perc_Silent</th>\n",
       "      <th>Perc_Nonsense</th>\n",
       "    </tr>\n",
       "  </thead>\n",
       "  <tbody>\n",
       "    <tr>\n",
       "      <th>0</th>\n",
       "      <td>673_140453136</td>\n",
       "      <td>480</td>\n",
       "      <td>673</td>\n",
       "      <td>0.508333</td>\n",
       "      <td>1</td>\n",
       "      <td>0</td>\n",
       "      <td>0</td>\n",
       "    </tr>\n",
       "    <tr>\n",
       "      <th>1</th>\n",
       "      <td>4893_115256529</td>\n",
       "      <td>54</td>\n",
       "      <td>4893</td>\n",
       "      <td>0.500000</td>\n",
       "      <td>1</td>\n",
       "      <td>0</td>\n",
       "      <td>0</td>\n",
       "    </tr>\n",
       "    <tr>\n",
       "      <th>2</th>\n",
       "      <td>3265_533874</td>\n",
       "      <td>24</td>\n",
       "      <td>3265</td>\n",
       "      <td>0.541667</td>\n",
       "      <td>1</td>\n",
       "      <td>0</td>\n",
       "      <td>0</td>\n",
       "    </tr>\n",
       "    <tr>\n",
       "      <th>3</th>\n",
       "      <td>2312_152280782</td>\n",
       "      <td>17</td>\n",
       "      <td>2312</td>\n",
       "      <td>1.000000</td>\n",
       "      <td>1</td>\n",
       "      <td>0</td>\n",
       "      <td>0</td>\n",
       "    </tr>\n",
       "    <tr>\n",
       "      <th>4</th>\n",
       "      <td>4893_115256530</td>\n",
       "      <td>14</td>\n",
       "      <td>4893</td>\n",
       "      <td>0.500000</td>\n",
       "      <td>1</td>\n",
       "      <td>0</td>\n",
       "      <td>0</td>\n",
       "    </tr>\n",
       "  </tbody>\n",
       "</table>\n",
       "</div>"
      ],
      "text/plain": [
       "              SNP  counts  Entrez_Gene_Id  Perc_Bi_Allelic  Perc_Missense  \\\n",
       "0   673_140453136     480             673         0.508333              1   \n",
       "1  4893_115256529      54            4893         0.500000              1   \n",
       "2     3265_533874      24            3265         0.541667              1   \n",
       "3  2312_152280782      17            2312         1.000000              1   \n",
       "4  4893_115256530      14            4893         0.500000              1   \n",
       "\n",
       "   Perc_Silent  Perc_Nonsense  \n",
       "0            0              0  \n",
       "1            0              0  \n",
       "2            0              0  \n",
       "3            0              0  \n",
       "4            0              0  "
      ]
     },
     "execution_count": 8,
     "metadata": {},
     "output_type": "execute_result"
    }
   ],
   "source": [
    "mutations = pd.read_csv('mutations.csv', index_col=0)\n",
    "mutations.head()"
   ]
  },
  {
   "cell_type": "code",
   "execution_count": 9,
   "metadata": {
    "collapsed": false
   },
   "outputs": [
    {
     "data": {
      "text/plain": [
       "SNP                19951\n",
       "counts             19951\n",
       "Entrez_Gene_Id     19951\n",
       "Perc_Bi_Allelic    19951\n",
       "Perc_Missense      19951\n",
       "Perc_Silent        19951\n",
       "Perc_Nonsense      19951\n",
       "dtype: int64"
      ]
     },
     "execution_count": 9,
     "metadata": {},
     "output_type": "execute_result"
    }
   ],
   "source": [
    "mutations.count()"
   ]
  },
  {
   "cell_type": "markdown",
   "metadata": {},
   "source": [
    "##Adding densities to complete the tcga feature set"
   ]
  },
  {
   "cell_type": "markdown",
   "metadata": {},
   "source": [
    "Let's just start with everything we need."
   ]
  },
  {
   "cell_type": "code",
   "execution_count": 2,
   "metadata": {
    "collapsed": false,
    "scrolled": true
   },
   "outputs": [],
   "source": [
    "mr = pd.read_csv('mr.csv', index_col=0)\n",
    "edges = pickle.load(open(\"edges.p\", 'rb'))\n",
    "mutations = pd.read_csv('mutations.csv', index_col=0)\n",
    "densities = pd.read_csv('density_values.txt', sep=' ', header=None)\n",
    "pc = pd.read_csv('pc.csv', index_col=0)"
   ]
  },
  {
   "cell_type": "code",
   "execution_count": 3,
   "metadata": {
    "collapsed": false
   },
   "outputs": [
    {
     "data": {
      "text/html": [
       "<div style=\"max-height:1000px;max-width:1500px;overflow:auto;\">\n",
       "<table border=\"1\" class=\"dataframe\">\n",
       "  <thead>\n",
       "    <tr style=\"text-align: right;\">\n",
       "      <th></th>\n",
       "      <th>Entrez_Gene_Id</th>\n",
       "      <th>Density</th>\n",
       "    </tr>\n",
       "  </thead>\n",
       "  <tbody>\n",
       "    <tr>\n",
       "      <th>0</th>\n",
       "      <td>673</td>\n",
       "      <td>1298.9</td>\n",
       "    </tr>\n",
       "    <tr>\n",
       "      <th>1</th>\n",
       "      <td>2312</td>\n",
       "      <td>135.1</td>\n",
       "    </tr>\n",
       "    <tr>\n",
       "      <th>2</th>\n",
       "      <td>4893</td>\n",
       "      <td>1736.6</td>\n",
       "    </tr>\n",
       "    <tr>\n",
       "      <th>3</th>\n",
       "      <td>113146</td>\n",
       "      <td>NaN</td>\n",
       "    </tr>\n",
       "    <tr>\n",
       "      <th>4</th>\n",
       "      <td>94025</td>\n",
       "      <td>14.2</td>\n",
       "    </tr>\n",
       "  </tbody>\n",
       "</table>\n",
       "</div>"
      ],
      "text/plain": [
       "   Entrez_Gene_Id  Density\n",
       "0             673   1298.9\n",
       "1            2312    135.1\n",
       "2            4893   1736.6\n",
       "3          113146      NaN\n",
       "4           94025     14.2"
      ]
     },
     "execution_count": 3,
     "metadata": {},
     "output_type": "execute_result"
    }
   ],
   "source": [
    "densities.columns = [\"Entrez_Gene_Id\", \"Density\"]\n",
    "densities.head()"
   ]
  },
  {
   "cell_type": "code",
   "execution_count": 4,
   "metadata": {
    "collapsed": true
   },
   "outputs": [],
   "source": [
    "mutations = pd.merge(mutations, densities, on='Entrez_Gene_Id', how='outer')"
   ]
  },
  {
   "cell_type": "code",
   "execution_count": 5,
   "metadata": {
    "collapsed": false
   },
   "outputs": [
    {
     "data": {
      "text/html": [
       "<div style=\"max-height:1000px;max-width:1500px;overflow:auto;\">\n",
       "<table border=\"1\" class=\"dataframe\">\n",
       "  <thead>\n",
       "    <tr style=\"text-align: right;\">\n",
       "      <th></th>\n",
       "      <th>SNP</th>\n",
       "      <th>Protein_Change</th>\n",
       "    </tr>\n",
       "  </thead>\n",
       "  <tbody>\n",
       "    <tr>\n",
       "      <th>0</th>\n",
       "      <td>342926_53740670</td>\n",
       "      <td>p.G437D</td>\n",
       "    </tr>\n",
       "    <tr>\n",
       "      <th>1</th>\n",
       "      <td>79892_121612707</td>\n",
       "      <td>p.A144_splice</td>\n",
       "    </tr>\n",
       "    <tr>\n",
       "      <th>2</th>\n",
       "      <td>113612_108866315</td>\n",
       "      <td>p.A227V</td>\n",
       "    </tr>\n",
       "    <tr>\n",
       "      <th>3</th>\n",
       "      <td>220388_85396623</td>\n",
       "      <td>p.E184G</td>\n",
       "    </tr>\n",
       "    <tr>\n",
       "      <th>4</th>\n",
       "      <td>26057_73957562</td>\n",
       "      <td>p.P1928L</td>\n",
       "    </tr>\n",
       "  </tbody>\n",
       "</table>\n",
       "</div>"
      ],
      "text/plain": [
       "                SNP Protein_Change\n",
       "0   342926_53740670        p.G437D\n",
       "1   79892_121612707  p.A144_splice\n",
       "2  113612_108866315        p.A227V\n",
       "3   220388_85396623        p.E184G\n",
       "4    26057_73957562       p.P1928L"
      ]
     },
     "execution_count": 5,
     "metadata": {},
     "output_type": "execute_result"
    }
   ],
   "source": [
    "pc.head()"
   ]
  },
  {
   "cell_type": "code",
   "execution_count": 6,
   "metadata": {
    "collapsed": true
   },
   "outputs": [],
   "source": [
    "mutations = pd.merge(mutations, pc, on='SNP', how='outer')\n",
    "mutations = mutations.drop_duplicates()"
   ]
  },
  {
   "cell_type": "code",
   "execution_count": 7,
   "metadata": {
    "collapsed": false,
    "scrolled": true
   },
   "outputs": [
    {
     "data": {
      "text/html": [
       "<div style=\"max-height:1000px;max-width:1500px;overflow:auto;\">\n",
       "<table border=\"1\" class=\"dataframe\">\n",
       "  <thead>\n",
       "    <tr style=\"text-align: right;\">\n",
       "      <th></th>\n",
       "      <th>SNP</th>\n",
       "      <th>counts</th>\n",
       "      <th>Entrez_Gene_Id</th>\n",
       "      <th>Perc_Bi_Allelic</th>\n",
       "      <th>Perc_Missense</th>\n",
       "      <th>Perc_Silent</th>\n",
       "      <th>Perc_Nonsense</th>\n",
       "      <th>Density</th>\n",
       "      <th>Protein_Change</th>\n",
       "    </tr>\n",
       "  </thead>\n",
       "  <tbody>\n",
       "    <tr>\n",
       "      <th>0</th>\n",
       "      <td>673_140453136</td>\n",
       "      <td>480</td>\n",
       "      <td>673</td>\n",
       "      <td>0.508333</td>\n",
       "      <td>1.000000</td>\n",
       "      <td>0.000000</td>\n",
       "      <td>0</td>\n",
       "      <td>1298.9</td>\n",
       "      <td>p.V600E</td>\n",
       "    </tr>\n",
       "    <tr>\n",
       "      <th>248</th>\n",
       "      <td>673_140453135</td>\n",
       "      <td>3</td>\n",
       "      <td>673</td>\n",
       "      <td>0.333333</td>\n",
       "      <td>0.333333</td>\n",
       "      <td>0.666667</td>\n",
       "      <td>0</td>\n",
       "      <td>1298.9</td>\n",
       "      <td>p.V600E</td>\n",
       "    </tr>\n",
       "    <tr>\n",
       "      <th>249</th>\n",
       "      <td>673_140477840</td>\n",
       "      <td>2</td>\n",
       "      <td>673</td>\n",
       "      <td>0.500000</td>\n",
       "      <td>1.000000</td>\n",
       "      <td>0.000000</td>\n",
       "      <td>0</td>\n",
       "      <td>1298.9</td>\n",
       "      <td>NaN</td>\n",
       "    </tr>\n",
       "    <tr>\n",
       "      <th>250</th>\n",
       "      <td>673_140453193</td>\n",
       "      <td>2</td>\n",
       "      <td>673</td>\n",
       "      <td>0.500000</td>\n",
       "      <td>1.000000</td>\n",
       "      <td>0.000000</td>\n",
       "      <td>0</td>\n",
       "      <td>1298.9</td>\n",
       "      <td>NaN</td>\n",
       "    </tr>\n",
       "    <tr>\n",
       "      <th>251</th>\n",
       "      <td>673_140477827</td>\n",
       "      <td>2</td>\n",
       "      <td>673</td>\n",
       "      <td>0.500000</td>\n",
       "      <td>0.000000</td>\n",
       "      <td>0.000000</td>\n",
       "      <td>0</td>\n",
       "      <td>1298.9</td>\n",
       "      <td>p.PTPQQ490del</td>\n",
       "    </tr>\n",
       "    <tr>\n",
       "      <th>252</th>\n",
       "      <td>673_140453134</td>\n",
       "      <td>2</td>\n",
       "      <td>673</td>\n",
       "      <td>0.500000</td>\n",
       "      <td>1.000000</td>\n",
       "      <td>0.000000</td>\n",
       "      <td>0</td>\n",
       "      <td>1298.9</td>\n",
       "      <td>p.K601E</td>\n",
       "    </tr>\n",
       "    <tr>\n",
       "      <th>253</th>\n",
       "      <td>673_140453140</td>\n",
       "      <td>2</td>\n",
       "      <td>673</td>\n",
       "      <td>0.000000</td>\n",
       "      <td>0.000000</td>\n",
       "      <td>0.000000</td>\n",
       "      <td>0</td>\n",
       "      <td>1298.9</td>\n",
       "      <td>p.598_599insKIGDFGLA</td>\n",
       "    </tr>\n",
       "    <tr>\n",
       "      <th>254</th>\n",
       "      <td>673_140453140</td>\n",
       "      <td>2</td>\n",
       "      <td>673</td>\n",
       "      <td>0.000000</td>\n",
       "      <td>0.000000</td>\n",
       "      <td>0.000000</td>\n",
       "      <td>0</td>\n",
       "      <td>1298.9</td>\n",
       "      <td>p.N581_splice</td>\n",
       "    </tr>\n",
       "    <tr>\n",
       "      <th>255</th>\n",
       "      <td>673_140477839</td>\n",
       "      <td>1</td>\n",
       "      <td>673</td>\n",
       "      <td>1.000000</td>\n",
       "      <td>1.000000</td>\n",
       "      <td>0.000000</td>\n",
       "      <td>0</td>\n",
       "      <td>1298.9</td>\n",
       "      <td>NaN</td>\n",
       "    </tr>\n",
       "    <tr>\n",
       "      <th>256</th>\n",
       "      <td>673_140481431</td>\n",
       "      <td>1</td>\n",
       "      <td>673</td>\n",
       "      <td>0.000000</td>\n",
       "      <td>0.000000</td>\n",
       "      <td>1.000000</td>\n",
       "      <td>0</td>\n",
       "      <td>1298.9</td>\n",
       "      <td>p.V459V</td>\n",
       "    </tr>\n",
       "  </tbody>\n",
       "</table>\n",
       "</div>"
      ],
      "text/plain": [
       "               SNP  counts  Entrez_Gene_Id  Perc_Bi_Allelic  Perc_Missense  \\\n",
       "0    673_140453136     480             673         0.508333       1.000000   \n",
       "248  673_140453135       3             673         0.333333       0.333333   \n",
       "249  673_140477840       2             673         0.500000       1.000000   \n",
       "250  673_140453193       2             673         0.500000       1.000000   \n",
       "251  673_140477827       2             673         0.500000       0.000000   \n",
       "252  673_140453134       2             673         0.500000       1.000000   \n",
       "253  673_140453140       2             673         0.000000       0.000000   \n",
       "254  673_140453140       2             673         0.000000       0.000000   \n",
       "255  673_140477839       1             673         1.000000       1.000000   \n",
       "256  673_140481431       1             673         0.000000       0.000000   \n",
       "\n",
       "     Perc_Silent  Perc_Nonsense  Density        Protein_Change  \n",
       "0       0.000000              0   1298.9               p.V600E  \n",
       "248     0.666667              0   1298.9               p.V600E  \n",
       "249     0.000000              0   1298.9                   NaN  \n",
       "250     0.000000              0   1298.9                   NaN  \n",
       "251     0.000000              0   1298.9         p.PTPQQ490del  \n",
       "252     0.000000              0   1298.9               p.K601E  \n",
       "253     0.000000              0   1298.9  p.598_599insKIGDFGLA  \n",
       "254     0.000000              0   1298.9         p.N581_splice  \n",
       "255     0.000000              0   1298.9                   NaN  \n",
       "256     1.000000              0   1298.9               p.V459V  "
      ]
     },
     "execution_count": 7,
     "metadata": {},
     "output_type": "execute_result"
    }
   ],
   "source": [
    "mutations.head(10)"
   ]
  },
  {
   "cell_type": "code",
   "execution_count": 10,
   "metadata": {
    "collapsed": false
   },
   "outputs": [
    {
     "name": "stdout",
     "output_type": "stream",
     "text": [
      "SNP                19984\n",
      "counts             19952\n",
      "Perc_Bi_Allelic    19952\n",
      "Density             8684\n",
      "dtype: int64\n"
     ]
    }
   ],
   "source": [
    "print mutations.count()\n",
    "mutations = mutations[[\"SNP\", \"counts\", \"Perc_Bi_Allelic\", \"Density\"]]"
   ]
  },
  {
   "cell_type": "markdown",
   "metadata": {
    "collapsed": true
   },
   "source": [
    "Add column for amino acid change? Or maybe it's supposed to be elsewhere?"
   ]
  },
  {
   "cell_type": "code",
   "execution_count": 11,
   "metadata": {
    "collapsed": false
   },
   "outputs": [],
   "source": [
    "mutations.to_csv('tcga_feature_vector.csv')"
   ]
  },
  {
   "cell_type": "code",
   "execution_count": null,
   "metadata": {
    "collapsed": true
   },
   "outputs": [],
   "source": []
  }
 ],
 "metadata": {
  "kernelspec": {
   "display_name": "Python 2",
   "language": "python",
   "name": "python2"
  },
  "language_info": {
   "codemirror_mode": {
    "name": "ipython",
    "version": 2
   },
   "file_extension": ".py",
   "mimetype": "text/x-python",
   "name": "python",
   "nbconvert_exporter": "python",
   "pygments_lexer": "ipython2",
   "version": "2.7.5"
  }
 },
 "nbformat": 4,
 "nbformat_minor": 0
}
